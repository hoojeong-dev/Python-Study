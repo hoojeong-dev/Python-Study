{
  "nbformat": 4,
  "nbformat_minor": 0,
  "metadata": {
    "colab": {
      "name": "lab2-4.Segmentation.ipynb",
      "provenance": [],
      "toc_visible": true
    },
    "kernelspec": {
      "name": "python3",
      "display_name": "Python 3"
    }
  },
  "cells": [
    {
      "cell_type": "markdown",
      "metadata": {
        "id": "cYJyupieaVoP"
      },
      "source": [
        "# 2-4 Segmentation"
      ]
    },
    {
      "cell_type": "code",
      "metadata": {
        "id": "0DdKf-mcaQch"
      },
      "source": [
        "!pip3 install --upgrade mxnet-cu101 > /dev/null\r\n",
        "!pip3 install --upgrade gluoncv > /dev/null"
      ],
      "execution_count": null,
      "outputs": []
    },
    {
      "cell_type": "markdown",
      "metadata": {
        "id": "yoAQ_oBswxRJ"
      },
      "source": [
        "## 테스트이미지\r\n",
        "- <img src='https://github.com/karolmajek/Mask_RCNN/blob/master/images/2516944023_d00345997d_z.jpg?raw=true' /> \r\n",
        "\r\n",
        "- <img src='https://github.com/dmlc/web-data/blob/master/gluoncv/detection/biking.jpg?raw=true' width=640 /> \r\n",
        "\r\n",
        "- <img src='https://github.com/karolmajek/Mask_RCNN/blob/master/images/8433365521_9252889f9a_z.jpg?raw=true' />"
      ]
    },
    {
      "cell_type": "markdown",
      "metadata": {
        "id": "mzlH6Vd_afTp"
      },
      "source": [
        "## Instance Segmentation\r\n",
        "- Mask RCNN"
      ]
    },
    {
      "cell_type": "code",
      "metadata": {
        "id": "9Lfhqf8majxP"
      },
      "source": [
        "from matplotlib import pyplot as plt\r\n",
        "from gluoncv import model_zoo, data, utils"
      ],
      "execution_count": null,
      "outputs": []
    },
    {
      "cell_type": "markdown",
      "metadata": {
        "id": "SpZ6BysMzQ50"
      },
      "source": [
        "### Mask RCNN Framework\r\n",
        "<img src='https://www.researchgate.net/publication/337746202/figure/fig2/AS:832550465449984@1575506907034/The-Framework-of-Mask-R-CNN-55.png' width=100% />"
      ]
    },
    {
      "cell_type": "markdown",
      "metadata": {
        "id": "8WMTN4Skw9fC"
      },
      "source": [
        "### model loading"
      ]
    },
    {
      "cell_type": "code",
      "metadata": {
        "id": "D0gE2Febaku3"
      },
      "source": [
        "net = model_zoo.get_model('mask_rcnn_resnet50_v1b_coco', pretrained=True)"
      ],
      "execution_count": null,
      "outputs": []
    },
    {
      "cell_type": "markdown",
      "metadata": {
        "id": "7M3LkjjWw_ux"
      },
      "source": [
        "### image download"
      ]
    },
    {
      "cell_type": "code",
      "metadata": {
        "id": "q2zch3_VamtL"
      },
      "source": [
        "im_fname = utils.download('https://github.com/dmlc/web-data/blob/master/gluoncv/detection/biking.jpg?raw=true',   path='biking.jpg')\r\n",
        "x, orig_img = data.transforms.presets.rcnn.load_test(im_fname)"
      ],
      "execution_count": null,
      "outputs": []
    },
    {
      "cell_type": "markdown",
      "metadata": {
        "id": "Q3GGXWvjxCBl"
      },
      "source": [
        "### inference and display"
      ]
    },
    {
      "cell_type": "code",
      "metadata": {
        "id": "5mJvSe99aoe2"
      },
      "source": [
        "ids, scores, bboxes, masks = [xx[0].asnumpy() for xx in net(x)]\r\n",
        "\r\n",
        "# paint segmentation mask on images directly\r\n",
        "width, height = orig_img.shape[1], orig_img.shape[0]\r\n",
        "masks, _ = utils.viz.expand_mask(masks, bboxes, (width, height), scores)\r\n",
        "orig_img = utils.viz.plot_mask(orig_img, masks)\r\n",
        "\r\n",
        "# identical to Faster RCNN object detection\r\n",
        "fig = plt.figure(figsize=(10, 10))\r\n",
        "ax = fig.add_subplot(1, 1, 1)\r\n",
        "ax = utils.viz.plot_bbox(orig_img, bboxes, scores, ids,\r\n",
        "                         class_names=net.classes, ax=ax)\r\n",
        "plt.show()"
      ],
      "execution_count": null,
      "outputs": []
    },
    {
      "cell_type": "markdown",
      "metadata": {
        "id": "aEmiMTclw5q7"
      },
      "source": [
        "### 처리 함수 정의"
      ]
    },
    {
      "cell_type": "code",
      "metadata": {
        "id": "7l-odU4Zaq8Y"
      },
      "source": [
        "def display_instance_segmentation(model_name, image_filename):\r\n",
        "  import time\r\n",
        "  from matplotlib import pyplot as plt\r\n",
        "  from gluoncv import model_zoo, data, utils\r\n",
        "\r\n",
        "  net = model_zoo.get_model(model_name, pretrained=True)\r\n",
        "\r\n",
        "  tic = time.time()\r\n",
        "  x, orig_img = data.transforms.presets.rcnn.load_test(image_filename)\r\n",
        "\r\n",
        "  ids, scores, bboxes, masks = [xx[0].asnumpy() for xx in net(x)]\r\n",
        "\r\n",
        "  # paint segmentation mask on images directly\r\n",
        "  width, height = orig_img.shape[1], orig_img.shape[0]\r\n",
        "  masks, _ = utils.viz.expand_mask(masks, bboxes, (width, height), scores)\r\n",
        "  orig_img = utils.viz.plot_mask(orig_img, masks)\r\n",
        "\r\n",
        "  # identical to Faster RCNN object detection\r\n",
        "  fig = plt.figure(figsize=(10, 10))\r\n",
        "  ax = fig.add_subplot(1, 1, 1)\r\n",
        "  ax = utils.viz.plot_bbox(orig_img, bboxes, scores, ids,\r\n",
        "                          class_names=net.classes, ax=ax)\r\n",
        "  plt.show()\r\n",
        "  \r\n",
        "  print('process time : {}'.format(time.time() - tic))"
      ],
      "execution_count": null,
      "outputs": []
    },
    {
      "cell_type": "markdown",
      "metadata": {
        "id": "WePN6yruGzd7"
      },
      "source": [
        "### image test"
      ]
    },
    {
      "cell_type": "code",
      "metadata": {
        "id": "hsae1rrIxo9T"
      },
      "source": [
        "im_fname = utils.download('https://github.com/karolmajek/Mask_RCNN/blob/master/images/2516944023_d00345997d_z.jpg?raw=true')\r\n",
        "display_instance_segmentation('mask_rcnn_resnet50_v1b_coco', im_fname)"
      ],
      "execution_count": null,
      "outputs": []
    },
    {
      "cell_type": "code",
      "metadata": {
        "id": "45cjDN_x_V3-"
      },
      "source": [
        "im_fname = utils.download('https://github.com/dmlc/web-data/blob/master/gluoncv/detection/biking.jpg?raw=true')\r\n",
        "display_instance_segmentation('mask_rcnn_resnet50_v1b_coco', im_fname)"
      ],
      "execution_count": null,
      "outputs": []
    },
    {
      "cell_type": "code",
      "metadata": {
        "id": "WwGtXa6Rx0Nz"
      },
      "source": [
        "im_fname = utils.download('https://github.com/karolmajek/Mask_RCNN/blob/master/images/8433365521_9252889f9a_z.jpg?raw=true')\r\n",
        "display_instance_segmentation('mask_rcnn_resnet50_v1b_coco', im_fname)"
      ],
      "execution_count": null,
      "outputs": []
    },
    {
      "cell_type": "markdown",
      "metadata": {
        "id": "Kf-NrLDFEeLe"
      },
      "source": [
        "### [Mark-RCNN-Shiny](https://github.com/huuuuusy/Mask-RCNN-Shiny)\r\n",
        "<img src='https://github.com/huuuuusy/Mask-RCNN-Shiny/blob/master/demo/nikki.gif?raw=true' />"
      ]
    },
    {
      "cell_type": "markdown",
      "metadata": {
        "id": "wbxskfFIyTh_"
      },
      "source": [
        "## Semantic Segmentation - FCN\r\n",
        "- Fully Convolutional Networks"
      ]
    },
    {
      "cell_type": "markdown",
      "metadata": {
        "id": "UEC4LnduEenw"
      },
      "source": [
        "### FCN Framework\r\n",
        "<img src='https://img1.daumcdn.net/thumb/R1280x0/?scode=mtistory2&fname=https%3A%2F%2Fblog.kakaocdn.net%2Fdn%2Fc2rRKu%2FbtqvFhluGR4%2FL0t8Da4wcUNJzkxPmzH6tk%2Fimg.jpg' />"
      ]
    },
    {
      "cell_type": "code",
      "metadata": {
        "id": "vNippA3Qx5Ag"
      },
      "source": [
        "import mxnet as mx\r\n",
        "from mxnet import image\r\n",
        "from mxnet.gluon.data.vision import transforms\r\n",
        "import gluoncv\r\n",
        "# using cpu\r\n",
        "ctx = mx.cpu(0) "
      ],
      "execution_count": null,
      "outputs": []
    },
    {
      "cell_type": "code",
      "metadata": {
        "id": "6Kz2hcqNAnm0"
      },
      "source": [
        "model = gluoncv.model_zoo.get_model('fcn_resnet101_voc', pretrained=True)"
      ],
      "execution_count": null,
      "outputs": []
    },
    {
      "cell_type": "markdown",
      "metadata": {
        "id": "W4dlQ7BiEwzT"
      },
      "source": [
        "### FCN Layers"
      ]
    },
    {
      "cell_type": "code",
      "metadata": {
        "id": "5MM92XkAEzcQ"
      },
      "source": [
        "model.summary"
      ],
      "execution_count": null,
      "outputs": []
    },
    {
      "cell_type": "markdown",
      "metadata": {
        "id": "c5a-YvPWFDpr"
      },
      "source": [
        "### Image Download"
      ]
    },
    {
      "cell_type": "code",
      "metadata": {
        "id": "-7BLqWdUAZzv"
      },
      "source": [
        "im_fname = gluoncv.utils.download('https://github.com/karolmajek/Mask_RCNN/blob/master/images/2516944023_d00345997d_z.jpg?raw=true')"
      ],
      "execution_count": null,
      "outputs": []
    },
    {
      "cell_type": "markdown",
      "metadata": {
        "id": "Ief7A1iIFH1g"
      },
      "source": [
        "### image pre transforming"
      ]
    },
    {
      "cell_type": "code",
      "metadata": {
        "id": "Cg4f--A7Ai3a"
      },
      "source": [
        "img = image.imread(im_fname)\r\n",
        "\r\n",
        "from gluoncv.data.transforms.presets.segmentation import test_transform\r\n",
        "img = test_transform(img, ctx)"
      ],
      "execution_count": null,
      "outputs": []
    },
    {
      "cell_type": "code",
      "metadata": {
        "id": "a9UKYh_qBExT"
      },
      "source": [
        "output = model.predict(img)\r\n",
        "predict = mx.nd.squeeze(mx.nd.argmax(output, 1)).asnumpy()"
      ],
      "execution_count": null,
      "outputs": []
    },
    {
      "cell_type": "code",
      "metadata": {
        "id": "hAHd-uJYBHaH"
      },
      "source": [
        "from gluoncv.utils.viz import get_color_pallete\r\n",
        "import matplotlib.image as mpimg\r\n",
        "mask = get_color_pallete(predict, 'pascal_voc')\r\n",
        "mask.save('output.png')"
      ],
      "execution_count": null,
      "outputs": []
    },
    {
      "cell_type": "code",
      "metadata": {
        "id": "9XPvyypOBiIj"
      },
      "source": [
        "type(mask)"
      ],
      "execution_count": null,
      "outputs": []
    },
    {
      "cell_type": "code",
      "metadata": {
        "id": "IU7gYnAUBJBD"
      },
      "source": [
        "mmask = mpimg.imread('output.png')\r\n",
        "plt.imshow(mmask)\r\n",
        "plt.show()"
      ],
      "execution_count": null,
      "outputs": []
    },
    {
      "cell_type": "markdown",
      "metadata": {
        "id": "lQ04db_kFx6C"
      },
      "source": [
        "### 처리 함수 정의"
      ]
    },
    {
      "cell_type": "code",
      "metadata": {
        "id": "9eh5oTvTBJY3"
      },
      "source": [
        "def display_semantic_segmentation(model_name, image_filename, color_pallete='pascal_voc'):\r\n",
        "  import time\r\n",
        "  import mxnet as mx\r\n",
        "  from mxnet import image\r\n",
        "  from mxnet.gluon.data.vision import transforms\r\n",
        "  from matplotlib import pyplot as plt\r\n",
        "  import gluoncv\r\n",
        "  from gluoncv.utils.viz import get_color_pallete\r\n",
        "  import matplotlib.image as mpimg\r\n",
        "\r\n",
        "  # using cpu\r\n",
        "  ctx = mx.cpu(0) \r\n",
        "\r\n",
        "  # model download\r\n",
        "  model = gluoncv.model_zoo.get_model(model_name, pretrained=True)\r\n",
        "\r\n",
        "  tic = time.time()\r\n",
        "  # image loading\r\n",
        "  img = image.imread(image_filename)\r\n",
        "\r\n",
        "  # image pre transforming\r\n",
        "  from gluoncv.data.transforms.presets.segmentation import test_transform\r\n",
        "  img = test_transform(img, ctx)\r\n",
        "\r\n",
        "  # inference\r\n",
        "  output = model.predict(img)\r\n",
        "  predict = mx.nd.squeeze(mx.nd.argmax(output, 1)).asnumpy()\r\n",
        "\r\n",
        "  # display\r\n",
        "\r\n",
        "  mask = get_color_pallete(predict, color_pallete)\r\n",
        "  mask.save('output.png')\r\n",
        "\r\n",
        "  mmask = mpimg.imread('output.png')\r\n",
        "  plt.imshow(mmask)\r\n",
        "  plt.show()\r\n",
        "  \r\n",
        "  print('process time : {}'.format(time.time() - tic))\r\n"
      ],
      "execution_count": null,
      "outputs": []
    },
    {
      "cell_type": "markdown",
      "metadata": {
        "id": "d7hDIoufGxd6"
      },
      "source": [
        "### image test"
      ]
    },
    {
      "cell_type": "code",
      "metadata": {
        "id": "TWS4RA9fH1EB"
      },
      "source": [
        "import gluoncv"
      ],
      "execution_count": null,
      "outputs": []
    },
    {
      "cell_type": "code",
      "metadata": {
        "id": "vDwy2Jd2_yeR"
      },
      "source": [
        "im_fname = utils.download('https://github.com/karolmajek/Mask_RCNN/blob/master/images/2516944023_d00345997d_z.jpg?raw=true')\r\n",
        "display_semantic_segmentation('fcn_resnet101_voc', im_fname)"
      ],
      "execution_count": null,
      "outputs": []
    },
    {
      "cell_type": "code",
      "metadata": {
        "id": "_eaSoJN7Gmjo"
      },
      "source": [
        "im_fname = gluoncv.utils.download('https://github.com/dmlc/web-data/blob/master/gluoncv/detection/biking.jpg?raw=true')\r\n",
        "display_semantic_segmentation('fcn_resnet101_voc', im_fname)"
      ],
      "execution_count": null,
      "outputs": []
    },
    {
      "cell_type": "code",
      "metadata": {
        "id": "G1j_qcaTG1bx"
      },
      "source": [
        "im_fname = gluoncv.utils.download('https://github.com/karolmajek/Mask_RCNN/blob/master/images/8433365521_9252889f9a_z.jpg?raw=true')\r\n",
        "display_semantic_segmentation('fcn_resnet101_voc', im_fname)"
      ],
      "execution_count": null,
      "outputs": []
    },
    {
      "cell_type": "markdown",
      "metadata": {
        "id": "y9aIOWjRIMIG"
      },
      "source": [
        "## Semantic Segmentation -PSPNet\r\n",
        "- Pyramid Scene Parsing network"
      ]
    },
    {
      "cell_type": "markdown",
      "metadata": {
        "id": "21eX6Z4rLi3b"
      },
      "source": [
        "### PSP Network Framework\r\n",
        "<img src='https://img1.daumcdn.net/thumb/R1280x0/?scode=mtistory2&fname=https%3A%2F%2Fblog.kakaocdn.net%2Fdn%2Fba73Zm%2Fbtqwl64dcBn%2FV6cr71k8IvxQ71J9MmfrM1%2Fimg.png' width=100% />"
      ]
    },
    {
      "cell_type": "code",
      "metadata": {
        "id": "DT0ad-bQLvw6"
      },
      "source": [
        "import mxnet as mx\r\n",
        "from mxnet import image\r\n",
        "from mxnet.gluon.data.vision import transforms\r\n",
        "import gluoncv\r\n",
        "# using cpu\r\n",
        "ctx = mx.cpu(0)"
      ],
      "execution_count": null,
      "outputs": []
    },
    {
      "cell_type": "code",
      "metadata": {
        "id": "v6eOukW3MVTK"
      },
      "source": [
        "model = gluoncv.model_zoo.get_model('psp_resnet101_ade', pretrained=True)"
      ],
      "execution_count": null,
      "outputs": []
    },
    {
      "cell_type": "markdown",
      "metadata": {
        "id": "IUwmkNanMYoB"
      },
      "source": [
        "### psp network layer"
      ]
    },
    {
      "cell_type": "code",
      "metadata": {
        "id": "3NjrWbarMbKL"
      },
      "source": [
        "model.summary"
      ],
      "execution_count": null,
      "outputs": []
    },
    {
      "cell_type": "markdown",
      "metadata": {
        "id": "ok5w55Y9MjQL"
      },
      "source": [
        "### image download"
      ]
    },
    {
      "cell_type": "code",
      "metadata": {
        "id": "ScUZi-CELybD"
      },
      "source": [
        "im_fname = gluoncv.utils.download('https://github.com/karolmajek/Mask_RCNN/blob/master/images/2516944023_d00345997d_z.jpg?raw=true')"
      ],
      "execution_count": null,
      "outputs": []
    },
    {
      "cell_type": "code",
      "metadata": {
        "id": "wpWMbEf1MM2S"
      },
      "source": [
        "img = image.imread(im_fname)"
      ],
      "execution_count": null,
      "outputs": []
    },
    {
      "cell_type": "markdown",
      "metadata": {
        "id": "p76K6A1CMlRZ"
      },
      "source": [
        "### image transform"
      ]
    },
    {
      "cell_type": "code",
      "metadata": {
        "id": "xxGd3SvoH43m"
      },
      "source": [
        "from gluoncv.data.transforms.presets.segmentation import test_transform\r\n",
        "img = test_transform(img, ctx)"
      ],
      "execution_count": null,
      "outputs": []
    },
    {
      "cell_type": "markdown",
      "metadata": {
        "id": "x3ETjY6jM45o"
      },
      "source": [
        "### inference"
      ]
    },
    {
      "cell_type": "code",
      "metadata": {
        "id": "WGPslzcIMqjp"
      },
      "source": [
        "output = model.predict(img)\r\n",
        "predict = mx.nd.squeeze(mx.nd.argmax(output, 1)).asnumpy()"
      ],
      "execution_count": null,
      "outputs": []
    },
    {
      "cell_type": "code",
      "metadata": {
        "id": "NuUP0R6HMxPG"
      },
      "source": [
        "from gluoncv.utils.viz import get_color_pallete\r\n",
        "import matplotlib.image as mpimg\r\n",
        "mask = get_color_pallete(predict, 'ade20k')\r\n",
        "mask.save('output.png')"
      ],
      "execution_count": null,
      "outputs": []
    },
    {
      "cell_type": "code",
      "metadata": {
        "id": "UrwMOtjIM3e1"
      },
      "source": [
        "from matplotlib import pyplot as plt\r\n",
        "mmask = mpimg.imread('output.png')\r\n",
        "plt.imshow(mmask)\r\n",
        "plt.show()"
      ],
      "execution_count": null,
      "outputs": []
    },
    {
      "cell_type": "markdown",
      "metadata": {
        "id": "GbsReMTUNIaT"
      },
      "source": [
        "### image test"
      ]
    },
    {
      "cell_type": "code",
      "metadata": {
        "id": "CMePLQrE_-_z"
      },
      "source": [
        "im_fname = utils.download('https://github.com/karolmajek/Mask_RCNN/blob/master/images/2516944023_d00345997d_z.jpg?raw=true')\r\n",
        "display_semantic_segmentation('psp_resnet101_ade',im_fname, 'ade20k')"
      ],
      "execution_count": null,
      "outputs": []
    },
    {
      "cell_type": "code",
      "metadata": {
        "id": "6K5DMFy0M8OL"
      },
      "source": [
        "im_fname = gluoncv.utils.download('https://github.com/dmlc/web-data/blob/master/gluoncv/detection/biking.jpg?raw=true')\r\n",
        "display_semantic_segmentation('psp_resnet101_ade',im_fname, 'ade20k')"
      ],
      "execution_count": null,
      "outputs": []
    },
    {
      "cell_type": "code",
      "metadata": {
        "id": "n4P84U32NqDz"
      },
      "source": [
        "im_fname = gluoncv.utils.download('https://github.com/karolmajek/Mask_RCNN/blob/master/images/8433365521_9252889f9a_z.jpg?raw=true')\r\n",
        "display_semantic_segmentation('psp_resnet101_ade',im_fname, 'ade20k')"
      ],
      "execution_count": null,
      "outputs": []
    },
    {
      "cell_type": "markdown",
      "metadata": {
        "id": "qt40mwx8Q4i7"
      },
      "source": [
        "## Semantic Segmentation - DeepLabV3"
      ]
    },
    {
      "cell_type": "code",
      "metadata": {
        "id": "gM9kFKsZQ9ME"
      },
      "source": [
        "import mxnet as mx\r\n",
        "from mxnet import image\r\n",
        "from mxnet.gluon.data.vision import transforms\r\n",
        "import gluoncv\r\n",
        "from matplotlib import pyplot as plt\r\n",
        "\r\n",
        "# using cpu\r\n",
        "ctx = mx.cpu(0)"
      ],
      "execution_count": null,
      "outputs": []
    },
    {
      "cell_type": "code",
      "metadata": {
        "id": "swUG83DtRQ2n"
      },
      "source": [
        "model = gluoncv.model_zoo.get_model('deeplab_resnet101_ade', pretrained=True)"
      ],
      "execution_count": null,
      "outputs": []
    },
    {
      "cell_type": "markdown",
      "metadata": {
        "id": "aGt14LtHTL2F"
      },
      "source": [
        "### Deeplab framework\r\n",
        "<img src='https://img1.daumcdn.net/thumb/R1280x0/?scode=mtistory2&fname=https%3A%2F%2Fblog.kakaocdn.net%2Fdn%2Fcw5eBB%2FbtqBMNYTJYZ%2FFhQ4uwqp6TQeotgozZOIlk%2Fimg.png' />"
      ]
    },
    {
      "cell_type": "markdown",
      "metadata": {
        "id": "GLZgrvIlTbLX"
      },
      "source": [
        "### deeplab layer"
      ]
    },
    {
      "cell_type": "code",
      "metadata": {
        "id": "xtOMeADXTauh"
      },
      "source": [
        "model.summary"
      ],
      "execution_count": null,
      "outputs": []
    },
    {
      "cell_type": "markdown",
      "metadata": {
        "id": "ir5LkHpVSMVG"
      },
      "source": [
        "### image download"
      ]
    },
    {
      "cell_type": "code",
      "metadata": {
        "id": "n1mpVZXMQ_lY"
      },
      "source": [
        "im_fname = gluoncv.utils.download('https://github.com/karolmajek/Mask_RCNN/blob/master/images/2516944023_d00345997d_z.jpg?raw=true')"
      ],
      "execution_count": null,
      "outputs": []
    },
    {
      "cell_type": "code",
      "metadata": {
        "id": "NnZfKpe-RFB4"
      },
      "source": [
        "img = image.imread(im_fname)"
      ],
      "execution_count": null,
      "outputs": []
    },
    {
      "cell_type": "markdown",
      "metadata": {
        "id": "6GCpWyLGSOj7"
      },
      "source": [
        "### image pre transforming"
      ]
    },
    {
      "cell_type": "code",
      "metadata": {
        "id": "kuTMpHGhRKlq"
      },
      "source": [
        "from gluoncv.data.transforms.presets.segmentation import test_transform\r\n",
        "img = test_transform(img, ctx)"
      ],
      "execution_count": null,
      "outputs": []
    },
    {
      "cell_type": "markdown",
      "metadata": {
        "id": "Zkk1by9bSTEm"
      },
      "source": [
        "### inference"
      ]
    },
    {
      "cell_type": "code",
      "metadata": {
        "id": "slRq1HEsROsz"
      },
      "source": [
        "output = model.predict(img)\r\n",
        "predict = mx.nd.squeeze(mx.nd.argmax(output, 1)).asnumpy()"
      ],
      "execution_count": null,
      "outputs": []
    },
    {
      "cell_type": "markdown",
      "metadata": {
        "id": "5QRiDG-_SWz0"
      },
      "source": [
        "### display image"
      ]
    },
    {
      "cell_type": "code",
      "metadata": {
        "id": "9m-MntkSRXPn"
      },
      "source": [
        "from gluoncv.utils.viz import get_color_pallete\r\n",
        "import matplotlib.image as mpimg\r\n",
        "mask = get_color_pallete(predict, 'ade20k')\r\n",
        "mask.save('output.png')"
      ],
      "execution_count": null,
      "outputs": []
    },
    {
      "cell_type": "code",
      "metadata": {
        "id": "hUL8gs9MRZFN"
      },
      "source": [
        "mmask = mpimg.imread('output.png')\r\n",
        "plt.imshow(mmask)\r\n",
        "plt.show()"
      ],
      "execution_count": null,
      "outputs": []
    },
    {
      "cell_type": "markdown",
      "metadata": {
        "id": "11SAQ-o5SHmY"
      },
      "source": [
        "### image test"
      ]
    },
    {
      "cell_type": "code",
      "metadata": {
        "id": "wAUlbzOmAgG9"
      },
      "source": [
        "im_fname = gluoncv.utils.download('https://github.com/karolmajek/Mask_RCNN/blob/master/images/2516944023_d00345997d_z.jpg?raw=true')\r\n",
        "display_semantic_segmentation('deeplab_resnet101_ade',im_fname, 'ade20k')"
      ],
      "execution_count": null,
      "outputs": []
    },
    {
      "cell_type": "code",
      "metadata": {
        "id": "Fcw7Z8I7RanZ"
      },
      "source": [
        "im_fname = gluoncv.utils.download('https://github.com/dmlc/web-data/blob/master/gluoncv/detection/biking.jpg?raw=true')\r\n",
        "display_semantic_segmentation('deeplab_resnet101_ade',im_fname, 'ade20k')"
      ],
      "execution_count": null,
      "outputs": []
    },
    {
      "cell_type": "code",
      "metadata": {
        "id": "-2zPD9dKRlHz"
      },
      "source": [
        "im_fname = gluoncv.utils.download('https://github.com/karolmajek/Mask_RCNN/blob/master/images/8433365521_9252889f9a_z.jpg?raw=true')\r\n",
        "display_semantic_segmentation('deeplab_resnet101_ade',im_fname, 'ade20k')"
      ],
      "execution_count": null,
      "outputs": []
    },
    {
      "cell_type": "markdown",
      "metadata": {
        "id": "fI-vAuzrT7Ie"
      },
      "source": [
        "## 실습\r\n",
        "- 아래의 이미지를 각각의 모델로 분석하세요\r\n",
        "- instance Segmentation(Mask RCNN)\r\n",
        "- Semantic Segmentation(FCN, PSPNet, DeepLabv3)\r\n",
        "\r\n",
        "<img src='https://imgnews.pstatic.net/image/077/2020/12/17/PAP20201217074101055_P2_20201217055630293.jpg' />"
      ]
    },
    {
      "cell_type": "code",
      "metadata": {
        "id": "a_EoqnQdRovS"
      },
      "source": [
        ""
      ],
      "execution_count": null,
      "outputs": []
    },
    {
      "cell_type": "markdown",
      "metadata": {
        "id": "O3MaIXYYPELe"
      },
      "source": [
        "## 이미지에 마스크 overlay"
      ]
    },
    {
      "cell_type": "code",
      "metadata": {
        "id": "GZLHzm011gbP"
      },
      "source": [
        "def display_semantic_segmentation_mask(model_name, image_filename, color_pallete='pascal_voc'):\r\n",
        "  import time\r\n",
        "  import mxnet as mx\r\n",
        "  from mxnet import image\r\n",
        "  from mxnet.gluon.data.vision import transforms\r\n",
        "  from matplotlib import pyplot as plt\r\n",
        "  import gluoncv\r\n",
        "  from gluoncv.utils.viz import get_color_pallete\r\n",
        "  import matplotlib.image as mpimg\r\n",
        "\r\n",
        "  # using cpu\r\n",
        "  ctx = mx.cpu(0) \r\n",
        "\r\n",
        "  # model download\r\n",
        "  model = gluoncv.model_zoo.get_model(model_name, pretrained=True)\r\n",
        "\r\n",
        "  tic = time.time()\r\n",
        "  # image loading(원본이미지를 그대로 불러옴.)\r\n",
        "  _, org_image = gluoncv.data.transforms.presets.rcnn.load_test(im_fname)\r\n",
        "  img = mx.nd.array(org_image) \r\n",
        "\r\n",
        "  # image pre transforming\r\n",
        "  from gluoncv.data.transforms.presets.segmentation import test_transform\r\n",
        "  img = test_transform(img, ctx)\r\n",
        "\r\n",
        "  # inference\r\n",
        "  output = model.predict(img)\r\n",
        "  predict = mx.nd.squeeze(mx.nd.argmax(output, 1)).asnumpy()\r\n",
        "\r\n",
        "  # display\r\n",
        "  mask = get_color_pallete(predict, color_pallete)\r\n",
        "  mask.save('output.png')\r\n",
        "  mask_img = image.imread('output.png')\r\n",
        "  \r\n",
        "  #mask image와 원본이미지 합치기 투명도 0.8\r\n",
        "  mask_img = gluoncv.utils.viz.cv_merge_two_images(org_image, mask_img, alpha=0.8)\r\n",
        "\r\n",
        "  # 좌측 원본 우측 합친 이미지 출력\r\n",
        "  fig = plt.figure(figsize=(15,15))\r\n",
        "  ax1 = fig.add_subplot(1,2,1)\r\n",
        "  ax1 = gluoncv.utils.viz.plot_image(org_image, ax=ax1)\r\n",
        "  ax1.set_title('original')\r\n",
        "  ax1.axis(\"off\")\r\n",
        "  ax2 = fig.add_subplot(1,2,2)\r\n",
        "  ax2 = gluoncv.utils.viz.plot_image(mask_img, ax=ax2)\r\n",
        "  ax2.set_title('segmentation')\r\n",
        "  ax2.axis(\"off\")\r\n",
        "  plt.show()\r\n",
        "  \r\n",
        "  print('process time : {}'.format(time.time() - tic))"
      ],
      "execution_count": null,
      "outputs": []
    },
    {
      "cell_type": "markdown",
      "metadata": {
        "id": "D-dIqi86PMkm"
      },
      "source": [
        "### image test"
      ]
    },
    {
      "cell_type": "code",
      "metadata": {
        "id": "uk2hGzLFKkno"
      },
      "source": [
        "im_fname = gluoncv.utils.download('https://github.com/karolmajek/Mask_RCNN/blob/master/images/8433365521_9252889f9a_z.jpg?raw=true')\r\n",
        "display_semantic_segmentation_mask('fcn_resnet101_voc',im_fname, 'pascal_voc')"
      ],
      "execution_count": null,
      "outputs": []
    },
    {
      "cell_type": "code",
      "metadata": {
        "id": "Ypi5uaQI3uvq"
      },
      "source": [
        "im_fname = gluoncv.utils.download('https://github.com/karolmajek/Mask_RCNN/blob/master/images/8433365521_9252889f9a_z.jpg?raw=true')\r\n",
        "display_semantic_segmentation_mask('psp_resnet101_ade',im_fname, 'ade20k')"
      ],
      "execution_count": null,
      "outputs": []
    },
    {
      "cell_type": "code",
      "metadata": {
        "id": "p4BpRsXeNE5j"
      },
      "source": [
        "im_fname = gluoncv.utils.download('https://github.com/dmlc/web-data/blob/master/gluoncv/detection/biking.jpg?raw=true')\r\n",
        "display_semantic_segmentation_mask('fcn_resnet101_voc',im_fname, 'pascal_voc')"
      ],
      "execution_count": null,
      "outputs": []
    },
    {
      "cell_type": "code",
      "metadata": {
        "id": "0Y7y1dJNMz-x"
      },
      "source": [
        "im_fname = gluoncv.utils.download('https://github.com/dmlc/web-data/blob/master/gluoncv/detection/biking.jpg?raw=true')\r\n",
        "display_semantic_segmentation_mask('psp_resnet101_ade',im_fname, 'ade20k')"
      ],
      "execution_count": null,
      "outputs": []
    },
    {
      "cell_type": "code",
      "metadata": {
        "id": "nEZyNGXBAOX-"
      },
      "source": [
        "im_fname = gluoncv.utils.download('https://github.com/dmlc/web-data/blob/master/gluoncv/detection/biking.jpg?raw=true')\r\n",
        "display_semantic_segmentation_mask('deeplab_resnet101_ade',im_fname, 'ade20k')"
      ],
      "execution_count": null,
      "outputs": []
    },
    {
      "cell_type": "code",
      "metadata": {
        "id": "5rtbqIt1HSU-"
      },
      "source": [
        "im_fname = gluoncv.utils.download('https://miro.medium.com/max/700/1*hO_md3xNtcncjAmGrTwxYA.jpeg')\r\n",
        "display_semantic_segmentation_mask('fcn_resnet101_voc',im_fname, 'pascal_voc')"
      ],
      "execution_count": null,
      "outputs": []
    },
    {
      "cell_type": "code",
      "metadata": {
        "id": "OCt1r9K3A3Jt"
      },
      "source": [
        "im_fname = gluoncv.utils.download('https://miro.medium.com/max/700/1*hO_md3xNtcncjAmGrTwxYA.jpeg')\r\n",
        "display_semantic_segmentation_mask('deeplab_resnet101_ade',im_fname, 'ade20k')"
      ],
      "execution_count": null,
      "outputs": []
    },
    {
      "cell_type": "code",
      "metadata": {
        "id": "sKGG758UHQFt"
      },
      "source": [
        "im_fname = gluoncv.utils.download('https://miro.medium.com/max/700/1*hO_md3xNtcncjAmGrTwxYA.jpeg')\r\n",
        "display_semantic_segmentation_mask('psp_resnet101_ade',im_fname, 'ade20k')"
      ],
      "execution_count": null,
      "outputs": []
    }
  ]
}