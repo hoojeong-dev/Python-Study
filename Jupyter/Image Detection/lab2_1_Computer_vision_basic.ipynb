{
 "cells": [
  {
   "cell_type": "markdown",
   "metadata": {
    "id": "OkC133N2Fxew"
   },
   "source": [
    "# 2-1. Computer Vision Basic"
   ]
  },
  {
   "cell_type": "markdown",
   "metadata": {
    "id": "hZ2T-m4VZ2ix"
   },
   "source": [
    "## Computer Vision 종류"
   ]
  },
  {
   "cell_type": "markdown",
   "metadata": {
    "id": "rMHI8s4SZ9R-"
   },
   "source": [
    "### 1. Image Classification\n",
    "- 지원모델\n",
    "  - ResNet, MobileNet, DenseNet, VGG, ...\n",
    "-  <img src='https://cv.gluon.ai/_static/image-classification.png' />"
   ]
  },
  {
   "cell_type": "markdown",
   "metadata": {
    "id": "rEeXqZ41aUYY"
   },
   "source": [
    "### 2. Object Detection\n",
    "- 지원모델\n",
    "  - Faster RCNN, SSD, Yolo-v3\n",
    "- <img src='https://cv.gluon.ai/_static/object-detection.png' />"
   ]
  },
  {
   "cell_type": "markdown",
   "metadata": {
    "id": "oi0Z0r5B9x1L"
   },
   "source": [
    "### 3. Semantic Segmentation\n",
    "- 지원모델\n",
    "  - FCN, PSP, DeepLab_v3\n",
    "- <img src='https://cv.gluon.ai/_static/semantic-segmentation.png' />"
   ]
  },
  {
   "cell_type": "markdown",
   "metadata": {
    "id": "hT-RKgog9_rh"
   },
   "source": [
    "### 4. Instance Segmentation\n",
    "- 지원모델\n",
    "  - Mask RCNN\n",
    "- <img src='https://cv.gluon.ai/_static/instance-segmentation.png' />"
   ]
  },
  {
   "cell_type": "markdown",
   "metadata": {
    "id": "hwWJOAKHA39F"
   },
   "source": [
    "### 5. Pose Estimation\n",
    "- 지원모델\n",
    "  - Simple Pose\n",
    "- <img src='https://cv.gluon.ai/_static/pose-estimation.svg' width=638px   /> \n",
    " "
   ]
  },
  {
   "cell_type": "markdown",
   "metadata": {
    "id": "WwC6YMszBqDq"
   },
   "source": [
    "### 6. Video Action REcognition\n",
    "- 지원모델\n",
    "  - TSN, i3D, Non-local, SlowFast\n",
    "- <img src='https://cv.gluon.ai/_static/action-recognition.png' width=638px />"
   ]
  },
  {
   "cell_type": "markdown",
   "metadata": {
    "id": "_0de6e47ihC2"
   },
   "source": [
    "### 7. Depth Prediction\n",
    "- 지원모델\n",
    "  - Monodepth2\n",
    "- <img src='https://github.com/dmlc/gluon-cv/raw/master/docs/_static/depth.png'  width=638px />"
   ]
  },
  {
   "cell_type": "markdown",
   "metadata": {
    "id": "pCanuyPrjLYs"
   },
   "source": [
    "### 8. Object Tracking\n",
    "- 지원모델\n",
    "  - SiamRPN, SMOT\n",
    "- <img src='https://cv.gluon.ai/_static/smot_demo.gif'  width=638px />\n"
   ]
  },
  {
   "cell_type": "markdown",
   "metadata": {
    "id": "mgAecPWVie3J"
   },
   "source": [
    "--------------------"
   ]
  },
  {
   "cell_type": "markdown",
   "metadata": {
    "id": "eS9l19vt0bsL"
   },
   "source": [
    "## Neural Network"
   ]
  },
  {
   "cell_type": "markdown",
   "metadata": {
    "id": "3ZvMw8foz_UV"
   },
   "source": [
    "- 각각의 화살표마다 가중치값이 적용되며, 학습 시 해당 값에 대하여 값을 설정하면서 학습한다\n",
    "<img src='https://sites.google.com/site/ticketlabdocumentation/_/rsrc/1524654219496/computer-vision/neural_net2.jpeg' width=100%>"
   ]
  },
  {
   "cell_type": "markdown",
   "metadata": {
    "id": "5GtPcPJ_GUNM"
   },
   "source": [
    "## image에서 특징을 추출 하기"
   ]
  },
  {
   "cell_type": "markdown",
   "metadata": {
    "id": "jOImwrhhHSbH"
   },
   "source": [
    "<img src='https://static.news.zumst.com/images/43/2017/08/10/4ef3dd3f75444118b9cfce45fd2a52f7.jpg' >"
   ]
  },
  {
   "cell_type": "markdown",
   "metadata": {
    "id": "FqWkMmlZIhC7"
   },
   "source": [
    "### image download"
   ]
  },
  {
   "cell_type": "code",
   "execution_count": 1,
   "metadata": {
    "id": "AzsYmRK2FniH",
    "scrolled": true
   },
   "outputs": [
    {
     "name": "stderr",
     "output_type": "stream",
     "text": [
      "  % Total    % Received % Xferd  Average Speed   Time    Time     Time  Current\n",
      "                                 Dload  Upload   Total   Spent    Left  Speed\n",
      "\n",
      "  0     0    0     0    0     0      0      0 --:--:-- --:--:-- --:--:--     0\n",
      "  0     0    0     0    0     0      0      0 --:--:-- --:--:-- --:--:--     0\n",
      "100 28540  100 28540    0     0  28540      0  0:00:01 --:--:--  0:00:01  352k\n"
     ]
    }
   ],
   "source": [
    "!curl https://static.news.zumst.com/images/43/2017/08/10/4ef3dd3f75444118b9cfce45fd2a52f7.jpg > son.png"
   ]
  },
  {
   "cell_type": "markdown",
   "metadata": {
    "id": "rqLmUJeWIsZP"
   },
   "source": [
    "### image load"
   ]
  },
  {
   "cell_type": "code",
   "execution_count": 2,
   "metadata": {
    "id": "pA1Z7J2-Hx3l"
   },
   "outputs": [],
   "source": [
    "from keras.preprocessing.image import load_img\n",
    "from keras.preprocessing.image import img_to_array\n",
    "from keras.models import Model\n",
    "\n",
    "# maplotlib.pyplot 모듈은 pyplot 모듈의 각각의 함수를 사용해서 그래프 생성\n",
    "from matplotlib import pyplot\n",
    "from numpy import expand_dims"
   ]
  },
  {
   "cell_type": "code",
   "execution_count": 3,
   "metadata": {
    "id": "_umNs97ne7_N"
   },
   "outputs": [],
   "source": [
    "# 앞에서 다운받은 이미지 로드\n",
    "img_org = load_img('./son.png')"
   ]
  },
  {
   "cell_type": "code",
   "execution_count": 4,
   "metadata": {
    "id": "QTR24swne_di"
   },
   "outputs": [
    {
     "data": {
      "text/plain": [
       "(600, 600, 3)"
      ]
     },
     "execution_count": 4,
     "metadata": {},
     "output_type": "execute_result"
    }
   ],
   "source": [
    "# img_to_array 함수를 사용해서 이미지를 array로 변환\n",
    "# Python OpenCV 라이브러리를 사용해도 가능\n",
    "# array_to_img()는 array를 이미지로 변환\n",
    "img_org = img_to_array(img_org)\n",
    "\n",
    "# 차원 확인 (해상도)\n",
    "img_org.shape\n",
    "\n",
    "# (가로, 세로, RGB값)\n",
    "# 아마 이미지를 배열로 변환하면서 픽셀 이미지로 변경하는 작업인 듯 하다."
   ]
  },
  {
   "cell_type": "code",
   "execution_count": 5,
   "metadata": {
    "id": "zkywVfLsIb3x"
   },
   "outputs": [],
   "source": [
    "# 이미지의 크기를 250x250으로 설정하여 로드\n",
    "img = load_img('./son.png', target_size=(250, 250))"
   ]
  },
  {
   "cell_type": "code",
   "execution_count": 6,
   "metadata": {
    "id": "NvMMDRPvTC_y"
   },
   "outputs": [
    {
     "data": {
      "text/plain": [
       "187500"
      ]
     },
     "execution_count": 6,
     "metadata": {},
     "output_type": "execute_result"
    }
   ],
   "source": [
    "# 해당 이미지의 특징\n",
    "250*250*3"
   ]
  },
  {
   "cell_type": "markdown",
   "metadata": {
    "id": "ltd4hiqmTJQc"
   },
   "source": [
    "특징을 유지한채로 128 개의 array에 담아내기!"
   ]
  },
  {
   "cell_type": "code",
   "execution_count": 7,
   "metadata": {
    "id": "MQylVW_yI2fC"
   },
   "outputs": [
    {
     "data": {
      "text/plain": [
       "PIL.Image.Image"
      ]
     },
     "execution_count": 7,
     "metadata": {},
     "output_type": "execute_result"
    }
   ],
   "source": [
    "# PIL = Python Image Library\n",
    "type(img)"
   ]
  },
  {
   "cell_type": "markdown",
   "metadata": {
    "id": "Rtejkf8NJTIp"
   },
   "source": [
    "### ndarray 형태로 변환"
   ]
  },
  {
   "cell_type": "code",
   "execution_count": 8,
   "metadata": {
    "id": "nU5WWLT4JA7o"
   },
   "outputs": [],
   "source": [
    "# 딥러닝에서 이미지는 주로 ndarray로 다룬다.\n",
    "img = img_to_array(img) "
   ]
  },
  {
   "cell_type": "code",
   "execution_count": 9,
   "metadata": {
    "id": "0VIAlviAJISw"
   },
   "outputs": [
    {
     "data": {
      "text/plain": [
       "numpy.ndarray"
      ]
     },
     "execution_count": 9,
     "metadata": {},
     "output_type": "execute_result"
    }
   ],
   "source": [
    "# 이미지가 ndarray로 변경됨을 확인\n",
    "type(img)"
   ]
  },
  {
   "cell_type": "code",
   "execution_count": 10,
   "metadata": {
    "id": "7TJaIvNMQqh-"
   },
   "outputs": [
    {
     "data": {
      "text/plain": [
       "(250, 250, 3)"
      ]
     },
     "execution_count": 10,
     "metadata": {},
     "output_type": "execute_result"
    }
   ],
   "source": [
    "img.shape"
   ]
  },
  {
   "cell_type": "code",
   "execution_count": 11,
   "metadata": {
    "id": "U53HmXY7JGmw"
   },
   "outputs": [
    {
     "data": {
      "text/plain": [
       "array([[[188., 190., 202.],\n",
       "        [188., 190., 202.],\n",
       "        [188., 190., 202.],\n",
       "        ...,\n",
       "        [171., 174., 183.],\n",
       "        [171., 174., 183.],\n",
       "        [171., 174., 183.]],\n",
       "\n",
       "       [[188., 190., 202.],\n",
       "        [188., 190., 202.],\n",
       "        [188., 190., 202.],\n",
       "        ...,\n",
       "        [171., 174., 183.],\n",
       "        [171., 174., 183.],\n",
       "        [171., 174., 183.]],\n",
       "\n",
       "       [[188., 190., 202.],\n",
       "        [188., 190., 202.],\n",
       "        [188., 190., 202.],\n",
       "        ...,\n",
       "        [171., 174., 183.],\n",
       "        [171., 174., 183.],\n",
       "        [171., 174., 183.]],\n",
       "\n",
       "       ...,\n",
       "\n",
       "       [[195., 199., 208.],\n",
       "        [195., 199., 208.],\n",
       "        [195., 199., 208.],\n",
       "        ...,\n",
       "        [147., 153., 165.],\n",
       "        [147., 153., 165.],\n",
       "        [146., 152., 164.]],\n",
       "\n",
       "       [[195., 199., 208.],\n",
       "        [195., 199., 208.],\n",
       "        [195., 199., 208.],\n",
       "        ...,\n",
       "        [147., 153., 165.],\n",
       "        [147., 153., 165.],\n",
       "        [146., 152., 164.]],\n",
       "\n",
       "       [[195., 199., 208.],\n",
       "        [195., 199., 208.],\n",
       "        [195., 199., 208.],\n",
       "        ...,\n",
       "        [147., 153., 165.],\n",
       "        [147., 153., 165.],\n",
       "        [146., 152., 164.]]], dtype=float32)"
      ]
     },
     "execution_count": 11,
     "metadata": {},
     "output_type": "execute_result"
    }
   ],
   "source": [
    "img"
   ]
  },
  {
   "cell_type": "markdown",
   "metadata": {
    "id": "xaZqDNX8hs_V"
   },
   "source": [
    "- normallize(0~1)"
   ]
  },
  {
   "cell_type": "code",
   "execution_count": 12,
   "metadata": {
    "id": "HiB975E2Z8Mo"
   },
   "outputs": [],
   "source": [
    "# 0부터 1까지의 데이터를 ......\n",
    "img /= 255."
   ]
  },
  {
   "cell_type": "code",
   "execution_count": 13,
   "metadata": {
    "id": "Vkox_iRKZ_FI"
   },
   "outputs": [
    {
     "data": {
      "text/plain": [
       "array([[[0.7372549 , 0.74509805, 0.7921569 ],\n",
       "        [0.7372549 , 0.74509805, 0.7921569 ],\n",
       "        [0.7372549 , 0.74509805, 0.7921569 ],\n",
       "        ...,\n",
       "        [0.67058825, 0.68235296, 0.7176471 ],\n",
       "        [0.67058825, 0.68235296, 0.7176471 ],\n",
       "        [0.67058825, 0.68235296, 0.7176471 ]],\n",
       "\n",
       "       [[0.7372549 , 0.74509805, 0.7921569 ],\n",
       "        [0.7372549 , 0.74509805, 0.7921569 ],\n",
       "        [0.7372549 , 0.74509805, 0.7921569 ],\n",
       "        ...,\n",
       "        [0.67058825, 0.68235296, 0.7176471 ],\n",
       "        [0.67058825, 0.68235296, 0.7176471 ],\n",
       "        [0.67058825, 0.68235296, 0.7176471 ]],\n",
       "\n",
       "       [[0.7372549 , 0.74509805, 0.7921569 ],\n",
       "        [0.7372549 , 0.74509805, 0.7921569 ],\n",
       "        [0.7372549 , 0.74509805, 0.7921569 ],\n",
       "        ...,\n",
       "        [0.67058825, 0.68235296, 0.7176471 ],\n",
       "        [0.67058825, 0.68235296, 0.7176471 ],\n",
       "        [0.67058825, 0.68235296, 0.7176471 ]],\n",
       "\n",
       "       ...,\n",
       "\n",
       "       [[0.7647059 , 0.78039217, 0.8156863 ],\n",
       "        [0.7647059 , 0.78039217, 0.8156863 ],\n",
       "        [0.7647059 , 0.78039217, 0.8156863 ],\n",
       "        ...,\n",
       "        [0.5764706 , 0.6       , 0.64705884],\n",
       "        [0.5764706 , 0.6       , 0.64705884],\n",
       "        [0.57254905, 0.59607846, 0.6431373 ]],\n",
       "\n",
       "       [[0.7647059 , 0.78039217, 0.8156863 ],\n",
       "        [0.7647059 , 0.78039217, 0.8156863 ],\n",
       "        [0.7647059 , 0.78039217, 0.8156863 ],\n",
       "        ...,\n",
       "        [0.5764706 , 0.6       , 0.64705884],\n",
       "        [0.5764706 , 0.6       , 0.64705884],\n",
       "        [0.57254905, 0.59607846, 0.6431373 ]],\n",
       "\n",
       "       [[0.7647059 , 0.78039217, 0.8156863 ],\n",
       "        [0.7647059 , 0.78039217, 0.8156863 ],\n",
       "        [0.7647059 , 0.78039217, 0.8156863 ],\n",
       "        ...,\n",
       "        [0.5764706 , 0.6       , 0.64705884],\n",
       "        [0.5764706 , 0.6       , 0.64705884],\n",
       "        [0.57254905, 0.59607846, 0.6431373 ]]], dtype=float32)"
      ]
     },
     "execution_count": 13,
     "metadata": {},
     "output_type": "execute_result"
    }
   ],
   "source": [
    "img"
   ]
  },
  {
   "cell_type": "markdown",
   "metadata": {
    "id": "W5cLB5m-ilQZ"
   },
   "source": [
    "### 변환된 데이터를 pyplot으로 확인하기"
   ]
  },
  {
   "cell_type": "code",
   "execution_count": 14,
   "metadata": {
    "id": "ka7bVIlfJHfI"
   },
   "outputs": [],
   "source": [
    "import matplotlib.pyplot as plt"
   ]
  },
  {
   "cell_type": "code",
   "execution_count": 15,
   "metadata": {
    "id": "SrdNc11fOC11"
   },
   "outputs": [],
   "source": [
    "# set figure size\n",
    "plt.rcParams['figure.figsize'] = (10, 10)"
   ]
  },
  {
   "cell_type": "code",
   "execution_count": 16,
   "metadata": {
    "id": "3P02IHa9OGEd"
   },
   "outputs": [
    {
     "data": {
      "image/png": "[encoded data removed]",
      "text/plain": [
       "<Figure size 720x720 with 1 Axes>"
      ]
     },
     "metadata": {
      "needs_background": "light"
     },
     "output_type": "display_data"
    }
   ],
   "source": [
    "# 변환한 데이터 출력\n",
    "plt.imshow(img)\n",
    "plt.show()"
   ]
  },
  {
   "cell_type": "markdown",
   "metadata": {
    "id": "37sM9sZnUDge"
   },
   "source": [
    "### convolution"
   ]
  },
  {
   "cell_type": "code",
   "execution_count": 33,
   "metadata": {
    "id": "x6lfzsUZUVFS"
   },
   "outputs": [],
   "source": [
    "import tensorflow as tf\n",
    "import numpy as np\n",
    "from tensorflow.keras import datasets, layers, models"
   ]
  },
  {
   "cell_type": "markdown",
   "metadata": {
    "id": "AMvmiPZud-xc"
   },
   "source": [
    "- input_shape 과 마지막 layer의 shape이 중요합니다"
   ]
  },
  {
   "cell_type": "markdown",
   "metadata": {
    "id": "aXzWBCrybRUf"
   },
   "source": [
    "<img src='https://cezannec.github.io/assets/cnn_intro/CNN_ex.png' width=100% />"
   ]
  },
  {
   "cell_type": "code",
   "execution_count": null,
   "metadata": {
    "id": "YZbLeOkDOeJZ"
   },
   "outputs": [],
   "source": [
    "model = models.Sequential() \n",
    "model.add(layers.InputLayer(input_shape=(250,250,3)))\n",
    "model.add(layers.Conv2D(32, (3, 3), activation='relu'))\n",
    "model.add(layers.MaxPooling2D((2, 2)))\n",
    "model.add(layers.Conv2D(64, (3, 3), activation='relu'))\n",
    "model.add(layers.MaxPooling2D((2, 2)))\n",
    "model.add(layers.Flatten())\n",
    "model.add(layers.Dense(128, activation='relu'))"
   ]
  },
  {
   "cell_type": "code",
   "execution_count": null,
   "metadata": {
    "id": "QGY_URMFUQW7"
   },
   "outputs": [],
   "source": [
    "model.summary()"
   ]
  },
  {
   "cell_type": "code",
   "execution_count": null,
   "metadata": {
    "id": "EHE6QDvXV8NO"
   },
   "outputs": [],
   "source": [
    "img = expand_dims(img, axis=0)"
   ]
  },
  {
   "cell_type": "code",
   "execution_count": null,
   "metadata": {
    "id": "Zz-OJ0bMhwdi"
   },
   "outputs": [],
   "source": [
    "img.shape"
   ]
  },
  {
   "cell_type": "markdown",
   "metadata": {
    "id": "JpL3SBU9YEIU"
   },
   "source": [
    "- 참고 : [how-to-visualize-filters-and-feature-maps-in-convolutional-neural-networks](https://machinelearningmastery.com/how-to-visualize-filters-and-feature-maps-in-convolutional-neural-networks/)"
   ]
  },
  {
   "cell_type": "code",
   "execution_count": null,
   "metadata": {
    "id": "boeewux8YkUz"
   },
   "outputs": [],
   "source": [
    "feature_maps = model.predict(img)"
   ]
  },
  {
   "cell_type": "code",
   "execution_count": null,
   "metadata": {
    "id": "wbhc12rVZAkd"
   },
   "outputs": [],
   "source": [
    "feature_maps.shape"
   ]
  },
  {
   "cell_type": "code",
   "execution_count": null,
   "metadata": {
    "id": "yg1hdbKCZCzz"
   },
   "outputs": [],
   "source": [
    "feature_maps.reshape(128)"
   ]
  },
  {
   "cell_type": "markdown",
   "metadata": {
    "id": "vQodk0G7d0w4"
   },
   "source": [
    "### 분류기 만들기"
   ]
  },
  {
   "cell_type": "code",
   "execution_count": null,
   "metadata": {
    "id": "Iq4re-cKbJmE"
   },
   "outputs": [],
   "source": [
    "model2 = models.Sequential()\n",
    "model2.add(layers.InputLayer(input_shape=(250, 250, 3)))\n",
    "model2.add(layers.Conv2D(32, (3, 3), activation='relu'))\n",
    "model2.add(layers.MaxPooling2D((2, 2)))\n",
    "model2.add(layers.Conv2D(64, (3, 3), activation='relu'))\n",
    "model2.add(layers.MaxPooling2D((2, 2))) \n",
    "model2.add(layers.Flatten()) \n",
    "model2.add(layers.Dense(10, activation='softmax'))"
   ]
  },
  {
   "cell_type": "code",
   "execution_count": null,
   "metadata": {
    "id": "oGS2zj2ibOYv"
   },
   "outputs": [],
   "source": [
    "feature_maps2 = model2.predict(img)"
   ]
  },
  {
   "cell_type": "code",
   "execution_count": null,
   "metadata": {
    "id": "sGpLjdMPiFJF"
   },
   "outputs": [],
   "source": [
    "feature_maps2.shape"
   ]
  },
  {
   "cell_type": "code",
   "execution_count": null,
   "metadata": {
    "id": "GRj4CHeKbR3B"
   },
   "outputs": [],
   "source": [
    "feature_maps2.reshape(10)"
   ]
  },
  {
   "cell_type": "markdown",
   "metadata": {
    "id": "Jhk_gF7TjxYy"
   },
   "source": [
    "## 기존의 모델을 이용하여 특징 추출하기\n",
    "- [keras available models](https://keras.io/api/applications/)\n",
    "- [imagenet](http://www.image-net.org/)\n",
    "- [imagenet models architecture](https://www.researchgate.net/profile/Tiago_Carvalho13/publication/330478807/figure/fig1/AS:756995804110849@1557493272678/VGG16-VGG19-Inception-V3-Xception-and-ResNet-50-architectures.ppm)"
   ]
  },
  {
   "cell_type": "markdown",
   "metadata": {
    "id": "FuuQ0cZokhKm"
   },
   "source": [
    "### resnet50"
   ]
  },
  {
   "cell_type": "code",
   "execution_count": null,
   "metadata": {
    "id": "EX1UlBiibS8Y"
   },
   "outputs": [],
   "source": [
    "from keras.applications.resnet50 import ResNet50\n",
    "from keras.applications.resnet50 import preprocess_input as resnet50_preprocessing\n",
    "from keras.applications.resnet50 import decode_predictions as resnet50_decode"
   ]
  },
  {
   "cell_type": "markdown",
   "metadata": {
    "id": "7R7lX8rGoMnQ"
   },
   "source": [
    "#### residual network\n",
    "<img src='https://miro.medium.com/max/546/1*5zSgo2L71FJos8XendgCvQ.jpeg' />"
   ]
  },
  {
   "cell_type": "markdown",
   "metadata": {
    "id": "K9RQStqJpwVR"
   },
   "source": [
    "#### resnet50 framework\n",
    "<img src='https://www.medrxiv.org/content/medrxiv/early/2020/11/12/2020.11.08.20227819/F3.large.jpg?width=800&height=600&carousel=1'>"
   ]
  },
  {
   "cell_type": "markdown",
   "metadata": {
    "id": "Zbk7FO0UksWD"
   },
   "source": [
    "#### resnet50 layers\n",
    "<img src='https://iq.opengenus.org/content/images/2020/03/Screenshot-from-2020-03-20-15-49-54.png' width=100% />\n",
    "  - FLOPs = Floating point operations"
   ]
  },
  {
   "cell_type": "code",
   "execution_count": null,
   "metadata": {
    "id": "g_VoCRQsg8p_"
   },
   "outputs": [],
   "source": [
    "model_resnet_50 = ResNet50()"
   ]
  },
  {
   "cell_type": "markdown",
   "metadata": {
    "id": "OMjJDZ7Bkkar"
   },
   "source": [
    "#### image test"
   ]
  },
  {
   "cell_type": "code",
   "execution_count": null,
   "metadata": {
    "id": "R4qqIhwSqZl7"
   },
   "outputs": [],
   "source": [
    "!curl https://sbybiz.org/app/uploads/2014/06/soccer-ball-300x200.jpg > ball.jpg"
   ]
  },
  {
   "cell_type": "markdown",
   "metadata": {
    "id": "7F02XTcQqkd_"
   },
   "source": [
    "<img src=\"https://sbybiz.org/app/uploads/2014/06/soccer-ball-300x200.jpg\" />"
   ]
  },
  {
   "cell_type": "code",
   "execution_count": null,
   "metadata": {
    "id": "Y8MsdfkUhGAo"
   },
   "outputs": [],
   "source": [
    "img = load_img('./ball.jpg', target_size=(224, 224))\n",
    "x = img_to_array(img)\n",
    "x = np.expand_dims(x, axis=0)\n",
    "x = resnet50_preprocessing(x)"
   ]
  },
  {
   "cell_type": "code",
   "execution_count": null,
   "metadata": {
    "id": "SuNdmcSAkoyG"
   },
   "outputs": [],
   "source": [
    "preds_resnet_50 = model_resnet_50.predict(x)"
   ]
  },
  {
   "cell_type": "code",
   "execution_count": null,
   "metadata": {
    "id": "wf8CPKxMlXLG"
   },
   "outputs": [],
   "source": [
    "print('predicated:', resnet50_decode(preds_resnet_50, top=3)[0])"
   ]
  },
  {
   "cell_type": "markdown",
   "metadata": {
    "id": "Ycd8e7gAtX2h"
   },
   "source": [
    "### VGG16"
   ]
  },
  {
   "cell_type": "code",
   "execution_count": null,
   "metadata": {
    "id": "dP-DQmWVloZl"
   },
   "outputs": [],
   "source": [
    "from tensorflow.keras.applications.vgg16 import VGG16\n",
    "from tensorflow.keras.preprocessing import image\n",
    "from tensorflow.keras.applications.vgg16 import preprocess_input, decode_predictions\n",
    "import numpy as np"
   ]
  },
  {
   "cell_type": "code",
   "execution_count": null,
   "metadata": {
    "id": "Pem77tnvtcur"
   },
   "outputs": [],
   "source": [
    "model_vgg16 = VGG16(weights='imagenet')"
   ]
  },
  {
   "cell_type": "markdown",
   "metadata": {
    "id": "HbbbaRY3md2R"
   },
   "source": [
    "#### VGG16 architecture\n",
    "<img src='https://neurohive.io/wp-content/uploads/2018/11/vgg16-neural-network.jpg' width=100% />"
   ]
  },
  {
   "cell_type": "markdown",
   "metadata": {
    "id": "AqD4fAEnqD_I"
   },
   "source": [
    "#### VGG16 layers\n",
    "<img src='https://neurohive.io/wp-content/uploads/2018/11/Capture-564x570.jpg'   />"
   ]
  },
  {
   "cell_type": "code",
   "execution_count": null,
   "metadata": {
    "id": "sdwPirFdttkN"
   },
   "outputs": [],
   "source": [
    "img_path = './ball.jpg'\n",
    "img = image.load_img(img_path, target_size=(224, 224))"
   ]
  },
  {
   "cell_type": "code",
   "execution_count": null,
   "metadata": {
    "id": "75czL84Rturg"
   },
   "outputs": [],
   "source": [
    "x = image.img_to_array(img)\n",
    "x = np.expand_dims(x, axis=0)\n",
    "x = preprocess_input(x)"
   ]
  },
  {
   "cell_type": "code",
   "execution_count": null,
   "metadata": {
    "id": "Um_iU9hftwFz"
   },
   "outputs": [],
   "source": [
    "preds_vgg16 = model_vgg16.predict(x)"
   ]
  },
  {
   "cell_type": "code",
   "execution_count": null,
   "metadata": {
    "id": "dfO3uuVQvnFL"
   },
   "outputs": [],
   "source": [
    "preds_vgg16.shape"
   ]
  },
  {
   "cell_type": "code",
   "execution_count": null,
   "metadata": {
    "id": "4F28pTqLtwtr"
   },
   "outputs": [],
   "source": [
    "# decode_predictions(features[0])\n",
    "print('predicated:', decode_predictions(preds_vgg16, top=3)[0])"
   ]
  },
  {
   "cell_type": "markdown",
   "metadata": {
    "id": "tScP4w8avJmv"
   },
   "source": [
    "### VGG16 custom - top(분류부분) 제거"
   ]
  },
  {
   "cell_type": "code",
   "execution_count": null,
   "metadata": {
    "id": "Z7eLR72Vt7aJ"
   },
   "outputs": [],
   "source": [
    "model_vgg16_custom = VGG16(weights='imagenet', include_top=False)"
   ]
  },
  {
   "cell_type": "code",
   "execution_count": null,
   "metadata": {
    "id": "0kytvVSHvYcD"
   },
   "outputs": [],
   "source": [
    "model_vgg16_custom.summary()"
   ]
  },
  {
   "cell_type": "code",
   "execution_count": null,
   "metadata": {
    "id": "Uytmqq8DvahY"
   },
   "outputs": [],
   "source": [
    "preds_vgg16_custom = model_vgg16_custom.predict(x)"
   ]
  },
  {
   "cell_type": "code",
   "execution_count": null,
   "metadata": {
    "id": "znjRojpXvuHR"
   },
   "outputs": [],
   "source": [
    "preds_vgg16_custom.shape"
   ]
  },
  {
   "cell_type": "markdown",
   "metadata": {
    "id": "K9m7b_REmRex"
   },
   "source": [
    "### VGG16 custom - 원하는 layer 출력까지만 "
   ]
  },
  {
   "cell_type": "code",
   "execution_count": null,
   "metadata": {
    "id": "foHFeI1kvwBG"
   },
   "outputs": [],
   "source": [
    "model_vgg16 = VGG16(weights='imagenet')\n",
    "model_vgg16_custom_fc2 = Model(inputs=model_vgg16.input, outputs=model_vgg16.get_layer('fc2').output)"
   ]
  },
  {
   "cell_type": "code",
   "execution_count": null,
   "metadata": {
    "id": "oAFnCORtl7YC"
   },
   "outputs": [],
   "source": [
    "model_vgg16_custom_fc2.summary()"
   ]
  },
  {
   "cell_type": "code",
   "execution_count": null,
   "metadata": {
    "id": "YFhfLPH8mJdJ"
   },
   "outputs": [],
   "source": [
    "features_custom_fc2 = model_vgg16_custom_fc2.predict(x)"
   ]
  },
  {
   "cell_type": "code",
   "execution_count": null,
   "metadata": {
    "id": "4DbgO1UhmwNQ"
   },
   "outputs": [],
   "source": [
    "features_custom_fc2.shape"
   ]
  },
  {
   "cell_type": "markdown",
   "metadata": {
    "id": "C3Kp9-k5nBh6"
   },
   "source": [
    "### VGG16 custom - 10개 추출"
   ]
  },
  {
   "cell_type": "code",
   "execution_count": null,
   "metadata": {
    "id": "uwlEl3EBnZWY"
   },
   "outputs": [],
   "source": [
    "from tensorflow.keras.layers import Dense"
   ]
  },
  {
   "cell_type": "markdown",
   "metadata": {
    "id": "GPzPYmX7oHJN"
   },
   "source": [
    "#### base layer"
   ]
  },
  {
   "cell_type": "code",
   "execution_count": null,
   "metadata": {
    "id": "y27DwOg_nBNu"
   },
   "outputs": [],
   "source": [
    "model_vgg16 = VGG16(weights='imagenet')\n",
    "model_vgg16_custom_fc2 = Model(inputs=model_vgg16.input, outputs=model_vgg16.get_layer('fc2').output)"
   ]
  },
  {
   "cell_type": "markdown",
   "metadata": {
    "id": "ms4MEPxdoDuZ"
   },
   "source": [
    "#### output layer design"
   ]
  },
  {
   "cell_type": "code",
   "execution_count": null,
   "metadata": {
    "id": "9X2Hi9Wxoath"
   },
   "outputs": [],
   "source": [
    "x = model_vgg16_custom_fc2.output"
   ]
  },
  {
   "cell_type": "code",
   "execution_count": null,
   "metadata": {
    "id": "Ba8g1UQ7m9HW"
   },
   "outputs": [],
   "source": [
    "x = Dense(512, activation='relu')(x)"
   ]
  },
  {
   "cell_type": "code",
   "execution_count": null,
   "metadata": {
    "id": "ohfukypSnytE"
   },
   "outputs": [],
   "source": [
    "x = Dense(64, activation='relu')(x)"
   ]
  },
  {
   "cell_type": "code",
   "execution_count": null,
   "metadata": {
    "id": "uoZnN5GnnhJO"
   },
   "outputs": [],
   "source": [
    "predictions = Dense(10, activation='softmax')(x)"
   ]
  },
  {
   "cell_type": "code",
   "execution_count": null,
   "metadata": {
    "id": "oYKQhaqPnkif"
   },
   "outputs": [],
   "source": [
    "model_vgg16_custom_class10 = Model(inputs=model_vgg16_custom_fc2.input, outputs=predictions)"
   ]
  },
  {
   "cell_type": "code",
   "execution_count": null,
   "metadata": {
    "id": "79340OxFp7wj"
   },
   "outputs": [],
   "source": [
    "model_vgg16_custom_class10.summary()"
   ]
  },
  {
   "cell_type": "markdown",
   "metadata": {
    "id": "6qqDtUYQoka_"
   },
   "source": [
    "### 학습필요\n",
    "- 새로 추가된 output layer에 대해서는 학습된 데이터가 없습니다\n",
    "- 이런 형태의 학습을 transfer learning  이라고 합니다"
   ]
  },
  {
   "cell_type": "markdown",
   "metadata": {
    "id": "XiQjtWaWo_lg"
   },
   "source": [
    "1. 기존에 존재하던 layer는 별도 학습되지않도록 설정"
   ]
  },
  {
   "cell_type": "code",
   "execution_count": null,
   "metadata": {
    "id": "Lfb5NE77oLq9"
   },
   "outputs": [],
   "source": [
    "for layer in model_vgg16_custom_fc2.layers:\n",
    "    layer.trainable = False"
   ]
  },
  {
   "cell_type": "markdown",
   "metadata": {
    "id": "Z-q8QohlpQfS"
   },
   "source": [
    "2. 모델을 compile(초기화) 해 줍니다"
   ]
  },
  {
   "cell_type": "code",
   "execution_count": null,
   "metadata": {
    "id": "jYmWcfpTpJzr"
   },
   "outputs": [],
   "source": [
    "model_vgg16_custom_class10.compile(optimizer='rmsprop', loss='categorical_crossentropy')"
   ]
  },
  {
   "cell_type": "markdown",
   "metadata": {
    "id": "ReRnvj4npXt8"
   },
   "source": [
    "3. 데이터들을 준비해서 학습해주는 과정이 필요합니다\n",
    "  - 10개의 class를 정의했으니 10개의 유형의 데이터를 준비해서 \n",
    "  - 학습시킵니다"
   ]
  },
  {
   "cell_type": "code",
   "execution_count": null,
   "metadata": {
    "id": "QzvwFZGgpTrN"
   },
   "outputs": [],
   "source": [
    "# model_vgg16_custom_class10.fit(...)"
   ]
  },
  {
   "cell_type": "markdown",
   "metadata": {
    "id": "O9YxqTetpu78"
   },
   "source": [
    "4. 학습이 다 되면 사용하면 됩니다"
   ]
  },
  {
   "cell_type": "code",
   "execution_count": null,
   "metadata": {
    "id": "NrTgcNmip1Ho"
   },
   "outputs": [],
   "source": [
    "# features_custom_class10 = model_vgg16_custom_class10.predict(x)"
   ]
  }
 ],
 "metadata": {
  "colab": {
   "collapsed_sections": [],
   "name": "lab2-1.Computer_vision_basic.ipynb",
   "provenance": [],
   "toc_visible": true
  },
  "kernelspec": {
   "display_name": "Python 3",
   "language": "python",
   "name": "python3"
  },
  "language_info": {
   "codemirror_mode": {
    "name": "ipython",
    "version": 3
   },
   "file_extension": ".py",
   "mimetype": "text/x-python",
   "name": "python",
   "nbconvert_exporter": "python",
   "pygments_lexer": "ipython3",
   "version": "3.7.9"
  }
 },
 "nbformat": 4,
 "nbformat_minor": 1
}
