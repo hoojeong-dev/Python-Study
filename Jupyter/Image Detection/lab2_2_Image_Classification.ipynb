{
  "nbformat": 4,
  "nbformat_minor": 0,
  "metadata": {
    "colab": {
      "name": "lab2-2.Image_Classification.ipynb",
      "provenance": [],
      "collapsed_sections": [],
      "toc_visible": true
    },
    "kernelspec": {
      "name": "python3",
      "display_name": "Python 3"
    }
  },
  "cells": [
    {
      "cell_type": "markdown",
      "metadata": {
        "id": "IcP65hf6ybEm"
      },
      "source": [
        "# 2-2. Image Classification with GluonCV"
      ]
    },
    {
      "cell_type": "markdown",
      "metadata": {
        "id": "eaSpq-87WdsH"
      },
      "source": [
        "## gluon-cv\r\n",
        "<img src='https://cv.gluon.ai/_static/short_demo.gif' width=100% />"
      ]
    },
    {
      "cell_type": "markdown",
      "metadata": {
        "id": "S8o2FBaXFm6S"
      },
      "source": [
        "### install\r\n",
        "- [참고](https://cv.gluon.ai/contents.html#installation)"
      ]
    },
    {
      "cell_type": "markdown",
      "metadata": {
        "id": "-UMTq7ycqbih"
      },
      "source": [
        "### cpu only version install"
      ]
    },
    {
      "cell_type": "code",
      "metadata": {
        "id": "GOPwRvriGDHz"
      },
      "source": [
        "# cpu only\r\n",
        "# !pip3 install --upgrade mxnet > /dev/null"
      ],
      "execution_count": null,
      "outputs": []
    },
    {
      "cell_type": "markdown",
      "metadata": {
        "id": "8Y6zwRq1qeeJ"
      },
      "source": [
        "### gpu version install\r\n",
        "- deep learning library 버전을 확인한다"
      ]
    },
    {
      "cell_type": "code",
      "metadata": {
        "id": "O5dQD8ZliGbq"
      },
      "source": [
        "!nvcc --version"
      ],
      "execution_count": null,
      "outputs": []
    },
    {
      "cell_type": "markdown",
      "metadata": {
        "id": "VFMAbJRTqlPV"
      },
      "source": [
        "### cuda version에 따라 mxnet-cuXXX를 설치한다\r\n",
        "- 10.0 : `mxnet-cu100`\r\n",
        "- 10.1 : `mxnet-cu101`\r\n",
        "- 10.2 : `mxnet-cu102`"
      ]
    },
    {
      "cell_type": "code",
      "metadata": {
        "id": "2U3tZrj8yVXT"
      },
      "source": [
        "# CUDA 버전이 10.1인경우 mxnet-cu101을 설치한다\r\n",
        "!pip3 install --upgrade mxnet-cu101"
      ],
      "execution_count": null,
      "outputs": []
    },
    {
      "cell_type": "markdown",
      "metadata": {
        "id": "7rGdFxhqq1lS"
      },
      "source": [
        "### gluon-cv install"
      ]
    },
    {
      "cell_type": "code",
      "metadata": {
        "id": "z-p8MVMTF3JB"
      },
      "source": [
        "!pip3 install --upgrade gluoncv"
      ],
      "execution_count": null,
      "outputs": []
    },
    {
      "cell_type": "markdown",
      "metadata": {
        "id": "dbJdTfppHHjD"
      },
      "source": [
        "## image classification"
      ]
    },
    {
      "cell_type": "markdown",
      "metadata": {
        "id": "KqFXqUTBq9J9"
      },
      "source": [
        "## 이미지 준비"
      ]
    },
    {
      "cell_type": "code",
      "metadata": {
        "id": "RXO_bW4cHiRZ"
      },
      "source": [
        "!curl https://raw.githubusercontent.com/dmlc/web-data/master/gluoncv/classification/mt_baker.jpg > mt_baker.jpg"
      ],
      "execution_count": null,
      "outputs": []
    },
    {
      "cell_type": "markdown",
      "metadata": {
        "id": "AFf2UFfjNzmM"
      },
      "source": [
        "<img src='https://raw.githubusercontent.com/dmlc/web-data/master/gluoncv/classification/mt_baker.jpg' height=300px/>"
      ]
    },
    {
      "cell_type": "markdown",
      "metadata": {
        "id": "H7O9jURvOEEV"
      },
      "source": [
        "### 라이브러리 import"
      ]
    },
    {
      "cell_type": "code",
      "metadata": {
        "id": "vzmZZU7THk3M"
      },
      "source": [
        "from mxnet import nd, image\r\n",
        "\r\n",
        "import gluoncv as gcv\r\n",
        "gcv.utils.check_version('0.6.0')\r\n",
        "from gluoncv.data.transforms.presets.imagenet import transform_eval\r\n",
        "from gluoncv.model_zoo import get_model"
      ],
      "execution_count": null,
      "outputs": []
    },
    {
      "cell_type": "markdown",
      "metadata": {
        "id": "GJoWvIHBOByo"
      },
      "source": [
        "### 분류 모델 loading\r\n",
        "- modelzoo에서 모델을 다운받아온다"
      ]
    },
    {
      "cell_type": "code",
      "metadata": {
        "id": "lrDgY49TMvq5"
      },
      "source": [
        "model_name = 'ResNet50_v2'"
      ],
      "execution_count": null,
      "outputs": []
    },
    {
      "cell_type": "code",
      "metadata": {
        "id": "-sm4hsa_NSsX"
      },
      "source": [
        "net = get_model(model_name, pretrained=True)"
      ],
      "execution_count": null,
      "outputs": []
    },
    {
      "cell_type": "markdown",
      "metadata": {
        "id": "F3-8qrZ1OHeS"
      },
      "source": [
        "### 결과값의 유형"
      ]
    },
    {
      "cell_type": "code",
      "metadata": {
        "id": "vvuuJcZNNXlW"
      },
      "source": [
        "classes = net.classes"
      ],
      "execution_count": null,
      "outputs": []
    },
    {
      "cell_type": "code",
      "metadata": {
        "id": "cq6tuVPgrbm5"
      },
      "source": [
        "len(classes)"
      ],
      "execution_count": null,
      "outputs": []
    },
    {
      "cell_type": "markdown",
      "metadata": {
        "id": "07ERpT-6OJNl"
      },
      "source": [
        "### image 변환"
      ]
    },
    {
      "cell_type": "code",
      "metadata": {
        "id": "BnA1Q_ltNlE4"
      },
      "source": [
        "image_file='./mt_baker.jpg'"
      ],
      "execution_count": null,
      "outputs": []
    },
    {
      "cell_type": "code",
      "metadata": {
        "id": "4IUULVZPNhVH"
      },
      "source": [
        "img = image.imread(image_file)"
      ],
      "execution_count": null,
      "outputs": []
    },
    {
      "cell_type": "code",
      "metadata": {
        "id": "6g1mKzCwOM6K"
      },
      "source": [
        "type(img)"
      ],
      "execution_count": null,
      "outputs": []
    },
    {
      "cell_type": "code",
      "metadata": {
        "id": "gQrL2_GzOWYy"
      },
      "source": [
        "img.shape"
      ],
      "execution_count": null,
      "outputs": []
    },
    {
      "cell_type": "markdown",
      "metadata": {
        "id": "EBD55D5Us3Wy"
      },
      "source": [
        "### resnet model 에 넣는 데이터 형태로 변환\r\n",
        "- 224*224"
      ]
    },
    {
      "cell_type": "markdown",
      "metadata": {
        "id": "vHXOM-tnrh-e"
      },
      "source": [
        "### QUIZ. "
      ]
    },
    {
      "cell_type": "markdown",
      "metadata": {
        "id": "4r79QvI9ruP5"
      },
      "source": [
        "왜 244*244로 변환하는건가요?"
      ]
    },
    {
      "cell_type": "markdown",
      "metadata": {
        "id": "CAXb4uhqrz8Z"
      },
      "source": [
        "### imagenet transform 함수 활용"
      ]
    },
    {
      "cell_type": "code",
      "metadata": {
        "id": "mlQff-tJNool"
      },
      "source": [
        "img = transform_eval(img)"
      ],
      "execution_count": null,
      "outputs": []
    },
    {
      "cell_type": "code",
      "metadata": {
        "id": "XbR_pJ1QOQmW"
      },
      "source": [
        "type(img)"
      ],
      "execution_count": null,
      "outputs": []
    },
    {
      "cell_type": "code",
      "metadata": {
        "id": "D82kXOldOZlv"
      },
      "source": [
        "img.shape"
      ],
      "execution_count": null,
      "outputs": []
    },
    {
      "cell_type": "markdown",
      "metadata": {
        "id": "KgQR9GiMs6GL"
      },
      "source": [
        "### 분류모델 실행"
      ]
    },
    {
      "cell_type": "code",
      "metadata": {
        "id": "R3nqE3lrNrzA"
      },
      "source": [
        "pred = net(img)"
      ],
      "execution_count": null,
      "outputs": []
    },
    {
      "cell_type": "markdown",
      "metadata": {
        "id": "hnjhTrDrtFrW"
      },
      "source": [
        "### 분류결과 출력"
      ]
    },
    {
      "cell_type": "code",
      "metadata": {
        "id": "w00V5NLgNtLD"
      },
      "source": [
        "topK = 5\r\n",
        "ind = nd.topk(pred, k=topK)[0].astype('int')\r\n",
        "print('The input picture is classified to be')\r\n",
        "for i in range(topK):\r\n",
        "    print('\\t[%s], with probability %.3f.'%\r\n",
        "          (classes[ind[i].asscalar()], nd.softmax(pred)[0][ind[i]].asscalar()))"
      ],
      "execution_count": null,
      "outputs": []
    },
    {
      "cell_type": "markdown",
      "metadata": {
        "id": "30dUz0nxtjlT"
      },
      "source": [
        "# 함수로 만들어서 간단하게 활용하자"
      ]
    },
    {
      "cell_type": "code",
      "metadata": {
        "id": "GNFKu9mhtmhW"
      },
      "source": [
        "def get_classify_result(model_name, image_file):\r\n",
        "  # model load\r\n",
        "  net = get_model(model_name, pretrained=True)\r\n",
        "  classes = net.classes\r\n",
        "\r\n",
        "  # image load\r\n",
        "  img = image.imread(image_file)\r\n",
        "  img = transform_eval(img)\r\n",
        "\r\n",
        "  # predict(classify)\r\n",
        "  pred = net(img)\r\n",
        "\r\n",
        "  topK = 5\r\n",
        "  ind = nd.topk(pred, k=topK)[0].astype('int')\r\n",
        "  print('The input picture is classified to be')\r\n",
        "  for i in range(topK):\r\n",
        "      print('\\t[%s], with probability %.3f.'%\r\n",
        "            (classes[ind[i].asscalar()], nd.softmax(pred)[0][ind[i]].asscalar()))"
      ],
      "execution_count": null,
      "outputs": []
    },
    {
      "cell_type": "code",
      "metadata": {
        "id": "3YNHGI72uyYd"
      },
      "source": [
        "get_classify_result( 'ResNet50_v2','./mt_baker.jpg' )"
      ],
      "execution_count": null,
      "outputs": []
    },
    {
      "cell_type": "markdown",
      "metadata": {
        "id": "SdgC9caA48fN"
      },
      "source": [
        "# Transfer Learning\r\n",
        "- [Resnet기반의 이미지 분류기 만들기](https://cv.gluon.ai/build/examples_classification/transfer_learning_minc.html)\r\n",
        "- 연예인사진 유사도 같은 프로그램 이렇게 만들 수 있습니다\r\n",
        "- 회사 연말행사에 닮은사람 이벤트 하면 재미있겠네요"
      ]
    },
    {
      "cell_type": "markdown",
      "metadata": {
        "id": "IFRlq7a_WTJI"
      },
      "source": [
        "## image download\r\n",
        "- 실습을 위해 작은 파일셋을 내려받아서 진행\r\n"
      ]
    },
    {
      "cell_type": "code",
      "metadata": {
        "id": "9dQQuGxzVtXO"
      },
      "source": [
        "import zipfile, os\r\n",
        "from gluoncv.utils import download\r\n",
        "\r\n",
        "file_url = 'https://raw.githubusercontent.com/dmlc/web-data/master/gluoncv/classification/minc-2500-tiny.zip'\r\n",
        "zip_file = download(file_url, path='./')\r\n",
        "with zipfile.ZipFile(zip_file, 'r') as zin:\r\n",
        "    zin.extractall(os.path.expanduser('./'))"
      ],
      "execution_count": null,
      "outputs": []
    },
    {
      "cell_type": "markdown",
      "metadata": {
        "id": "y5kv1KwrWeko"
      },
      "source": [
        "## 학습에 필요한 라이브러리"
      ]
    },
    {
      "cell_type": "code",
      "metadata": {
        "id": "6qTGi1OjWeB8"
      },
      "source": [
        "import mxnet as mx\r\n",
        "import numpy as np\r\n",
        "import os, time, shutil\r\n",
        "\r\n",
        "from mxnet import gluon, image, init, nd\r\n",
        "from mxnet import autograd as ag\r\n",
        "from mxnet.gluon import nn\r\n",
        "from mxnet.gluon.data.vision import transforms\r\n",
        "from gluoncv.utils import makedirs\r\n",
        "from gluoncv.model_zoo import get_model"
      ],
      "execution_count": null,
      "outputs": []
    },
    {
      "cell_type": "markdown",
      "metadata": {
        "id": "LAPRS0qqWmGe"
      },
      "source": [
        "## 학습(Train) 변수"
      ]
    },
    {
      "cell_type": "code",
      "metadata": {
        "id": "2lTKLee9WpTo"
      },
      "source": [
        "classes = 23\r\n",
        "\r\n",
        "epochs = 5\r\n",
        "lr = 0.001\r\n",
        "per_device_batch_size = 1\r\n",
        "momentum = 0.9\r\n",
        "wd = 0.0001\r\n",
        "\r\n",
        "lr_factor = 0.75\r\n",
        "lr_steps = [10, 20, 30, np.inf]\r\n",
        "\r\n",
        "num_gpus = 0\r\n",
        "num_workers = 8\r\n",
        "ctx = [mx.gpu(i) for i in range(num_gpus)] if num_gpus > 0 else [mx.cpu()]\r\n",
        "batch_size = per_device_batch_size * max(num_gpus, 1)"
      ],
      "execution_count": null,
      "outputs": []
    },
    {
      "cell_type": "markdown",
      "metadata": {
        "id": "SMx6Q3MmW33x"
      },
      "source": [
        "## 데이터 증폭(Augmentation)\r\n",
        "- Randomly crop the image and resize it to 224x224\r\n",
        "- Randomly flip the image horizontally\r\n",
        "- Randomly jitter color and add noise\r\n",
        "- Transpose the data from height*width*num_channels to num_channels*height*width, and map values from [0, 255] to [0, 1] Normalize with the mean and standard deviation from the ImageNet dataset."
      ]
    },
    {
      "cell_type": "code",
      "metadata": {
        "id": "VV1oUvhtW6kM"
      },
      "source": [
        "jitter_param = 0.4\r\n",
        "lighting_param = 0.1\r\n",
        "\r\n",
        "transform_train = transforms.Compose([\r\n",
        "    transforms.RandomResizedCrop(224),\r\n",
        "    transforms.RandomFlipLeftRight(),\r\n",
        "    transforms.RandomColorJitter(brightness=jitter_param, contrast=jitter_param,\r\n",
        "                                 saturation=jitter_param),\r\n",
        "    transforms.RandomLighting(lighting_param),\r\n",
        "    transforms.ToTensor(),\r\n",
        "    transforms.Normalize([0.485, 0.456, 0.406], [0.229, 0.224, 0.225])\r\n",
        "])\r\n",
        "\r\n",
        "transform_test = transforms.Compose([\r\n",
        "    transforms.Resize(256),\r\n",
        "    transforms.CenterCrop(224),\r\n",
        "    transforms.ToTensor(),\r\n",
        "    transforms.Normalize([0.485, 0.456, 0.406], [0.229, 0.224, 0.225])\r\n",
        "])"
      ],
      "execution_count": null,
      "outputs": []
    },
    {
      "cell_type": "markdown",
      "metadata": {
        "id": "F7_rZmTtXTVA"
      },
      "source": [
        "## data load/pre processing"
      ]
    },
    {
      "cell_type": "code",
      "metadata": {
        "id": "HmDqBWsCXRjB"
      },
      "source": [
        "path = './minc-2500-tiny'\r\n",
        "train_path = os.path.join(path, 'train')\r\n",
        "val_path = os.path.join(path, 'val')\r\n",
        "test_path = os.path.join(path, 'test')\r\n",
        "\r\n",
        "train_data = gluon.data.DataLoader(\r\n",
        "    gluon.data.vision.ImageFolderDataset(train_path).transform_first(transform_train),\r\n",
        "    batch_size=batch_size, shuffle=True, num_workers=num_workers)\r\n",
        "\r\n",
        "val_data = gluon.data.DataLoader(\r\n",
        "    gluon.data.vision.ImageFolderDataset(val_path).transform_first(transform_test),\r\n",
        "    batch_size=batch_size, shuffle=False, num_workers = num_workers)\r\n",
        "\r\n",
        "test_data = gluon.data.DataLoader(\r\n",
        "    gluon.data.vision.ImageFolderDataset(test_path).transform_first(transform_test),\r\n",
        "    batch_size=batch_size, shuffle=False, num_workers = num_workers)"
      ],
      "execution_count": null,
      "outputs": []
    },
    {
      "cell_type": "markdown",
      "metadata": {
        "id": "XFFG9pZKXfFs"
      },
      "source": [
        "## 기존 학습된 모델 로딩"
      ]
    },
    {
      "cell_type": "code",
      "metadata": {
        "id": "Xf9jjWMnXcr1"
      },
      "source": [
        "model_name = 'ResNet50_v2'\r\n",
        "finetune_net = get_model(model_name, pretrained=True)\r\n",
        "# output 재정의\r\n",
        "with finetune_net.name_scope():\r\n",
        "    finetune_net.output = nn.Dense(classes)\r\n",
        "finetune_net.output.initialize(init.Xavier(), ctx = ctx)\r\n",
        "finetune_net.collect_params().reset_ctx(ctx)\r\n",
        "finetune_net.hybridize()\r\n",
        "\r\n",
        "trainer = gluon.Trainer(finetune_net.collect_params(), 'sgd', {\r\n",
        "                        'learning_rate': lr, 'momentum': momentum, 'wd': wd})\r\n",
        "metric = mx.metric.Accuracy()\r\n",
        "L = gluon.loss.SoftmaxCrossEntropyLoss()"
      ],
      "execution_count": null,
      "outputs": []
    },
    {
      "cell_type": "markdown",
      "metadata": {
        "id": "F2yZ41uUX5vF"
      },
      "source": [
        "## 학습도중의 validation과 test를 위해서 test function 정의"
      ]
    },
    {
      "cell_type": "code",
      "metadata": {
        "id": "sJpg3dPTXwND"
      },
      "source": [
        "def test(net, val_data, ctx):\r\n",
        "    metric = mx.metric.Accuracy()\r\n",
        "    for i, batch in enumerate(val_data):\r\n",
        "        data = gluon.utils.split_and_load(batch[0], ctx_list=ctx, batch_axis=0, even_split=False)\r\n",
        "        label = gluon.utils.split_and_load(batch[1], ctx_list=ctx, batch_axis=0, even_split=False)\r\n",
        "        outputs = [net(X) for X in data]\r\n",
        "        metric.update(label, outputs)\r\n",
        "\r\n",
        "    return metric.get()"
      ],
      "execution_count": null,
      "outputs": []
    },
    {
      "cell_type": "markdown",
      "metadata": {
        "id": "Fsz0afYPYBwg"
      },
      "source": [
        "## train"
      ]
    },
    {
      "cell_type": "code",
      "metadata": {
        "id": "GM14FGYgXyQh"
      },
      "source": [
        "lr_counter = 0\r\n",
        "num_batch = len(train_data)\r\n",
        "\r\n",
        "for epoch in range(epochs):\r\n",
        "    if epoch == lr_steps[lr_counter]:\r\n",
        "        trainer.set_learning_rate(trainer.learning_rate*lr_factor)\r\n",
        "        lr_counter += 1\r\n",
        "\r\n",
        "    tic = time.time()\r\n",
        "    train_loss = 0\r\n",
        "    metric.reset()\r\n",
        "\r\n",
        "    for i, batch in enumerate(train_data):\r\n",
        "        data = gluon.utils.split_and_load(batch[0], ctx_list=ctx, batch_axis=0, even_split=False)\r\n",
        "        label = gluon.utils.split_and_load(batch[1], ctx_list=ctx, batch_axis=0, even_split=False)\r\n",
        "        with ag.record():\r\n",
        "            outputs = [finetune_net(X) for X in data]\r\n",
        "            loss = [L(yhat, y) for yhat, y in zip(outputs, label)]\r\n",
        "        for l in loss:\r\n",
        "            l.backward()\r\n",
        "\r\n",
        "        trainer.step(batch_size)\r\n",
        "        train_loss += sum([l.mean().asscalar() for l in loss]) / len(loss)\r\n",
        "\r\n",
        "        metric.update(label, outputs)\r\n",
        "\r\n",
        "    _, train_acc = metric.get()\r\n",
        "    train_loss /= num_batch\r\n",
        "\r\n",
        "    _, val_acc = test(finetune_net, val_data, ctx)\r\n",
        "\r\n",
        "    print('[Epoch %d] Train-acc: %.3f, loss: %.3f | Val-acc: %.3f | time: %.1f' %\r\n",
        "             (epoch, train_acc, train_loss, val_acc, time.time() - tic))\r\n",
        "\r\n",
        "_, test_acc = test(finetune_net, test_data, ctx)\r\n",
        "print('[Finished] Test-acc: %.3f' % (test_acc))"
      ],
      "execution_count": null,
      "outputs": []
    },
    {
      "cell_type": "markdown",
      "metadata": {
        "id": "Boqva6SxxhGm"
      },
      "source": [
        "# 실습\r\n"
      ]
    },
    {
      "cell_type": "markdown",
      "metadata": {
        "id": "qhiy1jMEx-mf"
      },
      "source": [
        "## 1. 이미지넷 모델 중에서 volcano 정확도가 가장 높은 모델을 찾기\r\n",
        "- [ImageNet](https://cv.gluon.ai/model_zoo/classification.html#imagenet)"
      ]
    },
    {
      "cell_type": "markdown",
      "metadata": {
        "id": "j1fNLYSFyBu8"
      },
      "source": [
        "## 2. 아래의 이미지를 이용하여 비행기 정확도가 가장 높은 모델을 찾기\r\n"
      ]
    },
    {
      "cell_type": "markdown",
      "metadata": {
        "id": "OnXZPFPtyV6p"
      },
      "source": [
        "<img src='https://previews.123rf.com/images/akinshin/akinshin1508/akinshin150800008/43579353-%ED%9D%B0%EC%83%89-%EB%B0%B0%EA%B2%BD-%EB%B2%A1%ED%84%B0-%EC%9D%BC%EB%9F%AC%EC%8A%A4%ED%8A%B8-%EB%A0%88%EC%9D%B4-%EC%85%98%EC%97%90-%EB%B9%84%ED%96%89%EA%B8%B0-%EC%8B%A4%EB%A3%A8%EC%97%A3.jpg' height=300px/>"
      ]
    },
    {
      "cell_type": "code",
      "metadata": {
        "id": "8_37IRjTy0W-"
      },
      "source": [
        ""
      ],
      "execution_count": null,
      "outputs": []
    }
  ]
}