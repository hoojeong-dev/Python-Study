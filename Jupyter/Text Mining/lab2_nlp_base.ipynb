{
 "cells": [
  {
   "cell_type": "markdown",
   "metadata": {
    "id": "yTEo1FwHU7-N"
   },
   "source": [
    "# NLP(Natural Language Processing) 기초"
   ]
  },
  {
   "cell_type": "markdown",
   "metadata": {
    "id": "JVDbiN8hVC9H"
   },
   "source": [
    "## word embedding"
   ]
  },
  {
   "cell_type": "markdown",
   "metadata": {
    "id": "HNzDw6qzV05z"
   },
   "source": [
    "### sparse representation"
   ]
  },
  {
   "cell_type": "markdown",
   "metadata": {
    "id": "3tXsATOaYl8R"
   },
   "source": [
    "- ['빨강', '빨강', '파랑']\n",
    "  - binary\n",
    "    ```\n",
    "    [0, 0, 1]\n",
    "    ```\n",
    "  - one-hot encoding \n",
    "    ```\n",
    "    [\n",
    "      [1, 0]\n",
    "      [1, 0]\n",
    "      [0. 1]\n",
    "    ]\n",
    "    ```\n",
    " \n",
    "\n"
   ]
  },
  {
   "cell_type": "code",
   "execution_count": 8,
   "metadata": {
    "colab": {
     "base_uri": "https://localhost:8080/"
    },
    "id": "aakkMBI9Z6fF",
    "outputId": "ff089771-dcad-498d-910b-13778eb7caa8"
   },
   "outputs": [
    {
     "name": "stdout",
     "output_type": "stream",
     "text": [
      "['빨강', '파랑', '노랑', '초록', '노랑', '파랑', '초록', '빨강', '초록', '빨강']\n"
     ]
    }
   ],
   "source": [
    "from numpy import array\n",
    "from numpy import argmax\n",
    "from sklearn.preprocessing import LabelEncoder\n",
    "import numpy as np\n",
    "from keras.utils import to_categorical\n",
    "# define example\n",
    "\n",
    "# list 생성\n",
    "data = ['빨강', '파랑', '노랑', '초록', '노랑', '파랑', '초록', '빨강', '초록', '빨강']\n",
    "print(data)\n",
    "\n",
    "# 생성한 list를 인자로 data Array 생성\n",
    "data = np.array(data)\n",
    "\n",
    "\n",
    "\n"
   ]
  },
  {
   "cell_type": "code",
   "execution_count": 9,
   "metadata": {
    "colab": {
     "base_uri": "https://localhost:8080/"
    },
    "id": "YmB8O7BkeXn6",
    "outputId": "0a7577a9-f22f-4493-b097-ff2ea778fd86"
   },
   "outputs": [
    {
     "name": "stdout",
     "output_type": "stream",
     "text": [
      "[1 3 0 2 0 3 2 1 2 1]\n"
     ]
    }
   ],
   "source": [
    "# string to index label\n",
    "\n",
    "# LabelEncoder : 문자를 0부터 시작하는 정수형 숫자로 바꿔주는 기능\n",
    "label_encoder = LabelEncoder()\n",
    "\n",
    "# 앞에서 생성한 data Array를 이용해 data를 피팅하고, 라벨 숫자로 변환\n",
    "# vec = label_encoder.fit_transform(data) -> 이렇게도 표기 가능\n",
    "label_encoder.fit(data)\n",
    "vec = label_encoder.transform(data)\n",
    "\n",
    "# 노랑 : 0, 빨강 : 1, 초록 : 2, 파랑 : 3\n",
    "print(vec)"
   ]
  },
  {
   "cell_type": "code",
   "execution_count": 10,
   "metadata": {
    "colab": {
     "base_uri": "https://localhost:8080/"
    },
    "id": "R6FWKLChfBq7",
    "outputId": "e3352846-d0a8-4681-f428-4dbbb9177f32"
   },
   "outputs": [
    {
     "name": "stdout",
     "output_type": "stream",
     "text": [
      "['노랑' '빨강' '초록' '파랑']\n"
     ]
    }
   ],
   "source": [
    "# print label classes\n",
    "# 인코더에 등록된 클래스 출력\n",
    "# 자음 순서로 매칭되는 듯\n",
    "print(label_encoder.classes_)"
   ]
  },
  {
   "cell_type": "code",
   "execution_count": 11,
   "metadata": {},
   "outputs": [
    {
     "data": {
      "text/plain": [
       "array(['빨강'], dtype='<U2')"
      ]
     },
     "execution_count": 11,
     "metadata": {},
     "output_type": "execute_result"
    }
   ],
   "source": [
    "# index를 원래 값(문자)로 변환할 경우\n",
    "# transform : 문자 -> 숫자\n",
    "# inverse_transform : 숫자 -> 문자\n",
    "\n",
    "label_encoder.inverse_transform([1])"
   ]
  },
  {
   "cell_type": "markdown",
   "metadata": {},
   "source": [
    "  * one hot encoding\n",
    "    - binary encode의 경우, data 간에 관계가 없음에도 잘못된 관계를 형성할 수 있음"
   ]
  },
  {
   "cell_type": "code",
   "execution_count": 12,
   "metadata": {
    "colab": {
     "base_uri": "https://localhost:8080/"
    },
    "id": "vOOU1oJCeSfn",
    "outputId": "5aa45280-a170-4ad7-83d7-eef6667d64d7"
   },
   "outputs": [
    {
     "name": "stdout",
     "output_type": "stream",
     "text": [
      "[[0. 1. 0. 0.]\n",
      " [0. 0. 0. 1.]\n",
      " [1. 0. 0. 0.]\n",
      " [0. 0. 1. 0.]\n",
      " [1. 0. 0. 0.]\n",
      " [0. 0. 0. 1.]\n",
      " [0. 0. 1. 0.]\n",
      " [0. 1. 0. 0.]\n",
      " [0. 0. 1. 0.]\n",
      " [0. 1. 0. 0.]]\n"
     ]
    }
   ],
   "source": [
    "# one hot encode\n",
    "# 고유 값의 개수만큼 columns 생성, 한 개의 coiumns에만 True, 나머지는 False를 넣어 독립적인 관계를 표현\n",
    "# Keras에서 지원하는 to_categorical 함수를 사용해 One-hot encoding 가능\n",
    "encoded = to_categorical(vec)\n",
    "print(encoded)"
   ]
  },
  {
   "cell_type": "code",
   "execution_count": 13,
   "metadata": {
    "colab": {
     "base_uri": "https://localhost:8080/"
    },
    "id": "74HS8dMheL90",
    "outputId": "8e03ff62-2259-444b-f38f-c29dc8e61193"
   },
   "outputs": [
    {
     "name": "stdout",
     "output_type": "stream",
     "text": [
      "3\n",
      "['파랑']\n"
     ]
    }
   ],
   "source": [
    "# invert encoding\n",
    "\n",
    "# argmax : numpy의 함수로, array 요소 중 최댓값의 index 반환\n",
    "# argmax, argmin(최솟값) 함수는 자주 사용하니 기억해두기!\n",
    "\n",
    "# 아래의 코드에서는 encoded의 2번째 행 중에서 최댓값 반환\n",
    "# inverted는 encoded의 2번째 행에서 4번째 요소, 파랑의 값을 갖게 됨\n",
    "inverted = argmax(encoded[1])\n",
    "print(inverted)\n",
    "\n",
    "# invert 값을 갖는 고유 값(문자)로 변환\n",
    "inverted_string = label_encoder.inverse_transform([inverted])\n",
    "print(inverted_string)"
   ]
  },
  {
   "cell_type": "markdown",
   "metadata": {
    "id": "ocIMvCnWfq3N"
   },
   "source": [
    "#### 단점\n",
    "- class가 많아지면 표현하기위해서 0이 많아져 데이터 양이 많아지고\n",
    "- 실제 의미있는 데이터는 적어진다.(대량의 0, 그중에 하나만 1)\n",
    "- 단어의 종류가 10,000 개라면 10,000 column 의 array\n",
    "- 단어의 종류가 100,000 개라면 100,000 column의 array \n",
    "- -->sparse representation"
   ]
  },
  {
   "cell_type": "markdown",
   "metadata": {
    "id": "uQkjf-91V3Tj"
   },
   "source": [
    "### dense *representation*"
   ]
  },
  {
   "cell_type": "code",
   "execution_count": 14,
   "metadata": {
    "id": "8eS5YEWCU3tk"
   },
   "outputs": [],
   "source": [
    "# define training data\n",
    "# 2차원 list 생성\n",
    "sentences = [['this', 'is', 'the', 'first', 'sentence', 'for', 'word2vec'],\n",
    "\t\t\t['this', 'is', 'the', 'second', 'sentence'],\n",
    "\t\t\t['yet', 'another', 'sentence'],\n",
    "\t\t\t['one', 'more', 'sentence'],\n",
    "\t\t\t['and', 'the', 'final', 'sentence']]"
   ]
  },
  {
   "cell_type": "markdown",
   "metadata": {},
   "source": [
    "  * [Word2Vec](https://ratsgo.github.io/from%20frequency%20to%20semantics/2017/03/30/word2vec/) : 구글에서 개발한 방법론으로, 단어(Word)를 벡터(Vector)로 변환"
   ]
  },
  {
   "cell_type": "code",
   "execution_count": 15,
   "metadata": {
    "id": "d3pYwiNglzMo",
    "scrolled": true
   },
   "outputs": [],
   "source": [
    "from gensim.models import Word2Vec"
   ]
  },
  {
   "cell_type": "code",
   "execution_count": 16,
   "metadata": {
    "id": "hiVW9BuwgpFJ"
   },
   "outputs": [],
   "source": [
    "# contents를 100차원의 벡터로 변환\n",
    "# 출현 빈도가 1번 미만인 단어의 경우, 분석에서 제외\n",
    "# 파라미터 sg가 0일 때는 CBOW 방법, 1일 때는 Skip-gram 방법\n",
    "# sg의 default 값은 0이므로, CBOW 방법을 사용\n",
    "model = Word2Vec(sentences, min_count=1, size=100)"
   ]
  },
  {
   "cell_type": "code",
   "execution_count": 17,
   "metadata": {
    "colab": {
     "base_uri": "https://localhost:8080/"
    },
    "id": "7ceSd8YqhwBz",
    "outputId": "ed221fe2-bb41-4071-d805-e68176174e6a"
   },
   "outputs": [
    {
     "name": "stdout",
     "output_type": "stream",
     "text": [
      "Word2Vec(vocab=14, size=100, alpha=0.025)\n"
     ]
    },
    {
     "data": {
      "text/plain": [
       "<gensim.models.word2vec.Word2Vec at 0x23bf01af6c8>"
      ]
     },
     "execution_count": 17,
     "metadata": {},
     "output_type": "execute_result"
    }
   ],
   "source": [
    "# summarize the loaded model\n",
    "# alpha : 학습률 (≒ 학습 속도, 학습할 때 가중치에 대해 얼마나 많은 변화를 주는 지에 대한 상수)\n",
    "        # 학습률과 학습 속도가 비례하기 때문에, 학습 속도라고 이해해도 무방\n",
    "print(model)\n",
    "model"
   ]
  },
  {
   "cell_type": "code",
   "execution_count": 18,
   "metadata": {
    "colab": {
     "base_uri": "https://localhost:8080/"
    },
    "id": "8xOqRgdSg-UN",
    "outputId": "4a3b2258-f5df-4830-94f8-986c78e03d6c"
   },
   "outputs": [
    {
     "data": {
      "text/plain": [
       "['this',\n",
       " 'is',\n",
       " 'the',\n",
       " 'first',\n",
       " 'sentence',\n",
       " 'for',\n",
       " 'word2vec',\n",
       " 'second',\n",
       " 'yet',\n",
       " 'another',\n",
       " 'one',\n",
       " 'more',\n",
       " 'and',\n",
       " 'final']"
      ]
     },
     "execution_count": 18,
     "metadata": {},
     "output_type": "execute_result"
    }
   ],
   "source": [
    "# summarize vocabulary\n",
    "# wv : 모델 생성 후, 사용 가능한 듯(?)\n",
    "\n",
    "# 생성한 모델의 단어로 list 생성\n",
    "words = list(model.wv.vocab)\n",
    "words"
   ]
  },
  {
   "cell_type": "markdown",
   "metadata": {},
   "source": [
    "- model['sentence'] : 해당 코드를 실행하면 __getitem__ 만 사용하지 말고, wv와 함께 사용하라는 문구가 출력\n",
    "- __getitem__ : tuple, dictionary 등, 객체 형태의 자료구조에서 특정 값만을 추출하고 싶을 때 사용\n",
    "- dictionary에서 특정 key의 value 값을 추출할 때, dictionary[\"key\"]의 형식을 사용\n",
    "- 이때 __getitem__를 써야하나, Override 되어있기 때문에 사용할 필요가 없음\n",
    "- 따라서 [] = __getitem__ 가 성립\n",
    "- dictionary[\"key\"] = dictionary.__getitem__('key')  "
   ]
  },
  {
   "cell_type": "code",
   "execution_count": 19,
   "metadata": {
    "colab": {
     "base_uri": "https://localhost:8080/"
    },
    "id": "1MNXCYCChErd",
    "outputId": "2c3b16ae-1a53-490a-eca7-de0ebb461c02"
   },
   "outputs": [
    {
     "data": {
      "text/plain": [
       "array([-3.3377057e-03,  2.9284731e-03, -2.1203524e-03,  3.6049024e-03,\n",
       "       -3.9863592e-04,  2.6907178e-03, -1.6523987e-03,  4.8637437e-03,\n",
       "       -2.1168678e-03,  4.1721328e-03, -2.8544262e-03, -1.7048157e-03,\n",
       "        2.7845490e-03,  2.6978950e-03, -3.8383682e-03, -1.4644108e-03,\n",
       "        4.3698915e-04,  1.4721841e-03,  2.4080249e-03, -4.7351592e-03,\n",
       "        1.7199455e-03, -4.0672352e-03, -1.0083144e-03, -4.9092937e-03,\n",
       "       -1.6092896e-03, -9.0276508e-04, -4.6093748e-03, -3.5579079e-03,\n",
       "        1.2425384e-03, -2.9442522e-03, -1.7876814e-03,  4.2495998e-03,\n",
       "       -6.7545695e-04,  2.3768279e-03,  2.1754233e-03, -3.6379471e-03,\n",
       "       -2.4782433e-03,  1.6539727e-03,  2.9284374e-03,  2.5523331e-03,\n",
       "        2.5401115e-03, -2.1660684e-03, -1.2960458e-04, -4.9004131e-03,\n",
       "        3.7203110e-03, -4.7440518e-04, -1.3055227e-03,  4.7015129e-03,\n",
       "       -4.0438022e-03,  1.2012657e-03, -2.3586587e-03,  2.0043348e-04,\n",
       "       -3.0558840e-03, -5.1686965e-04, -4.1736448e-03,  4.6847579e-03,\n",
       "       -1.2740628e-03,  9.8508317e-04, -4.4853598e-04, -1.5053861e-03,\n",
       "        9.2081120e-04, -3.4126097e-03,  2.9697411e-03, -1.6404702e-03,\n",
       "       -2.9352815e-03,  1.1263873e-03, -3.5615070e-03,  7.3647784e-04,\n",
       "       -3.9313691e-05,  3.8150207e-03,  5.2184594e-04,  3.4404434e-03,\n",
       "       -2.8155511e-03, -4.3968605e-03,  8.8231231e-04,  3.1632031e-03,\n",
       "       -3.2626467e-03, -4.7936044e-03, -1.5848564e-04, -3.3399567e-04,\n",
       "        4.6428065e-03,  1.7200388e-03,  3.7761510e-03, -4.0304009e-03,\n",
       "       -3.4991042e-03,  3.8322334e-05, -3.6054782e-03,  2.6002361e-03,\n",
       "       -4.4927858e-03,  3.4078963e-03, -4.9434020e-03, -2.5789456e-03,\n",
       "       -3.0980760e-03,  1.5576150e-03, -3.6034477e-04, -4.9614781e-03,\n",
       "        1.5234029e-03,  2.8807931e-03, -3.6991849e-03, -3.3907413e-03],\n",
       "      dtype=float32)"
      ]
     },
     "execution_count": 19,
     "metadata": {},
     "output_type": "execute_result"
    }
   ],
   "source": [
    "# access vector for one word\n",
    "# 단어를 벡터로 변환 (차원이 100개 이므로, 100개의 벡터)\n",
    "# 학습된 단어의 벡터는 model.wv의 keyedVector 인스턴스 안에 존재\n",
    "# model['key']를 사용해도 무방하지만, 처음부터 찾아야 하므로 권장하지 않음\n",
    "# model의 데이터 타입은 잘 모르겠음 (객체 자료구조(dictionary, tuple 등)인 것은 확실)\n",
    "\n",
    "# vector 값을 추출할 때, model.wv.get_vector('key')를 사용해도 무방함\n",
    "model.wv['sentence']"
   ]
  },
  {
   "cell_type": "code",
   "execution_count": 20,
   "metadata": {
    "colab": {
     "base_uri": "https://localhost:8080/"
    },
    "id": "3aFTPkplh0vs",
    "outputId": "406fbdf0-2991-451d-df55-80163d211c9f"
   },
   "outputs": [
    {
     "name": "stdout",
     "output_type": "stream",
     "text": [
      "Word2Vec(vocab=14, size=100, alpha=0.025)\n"
     ]
    }
   ],
   "source": [
    "# save model\n",
    "model.save('model.w2v')\n",
    "# load model\n",
    "new_model = Word2Vec.load('model.w2v')\n",
    "print(new_model)"
   ]
  },
  {
   "cell_type": "code",
   "execution_count": 21,
   "metadata": {
    "colab": {
     "base_uri": "https://localhost:8080/"
    },
    "id": "tZC8kjLjh8QM",
    "outputId": "9f944dce-0f19-4fee-ca10-b7faffb91300"
   },
   "outputs": [
    {
     "data": {
      "text/plain": [
       "array([[-1.7653803e-04,  3.8145110e-03,  2.4198072e-03, ...,\n",
       "        -2.6827415e-03,  3.5996018e-03, -9.8054064e-05],\n",
       "       [-1.4523421e-03, -6.3663902e-04,  7.4773654e-04, ...,\n",
       "         2.0348360e-03,  5.3885251e-05,  1.2156951e-03],\n",
       "       [-2.6298885e-03,  2.9338503e-03,  1.5192533e-04, ...,\n",
       "        -4.2548613e-03, -4.1192370e-03,  4.1271774e-03],\n",
       "       ...,\n",
       "       [ 1.8164356e-03, -1.7238623e-03, -8.7334344e-04, ...,\n",
       "         4.7103828e-03, -2.7148728e-03, -2.5931830e-03],\n",
       "       [ 3.7906209e-03,  8.9086394e-04,  3.3151568e-03, ...,\n",
       "         1.7673577e-03, -2.5325830e-03, -2.2082368e-03],\n",
       "       [ 2.5481735e-03,  2.5064489e-03,  1.0933602e-03, ...,\n",
       "         3.4527238e-03, -1.5434200e-03, -2.5127302e-03]], dtype=float32)"
      ]
     },
     "execution_count": 21,
     "metadata": {},
     "output_type": "execute_result"
    }
   ],
   "source": [
    "# model.wv.vocab의 벡터 값만을 X에 저장\n",
    "# model.wv.vocab의 데이터 타입은 dict로, key 값도 함께 있어 주성분 분석이 불가능 함\n",
    "X = model.wv[words]\n",
    "X"
   ]
  },
  {
   "cell_type": "code",
   "execution_count": 23,
   "metadata": {
    "id": "9mnf2s26ibCy"
   },
   "outputs": [
    {
     "data": {
      "text/plain": [
       "array([[ 1.97682413e-03,  9.88440216e-03],\n",
       "       [-1.02722151e-02,  3.95091809e-03],\n",
       "       [-4.37146565e-03,  2.86354451e-03],\n",
       "       [ 1.12216752e-02, -2.79200147e-03],\n",
       "       [-2.91400263e-03, -1.34786582e-02],\n",
       "       [ 2.23935302e-02,  3.97847779e-03],\n",
       "       [ 5.36931446e-03,  9.91632044e-03],\n",
       "       [-9.62733664e-03,  4.72171605e-03],\n",
       "       [-1.32706696e-02,  4.21811361e-03],\n",
       "       [-4.16717026e-04,  1.50825251e-02],\n",
       "       [ 7.08147651e-03, -1.28719062e-02],\n",
       "       [ 8.56278278e-03, -1.30684385e-02],\n",
       "       [ 3.59321202e-05, -9.87598905e-05],\n",
       "       [-1.57691315e-02, -1.23062572e-02]], dtype=float32)"
      ]
     },
     "execution_count": 23,
     "metadata": {},
     "output_type": "execute_result"
    }
   ],
   "source": [
    "# 주성분 분석 (PCA) : 차원을 축소하여 해석을 용이하게 하고, 시각화를 도움\n",
    "# 적은 수의 특성으로 특정 현상을 설명\n",
    "# 모델의 성능 강화\n",
    "from sklearn.decomposition import PCA\n",
    "\n",
    "# n_components=2 -> 차원을 기존의 100에서 2로 축소\n",
    "pca = PCA(n_components=2)\n",
    "\n",
    "# pca.fit() : 주성분을 찾음\n",
    "# pca,transform() : 새로운 주성분으로 데이터 변환\n",
    "result = pca.fit_transform(X)\n",
    "result"
   ]
  },
  {
   "cell_type": "markdown",
   "metadata": {
    "id": "GucJ9mU1wv1w"
   },
   "source": [
    "- 아래 코드를 수행하기 전에 하단의 한글폰트 설치"
   ]
  },
  {
   "cell_type": "code",
   "execution_count": 44,
   "metadata": {
    "id": "z6Fb8QDaieoO"
   },
   "outputs": [],
   "source": [
    "# from matplotlib import pyplot\n",
    "# pyplot.scatter(result[:, 0], result[:, 1])\n",
    "# words = list(model.wv.vocab)\n",
    "# for i, word in enumerate(words):\n",
    "# \tpyplot.annotate(word, xy=(result[i, 0], result[i, 1]))\n",
    "# pyplot.show()"
   ]
  },
  {
   "cell_type": "code",
   "execution_count": 34,
   "metadata": {
    "colab": {
     "base_uri": "https://localhost:8080/"
    },
    "id": "JCgB8YAwkbR8",
    "outputId": "beeddab5-688a-459b-fcd0-c5593cabc6cf"
   },
   "outputs": [
    {
     "data": {
      "text/plain": [
       "['sentence',\n",
       " 'the',\n",
       " 'this',\n",
       " 'is',\n",
       " 'first',\n",
       " 'for',\n",
       " 'word2vec',\n",
       " 'second',\n",
       " 'yet',\n",
       " 'another',\n",
       " 'one',\n",
       " 'more',\n",
       " 'and',\n",
       " 'final']"
      ]
     },
     "execution_count": 34,
     "metadata": {},
     "output_type": "execute_result"
    }
   ],
   "source": [
    "# 모델의 인덱스 출력\n",
    "model.wv.index2word"
   ]
  },
  {
   "cell_type": "code",
   "execution_count": 40,
   "metadata": {},
   "outputs": [
    {
     "name": "stdout",
     "output_type": "stream",
     "text": [
      "0.081416115 \n",
      "\n",
      "[('one', 0.16859900951385498), ('word2vec', 0.12133094668388367), ('and', 0.059702564030885696), ('this', 0.014756869524717331), ('first', 0.011695362627506256), ('second', -0.019754724577069283), ('sentence', -0.043382417410612106), ('yet', -0.058594416826963425), ('for', -0.09065037220716476), ('the', -0.10297268629074097)]\n"
     ]
    }
   ],
   "source": [
    "# 두 단어 간, 코사인 유사도\n",
    "print(model.wv.similarity('the', 'this'),'\\n')\n",
    "\n",
    "# 해당 단어와 가장 유사한 단어 추출\n",
    "print(model.wv.most_similar('is'))"
   ]
  },
  {
   "cell_type": "markdown",
   "metadata": {
    "id": "QOvOQUp3sx1I"
   },
   "source": [
    "## String Tokenizer\n",
    "Tokenizes a string based on delimiters (separators) and supporting quoting and ignored character concepts."
   ]
  },
  {
   "cell_type": "code",
   "execution_count": 35,
   "metadata": {
    "id": "5Vn6ywu-jnYN"
   },
   "outputs": [],
   "source": [
    "sample_string = \"\"\"Can a nostalgia-packed superhero flick convince people to leave their couches and head to the cinemas? “Wonder Woman 1984” seeks to answer that question.\n",
    "\n",
    "Movie theater owners are hopeful that the “Wonder Woman” sequel, which arrives Christmas Day, will lure a key demographic back to cinemas despite continued surges in coronavirus cases.\"\"\""
   ]
  },
  {
   "cell_type": "markdown",
   "metadata": {
    "id": "qlQPg7OFhmYg"
   },
   "source": [
    "### Space Tokenizer\n",
    "[사용법](https://www.nltk.org/api/nltk.tokenize.html#nltk.tokenize.simple.SpaceTokenizer)"
   ]
  },
  {
   "cell_type": "code",
   "execution_count": 38,
   "metadata": {
    "colab": {
     "base_uri": "https://localhost:8080/"
    },
    "id": "-CLoJIPMu5wE",
    "outputId": "b2410152-dba1-4e36-9041-e0111eef16c7"
   },
   "outputs": [
    {
     "data": {
      "text/plain": [
       "['Can',\n",
       " 'a',\n",
       " 'nostalgia-packed',\n",
       " 'superhero',\n",
       " 'flick',\n",
       " 'convince',\n",
       " 'people',\n",
       " 'to',\n",
       " 'leave',\n",
       " 'their',\n",
       " 'couches',\n",
       " 'and',\n",
       " 'head',\n",
       " 'to',\n",
       " 'the',\n",
       " 'cinemas?',\n",
       " '“Wonder',\n",
       " 'Woman',\n",
       " '1984”',\n",
       " 'seeks',\n",
       " 'to',\n",
       " 'answer',\n",
       " 'that',\n",
       " 'question.\\n\\nMovie',\n",
       " 'theater',\n",
       " 'owners',\n",
       " 'are',\n",
       " 'hopeful',\n",
       " 'that',\n",
       " 'the',\n",
       " '“Wonder',\n",
       " 'Woman”',\n",
       " 'sequel,',\n",
       " 'which',\n",
       " 'arrives',\n",
       " 'Christmas',\n",
       " 'Day,',\n",
       " 'will',\n",
       " 'lure',\n",
       " 'a',\n",
       " 'key',\n",
       " 'demographic',\n",
       " 'back',\n",
       " 'to',\n",
       " 'cinemas',\n",
       " 'despite',\n",
       " 'continued',\n",
       " 'surges',\n",
       " 'in',\n",
       " 'coronavirus',\n",
       " 'cases.']"
      ]
     },
     "execution_count": 38,
     "metadata": {},
     "output_type": "execute_result"
    }
   ],
   "source": [
    "from nltk.tokenize import SpaceTokenizer\n",
    "\n",
    "# 앞에서 정의한 문자열을 공백 단위로 구분\n",
    "SpaceTokenizer().tokenize(sample_string)\n"
   ]
  },
  {
   "cell_type": "markdown",
   "metadata": {
    "id": "IPTzkQwFhCmU"
   },
   "source": [
    "### word tokenizer\n",
    "[사용법](https://www.nltk.org/api/nltk.tokenize.html#module-nltk.tokenize)"
   ]
  },
  {
   "cell_type": "code",
   "execution_count": 39,
   "metadata": {
    "colab": {
     "base_uri": "https://localhost:8080/"
    },
    "id": "7R6fvz_wvLwu",
    "outputId": "5e74f5b8-097a-406c-d2c5-4894f9a75fd8",
    "scrolled": true
   },
   "outputs": [
    {
     "data": {
      "text/plain": [
       "['Can',\n",
       " 'a',\n",
       " 'nostalgia-packed',\n",
       " 'superhero',\n",
       " 'flick',\n",
       " 'convince',\n",
       " 'people',\n",
       " 'to',\n",
       " 'leave',\n",
       " 'their',\n",
       " 'couches',\n",
       " 'and',\n",
       " 'head',\n",
       " 'to',\n",
       " 'the',\n",
       " 'cinemas',\n",
       " '?',\n",
       " '“',\n",
       " 'Wonder',\n",
       " 'Woman',\n",
       " '1984',\n",
       " '”',\n",
       " 'seeks',\n",
       " 'to',\n",
       " 'answer',\n",
       " 'that',\n",
       " 'question',\n",
       " '.',\n",
       " 'Movie',\n",
       " 'theater',\n",
       " 'owners',\n",
       " 'are',\n",
       " 'hopeful',\n",
       " 'that',\n",
       " 'the',\n",
       " '“',\n",
       " 'Wonder',\n",
       " 'Woman',\n",
       " '”',\n",
       " 'sequel',\n",
       " ',',\n",
       " 'which',\n",
       " 'arrives',\n",
       " 'Christmas',\n",
       " 'Day',\n",
       " ',',\n",
       " 'will',\n",
       " 'lure',\n",
       " 'a',\n",
       " 'key',\n",
       " 'demographic',\n",
       " 'back',\n",
       " 'to',\n",
       " 'cinemas',\n",
       " 'despite',\n",
       " 'continued',\n",
       " 'surges',\n",
       " 'in',\n",
       " 'coronavirus',\n",
       " 'cases',\n",
       " '.']"
      ]
     },
     "execution_count": 39,
     "metadata": {},
     "output_type": "execute_result"
    }
   ],
   "source": [
    "from nltk.tokenize import word_tokenize\n",
    "\n",
    "# 앞에서 정의한 문자열을 단어 단위로 구분\n",
    "word_tokenize(sample_string)"
   ]
  },
  {
   "cell_type": "code",
   "execution_count": 40,
   "metadata": {
    "colab": {
     "base_uri": "https://localhost:8080/"
    },
    "id": "6vG9sO0ky5_P",
    "outputId": "3932ccb1-f89c-444c-f2f5-a8a5ccb8bc6e"
   },
   "outputs": [
    {
     "name": "stderr",
     "output_type": "stream",
     "text": [
      "[nltk_data] Downloading package punkt to\n",
      "[nltk_data]     C:\\Users\\fujeo\\AppData\\Roaming\\nltk_data...\n",
      "[nltk_data]   Package punkt is already up-to-date!\n"
     ]
    },
    {
     "data": {
      "text/plain": [
       "True"
      ]
     },
     "execution_count": 40,
     "metadata": {},
     "output_type": "execute_result"
    }
   ],
   "source": [
    "# 아마 수동설치(?)\n",
    "import nltk\n",
    "nltk.download('punkt')"
   ]
  },
  {
   "cell_type": "code",
   "execution_count": 41,
   "metadata": {
    "colab": {
     "base_uri": "https://localhost:8080/"
    },
    "id": "uz8PwwMzzMQh",
    "outputId": "1ca6c03e-a841-4661-ee8d-763ba06f6906"
   },
   "outputs": [
    {
     "data": {
      "text/plain": [
       "['Can',\n",
       " 'a',\n",
       " 'nostalgia-packed',\n",
       " 'superhero',\n",
       " 'flick',\n",
       " 'convince',\n",
       " 'people',\n",
       " 'to',\n",
       " 'leave',\n",
       " 'their',\n",
       " 'couches',\n",
       " 'and',\n",
       " 'head',\n",
       " 'to',\n",
       " 'the',\n",
       " 'cinemas',\n",
       " '?',\n",
       " '“',\n",
       " 'Wonder',\n",
       " 'Woman',\n",
       " '1984',\n",
       " '”',\n",
       " 'seeks',\n",
       " 'to',\n",
       " 'answer',\n",
       " 'that',\n",
       " 'question',\n",
       " '.',\n",
       " 'Movie',\n",
       " 'theater',\n",
       " 'owners',\n",
       " 'are',\n",
       " 'hopeful',\n",
       " 'that',\n",
       " 'the',\n",
       " '“',\n",
       " 'Wonder',\n",
       " 'Woman',\n",
       " '”',\n",
       " 'sequel',\n",
       " ',',\n",
       " 'which',\n",
       " 'arrives',\n",
       " 'Christmas',\n",
       " 'Day',\n",
       " ',',\n",
       " 'will',\n",
       " 'lure',\n",
       " 'a',\n",
       " 'key',\n",
       " 'demographic',\n",
       " 'back',\n",
       " 'to',\n",
       " 'cinemas',\n",
       " 'despite',\n",
       " 'continued',\n",
       " 'surges',\n",
       " 'in',\n",
       " 'coronavirus',\n",
       " 'cases',\n",
       " '.']"
      ]
     },
     "execution_count": 41,
     "metadata": {},
     "output_type": "execute_result"
    }
   ],
   "source": [
    "from nltk.tokenize import word_tokenize\n",
    "word_tokenize(sample_string)"
   ]
  },
  {
   "cell_type": "markdown",
   "metadata": {
    "id": "QbJgfURYzjX-"
   },
   "source": [
    "### 한글"
   ]
  },
  {
   "cell_type": "code",
   "execution_count": 42,
   "metadata": {
    "id": "XU244bCYz76D"
   },
   "outputs": [],
   "source": [
    "korean_string = \"일본의 소행성 탐사선 하야부사 2호가 소행성 ‘류구’에서 채취한 표본(흙)의 새로운 사진이 공개됐다. 최근 일본 우주항공연구개발기구(JAXA)는 최대 1cm에 달하는 검은 표본을 포함 지금까지 1mm이상의 검은 입자가 다수 발견됐다고 밝혔다. 하야부사 2호가 류구에서 가져온 표본은 총 5.4g 정도로 이는 목표치의 50배가 넘는다.\""
   ]
  },
  {
   "cell_type": "code",
   "execution_count": 43,
   "metadata": {
    "colab": {
     "base_uri": "https://localhost:8080/"
    },
    "id": "0WJujwk-z98H",
    "outputId": "cb69b804-5c59-4961-8f1f-0bf268163617"
   },
   "outputs": [
    {
     "data": {
      "text/plain": [
       "['일본의',\n",
       " '소행성',\n",
       " '탐사선',\n",
       " '하야부사',\n",
       " '2호가',\n",
       " '소행성',\n",
       " '‘류구’에서',\n",
       " '채취한',\n",
       " '표본(흙)의',\n",
       " '새로운',\n",
       " '사진이',\n",
       " '공개됐다.',\n",
       " '최근',\n",
       " '일본',\n",
       " '우주항공연구개발기구(JAXA)는',\n",
       " '최대',\n",
       " '1cm에',\n",
       " '달하는',\n",
       " '검은',\n",
       " '표본을',\n",
       " '포함',\n",
       " '지금까지',\n",
       " '1mm이상의',\n",
       " '검은',\n",
       " '입자가',\n",
       " '다수',\n",
       " '발견됐다고',\n",
       " '밝혔다.',\n",
       " '하야부사',\n",
       " '2호가',\n",
       " '류구에서',\n",
       " '가져온',\n",
       " '표본은',\n",
       " '총',\n",
       " '5.4g',\n",
       " '정도로',\n",
       " '이는',\n",
       " '목표치의',\n",
       " '50배가',\n",
       " '넘는다.']"
      ]
     },
     "execution_count": 43,
     "metadata": {},
     "output_type": "execute_result"
    }
   ],
   "source": [
    "from nltk.tokenize import SpaceTokenizer\n",
    "SpaceTokenizer().tokenize(korean_string)"
   ]
  },
  {
   "cell_type": "code",
   "execution_count": 44,
   "metadata": {
    "colab": {
     "base_uri": "https://localhost:8080/"
    },
    "id": "z6FvLMfW0CSa",
    "outputId": "990e0672-41cf-421b-ec6b-e3b6a86f86e9"
   },
   "outputs": [
    {
     "data": {
      "text/plain": [
       "['일본의',\n",
       " '소행성',\n",
       " '탐사선',\n",
       " '하야부사',\n",
       " '2호가',\n",
       " '소행성',\n",
       " '‘',\n",
       " '류구',\n",
       " '’',\n",
       " '에서',\n",
       " '채취한',\n",
       " '표본',\n",
       " '(',\n",
       " '흙',\n",
       " ')',\n",
       " '의',\n",
       " '새로운',\n",
       " '사진이',\n",
       " '공개됐다',\n",
       " '.',\n",
       " '최근',\n",
       " '일본',\n",
       " '우주항공연구개발기구',\n",
       " '(',\n",
       " 'JAXA',\n",
       " ')',\n",
       " '는',\n",
       " '최대',\n",
       " '1cm에',\n",
       " '달하는',\n",
       " '검은',\n",
       " '표본을',\n",
       " '포함',\n",
       " '지금까지',\n",
       " '1mm이상의',\n",
       " '검은',\n",
       " '입자가',\n",
       " '다수',\n",
       " '발견됐다고',\n",
       " '밝혔다',\n",
       " '.',\n",
       " '하야부사',\n",
       " '2호가',\n",
       " '류구에서',\n",
       " '가져온',\n",
       " '표본은',\n",
       " '총',\n",
       " '5.4g',\n",
       " '정도로',\n",
       " '이는',\n",
       " '목표치의',\n",
       " '50배가',\n",
       " '넘는다',\n",
       " '.']"
      ]
     },
     "execution_count": 44,
     "metadata": {},
     "output_type": "execute_result"
    }
   ],
   "source": [
    "from nltk.tokenize import word_tokenize\n",
    "word_tokenize(korean_string)"
   ]
  },
  {
   "cell_type": "markdown",
   "metadata": {
    "id": "IN9grqls0Vpw"
   },
   "source": [
    "<p><img alt=\"Colaboratory logo\" height=\"45px\" src=\"https://konlpy.org/en/latest/_static/konlpy.png\" align=\"left\" hspace=\"10px\" vspace=\"0px\"></p>\n",
    "\n",
    "## KoNLPy 한국어 형태소 분석기\n",
    "- Hannanum\n",
    "- Kkma\n",
    "- Komoran\n",
    "- Mecab\n",
    "- Okt(Twitter)\n",
    "\n",
    "[성능비교](https://passerby14.tistory.com/3)\n",
    "\n",
    "    * 한국어 정보처리를 위한 파이썬 패키지\n",
    "    * KoNLPy를 이용해 영화 리뷰 감정분석 해보기"
   ]
  },
  {
   "cell_type": "code",
   "execution_count": 45,
   "metadata": {
    "id": "5Oq2UKjg0Gm8"
   },
   "outputs": [],
   "source": [
    "korean_string = \"일본의 소행성 탐사선 하야부사 2호가 소행성 ‘류구’에서 채취한 표본(흙)의 새로운 사진이 공개됐다. 최근 일본 우주항공연구개발기구(JAXA)는 최대 1cm에 달하는 검은 표본을 포함 지금까지 1mm이상의 검은 입자가 다수 발견됐다고 밝혔다. 하야부사 2호가 류구에서 가져온 표본은 총 5.4g 정도로 이는 목표치의 50배가 넘는다.\""
   ]
  },
  {
   "cell_type": "markdown",
   "metadata": {
    "id": "76cBCqfXgY--"
   },
   "source": [
    "### KoNLPy install\n",
    "[KoNLPy 설치](https://konlpy-ko.readthedocs.io/ko/v0.4.4/install/)"
   ]
  },
  {
   "cell_type": "markdown",
   "metadata": {
    "id": "LFP21yr7ghmt"
   },
   "source": [
    "### Okt(Twitter)\n",
    "[사용법](https://konlpy-ko.readthedocs.io/ko/v0.4.4/api/konlpy.tag/#module-konlpy.tag._twitter)"
   ]
  },
  {
   "cell_type": "code",
   "execution_count": 46,
   "metadata": {},
   "outputs": [],
   "source": [
    "from konlpy.tag import Okt\n",
    "okt = Okt()"
   ]
  },
  {
   "cell_type": "code",
   "execution_count": 48,
   "metadata": {
    "colab": {
     "base_uri": "https://localhost:8080/"
    },
    "id": "scRwN0Zy28FE",
    "outputId": "edc50634-83a5-4803-f0dc-c6937b64d801"
   },
   "outputs": [
    {
     "data": {
      "text/plain": [
       "['일본',\n",
       " '일본의 소행성',\n",
       " '일본의 소행성 탐사선',\n",
       " '일본의 소행성 탐사선 하야부사',\n",
       " '일본의 소행성 탐사선 하야부사 2호가',\n",
       " '일본의 소행성 탐사선 하야부사 2호가 소행성',\n",
       " '류구',\n",
       " '채취',\n",
       " '표본',\n",
       " '의 새로운 사진',\n",
       " '공개',\n",
       " '최근',\n",
       " '최근 일본',\n",
       " '최근 일본 우주항공연구개발기구',\n",
       " 'JAXA',\n",
       " '최대',\n",
       " '최대 1cm',\n",
       " '달하는 검은 표본',\n",
       " '포함',\n",
       " '포함 지금',\n",
       " '1mm이상',\n",
       " '1mm이상의 검은 입자',\n",
       " '다수',\n",
       " '다수 발견',\n",
       " '하야부사',\n",
       " '하야부사 2호가',\n",
       " '하야부사 2호가 류구',\n",
       " '총 5.4g',\n",
       " '총 5.4g 정도',\n",
       " '목표치의',\n",
       " '목표치의 50배',\n",
       " '소행성',\n",
       " '탐사선',\n",
       " '호가',\n",
       " '사진',\n",
       " '우주',\n",
       " '항공',\n",
       " '연구개발',\n",
       " '기구',\n",
       " '1cm',\n",
       " '지금',\n",
       " '1mm',\n",
       " '이상',\n",
       " '입자',\n",
       " '발견',\n",
       " '5.4g',\n",
       " '정도',\n",
       " '목표',\n",
       " '치의',\n",
       " '50']"
      ]
     },
     "execution_count": 48,
     "metadata": {},
     "output_type": "execute_result"
    }
   ],
   "source": [
    "# 어절\n",
    "okt.phrases(korean_string)"
   ]
  },
  {
   "cell_type": "code",
   "execution_count": 49,
   "metadata": {
    "colab": {
     "base_uri": "https://localhost:8080/"
    },
    "id": "3o7-Fo4v3D-1",
    "outputId": "96205f1b-40c9-4f9b-f6fe-2f85002eee02"
   },
   "outputs": [
    {
     "data": {
      "text/plain": [
       "['일본',\n",
       " '의',\n",
       " '소행성',\n",
       " '탐사선',\n",
       " '하야부사',\n",
       " '2',\n",
       " '호가',\n",
       " '소행성',\n",
       " '‘',\n",
       " '류구',\n",
       " '’',\n",
       " '에서',\n",
       " '채취',\n",
       " '한',\n",
       " '표본',\n",
       " '(',\n",
       " '흙',\n",
       " ')',\n",
       " '의',\n",
       " '새로운',\n",
       " '사진',\n",
       " '이',\n",
       " '공개',\n",
       " '됐다',\n",
       " '.',\n",
       " '최근',\n",
       " '일본',\n",
       " '우주',\n",
       " '항공',\n",
       " '연구개발',\n",
       " '기구',\n",
       " '(',\n",
       " 'JAXA',\n",
       " ')',\n",
       " '는',\n",
       " '최대',\n",
       " '1',\n",
       " 'cm',\n",
       " '에',\n",
       " '달',\n",
       " '하는',\n",
       " '검은',\n",
       " '표본',\n",
       " '을',\n",
       " '포함',\n",
       " '지금',\n",
       " '까지',\n",
       " '1',\n",
       " 'mm',\n",
       " '이상',\n",
       " '의',\n",
       " '검은',\n",
       " '입자',\n",
       " '가',\n",
       " '다수',\n",
       " '발견',\n",
       " '됐다고',\n",
       " '밝혔다',\n",
       " '.',\n",
       " '하야부사',\n",
       " '2',\n",
       " '호가',\n",
       " '류구',\n",
       " '에서',\n",
       " '가져온',\n",
       " '표본',\n",
       " '은',\n",
       " '총',\n",
       " '5.4',\n",
       " 'g',\n",
       " '정도',\n",
       " '로',\n",
       " '이는',\n",
       " '목표',\n",
       " '치의',\n",
       " '50',\n",
       " '배',\n",
       " '가',\n",
       " '넘는다',\n",
       " '.']"
      ]
     },
     "execution_count": 49,
     "metadata": {},
     "output_type": "execute_result"
    }
   ],
   "source": [
    "# 형태소\n",
    "okt.morphs(korean_string)"
   ]
  },
  {
   "cell_type": "code",
   "execution_count": 50,
   "metadata": {
    "colab": {
     "base_uri": "https://localhost:8080/"
    },
    "id": "nel7P92y3gtO",
    "outputId": "70eb748b-41e9-427f-b46e-d316c10acb27"
   },
   "outputs": [
    {
     "data": {
      "text/plain": [
       "['일본',\n",
       " '소행성',\n",
       " '탐사선',\n",
       " '하야부사',\n",
       " '호가',\n",
       " '소행성',\n",
       " '류구',\n",
       " '채취',\n",
       " '표본',\n",
       " '흙',\n",
       " '의',\n",
       " '사진',\n",
       " '공개',\n",
       " '최근',\n",
       " '일본',\n",
       " '우주',\n",
       " '항공',\n",
       " '연구개발',\n",
       " '기구',\n",
       " '최대',\n",
       " '달',\n",
       " '표본',\n",
       " '포함',\n",
       " '지금',\n",
       " '이상',\n",
       " '입자',\n",
       " '다수',\n",
       " '발견',\n",
       " '하야부사',\n",
       " '호가',\n",
       " '류구',\n",
       " '표본',\n",
       " '총',\n",
       " '정도',\n",
       " '목표',\n",
       " '치의',\n",
       " '배']"
      ]
     },
     "execution_count": 50,
     "metadata": {},
     "output_type": "execute_result"
    }
   ],
   "source": [
    "# 명사\n",
    "okt.nouns(korean_string)"
   ]
  },
  {
   "cell_type": "markdown",
   "metadata": {
    "id": "B1-j6Kxwj8xF"
   },
   "source": [
    "## 형태소분석기를 통한 word2vec"
   ]
  },
  {
   "cell_type": "code",
   "execution_count": 51,
   "metadata": {
    "id": "MrSdWf2LgL1a"
   },
   "outputs": [],
   "source": [
    "# 원문 : https://news.naver.com/main/read.nhn?mode=LSD&mid=shm&sid1=105&oid=081&aid=0003150845\n",
    "news_string = \"\"\"일본의 소행성 탐사선 하야부사 2호가 소행성 ‘류구’에서 채취한 표본(흙)의 새로운 사진이 공개됐다. 최근 일본 우주항공연구개발기구(JAXA)는 최대 1cm에 달하는 검은 표본을 포함 지금까지 1mm이상의 검은 입자가 다수 발견됐다고 밝혔다. 하야부사 2호가 류구에서 가져온 표본은 총 5.4g 정도로 이는 목표치의 50배가 넘는다.\n",
    "\n",
    "지난 24일 JAXA가 공개한 류구의 표본을 보면 마치 숯덩이로 가득 차 있는듯 보이는데 이는 광학현미경으로 촬영됐기 때문이다.\n",
    "\n",
    "우리말로 ‘송골매’라는 뜻을 가진 하야부사 2호는 세계 처음으로 소행성 ‘이토카와’의 미립자를 가져온 하야부사의 문제점을 보완, 개발해 지난 2014년 12월 발사됐다. 이후 하야부사 2호는 지난해 7월 지구에서 약 3억4000만㎞ 떨어진 소행성 류구에 접근해 금속탄환으로 웅덩이를 만든 뒤 내부 물질을 채취하는 데 성공했다.\n",
    "\n",
    "일본 우주항공연구개발기구(JAXA) 요원이 6일 호주 사우스 오스트레일리아주 우메라 사막지대에 떨어진 소행성 류구의 내부물질을 담은 캡슐을 회수해 옮기고 있다.JAXA 제공 AP 연합뉴스\n",
    "같은 해 11월 류구를 출발해 다시 지구로 향한 하야부사 2호는 지난 5일 채취한 표본이 담긴 캡슐을 분리해 호주 서부 사막에 떨어뜨리고 새 탐사지인 지구와 화성 사이를 도는 소행성 '1998KY26'으로 향했다.\n",
    "\n",
    "하야부사 2호가 6년 동안 비행한 거리는 52억㎞로 이는 지구와 달 사이 평균거리에 1만3500배에 달한다.\n",
    "\n",
    "하야부사 2호가 탐사한 류구는 수많은 바위와 돌로 가득한 소행성으로 지름은 870m, 공전주기는 475일, 자전주기는 7.5시간이다. 특히 태양계 형성 당시의 물질이 고스란히 남아있을 것으로 추정돼 연구가치가 매우 높다. 곧 이번에 탐사선이 가져온 표본에는 태양계와 지구 탄생의 비밀을 풀어줄 단서가 담겨있을 수 있다.\n",
    "\"\"\""
   ]
  },
  {
   "cell_type": "code",
   "execution_count": 52,
   "metadata": {
    "colab": {
     "base_uri": "https://localhost:8080/"
    },
    "id": "Y37YV_6Hjhgj",
    "outputId": "890f558e-bcd0-43fb-a8cd-5cfffdb0b930"
   },
   "outputs": [
    {
     "data": {
      "text/plain": [
       "['일본의 소행성 탐사선 하야부사 2호가 소행성 ‘류구’에서 채취한 표본(흙)의 새로운 사진이 공개됐다. 최근 일본 우주항공연구개발기구(JAXA)는 최대 1cm에 달하는 검은 표본을 포함 지금까지 1mm이상의 검은 입자가 다수 발견됐다고 밝혔다. 하야부사 2호가 류구에서 가져온 표본은 총 5.4g 정도로 이는 목표치의 50배가 넘는다.',\n",
       " '',\n",
       " '지난 24일 JAXA가 공개한 류구의 표본을 보면 마치 숯덩이로 가득 차 있는듯 보이는데 이는 광학현미경으로 촬영됐기 때문이다.',\n",
       " '',\n",
       " '우리말로 ‘송골매’라는 뜻을 가진 하야부사 2호는 세계 처음으로 소행성 ‘이토카와’의 미립자를 가져온 하야부사의 문제점을 보완, 개발해 지난 2014년 12월 발사됐다. 이후 하야부사 2호는 지난해 7월 지구에서 약 3억4000만㎞ 떨어진 소행성 류구에 접근해 금속탄환으로 웅덩이를 만든 뒤 내부 물질을 채취하는 데 성공했다.',\n",
       " '',\n",
       " '일본 우주항공연구개발기구(JAXA) 요원이 6일 호주 사우스 오스트레일리아주 우메라 사막지대에 떨어진 소행성 류구의 내부물질을 담은 캡슐을 회수해 옮기고 있다.JAXA 제공 AP 연합뉴스',\n",
       " \"같은 해 11월 류구를 출발해 다시 지구로 향한 하야부사 2호는 지난 5일 채취한 표본이 담긴 캡슐을 분리해 호주 서부 사막에 떨어뜨리고 새 탐사지인 지구와 화성 사이를 도는 소행성 '1998KY26'으로 향했다.\",\n",
       " '',\n",
       " '하야부사 2호가 6년 동안 비행한 거리는 52억㎞로 이는 지구와 달 사이 평균거리에 1만3500배에 달한다.',\n",
       " '',\n",
       " '하야부사 2호가 탐사한 류구는 수많은 바위와 돌로 가득한 소행성으로 지름은 870m, 공전주기는 475일, 자전주기는 7.5시간이다. 특히 태양계 형성 당시의 물질이 고스란히 남아있을 것으로 추정돼 연구가치가 매우 높다. 곧 이번에 탐사선이 가져온 표본에는 태양계와 지구 탄생의 비밀을 풀어줄 단서가 담겨있을 수 있다.']"
      ]
     },
     "execution_count": 52,
     "metadata": {},
     "output_type": "execute_result"
    }
   ],
   "source": [
    "# splitlines() : 여러 줄로 이루어져 있는 문자열을 한 라인씩 분리하여 리스트로 반환\n",
    "\n",
    "news_list = news_string.splitlines()\n",
    "news_list"
   ]
  },
  {
   "cell_type": "code",
   "execution_count": 54,
   "metadata": {
    "id": "jiJ_PuLYjieJ"
   },
   "outputs": [],
   "source": [
    "import os\n",
    "\n",
    "# replace() : 문자열 변경\n",
    "# replace(old, new, [count]) -> replace(\"찾을 값\", \"바꿀 값\", [바꿀 횟수])\n",
    "\n",
    "# os.linesep는 텍스트 파일의 라인을 통해 반복할 때 사용 됨\n",
    "# scanner는 이를 인식하고 단일 '\\n'으로 교체\n",
    "# news_list = news_string.replace(\"\\n\\n\" , \"\\n\").splitlines()\n",
    "news_list = news_string.replace(os.linesep + os.linesep , os.linesep).splitlines()"
   ]
  },
  {
   "cell_type": "code",
   "execution_count": 59,
   "metadata": {
    "colab": {
     "base_uri": "https://localhost:8080/"
    },
    "id": "pDoPibwQkcF7",
    "outputId": "756e571c-5de1-4eec-fabc-af5df844c3fb"
   },
   "outputs": [
    {
     "data": {
      "text/plain": [
       "['일본의 소행성 탐사선 하야부사 2호가 소행성 ‘류구’에서 채취한 표본(흙)의 새로운 사진이 공개됐다. 최근 일본 우주항공연구개발기구(JAXA)는 최대 1cm에 달하는 검은 표본을 포함 지금까지 1mm이상의 검은 입자가 다수 발견됐다고 밝혔다. 하야부사 2호가 류구에서 가져온 표본은 총 5.4g 정도로 이는 목표치의 50배가 넘는다.',\n",
       " '',\n",
       " '지난 24일 JAXA가 공개한 류구의 표본을 보면 마치 숯덩이로 가득 차 있는듯 보이는데 이는 광학현미경으로 촬영됐기 때문이다.',\n",
       " '',\n",
       " '우리말로 ‘송골매’라는 뜻을 가진 하야부사 2호는 세계 처음으로 소행성 ‘이토카와’의 미립자를 가져온 하야부사의 문제점을 보완, 개발해 지난 2014년 12월 발사됐다. 이후 하야부사 2호는 지난해 7월 지구에서 약 3억4000만㎞ 떨어진 소행성 류구에 접근해 금속탄환으로 웅덩이를 만든 뒤 내부 물질을 채취하는 데 성공했다.',\n",
       " '',\n",
       " '일본 우주항공연구개발기구(JAXA) 요원이 6일 호주 사우스 오스트레일리아주 우메라 사막지대에 떨어진 소행성 류구의 내부물질을 담은 캡슐을 회수해 옮기고 있다.JAXA 제공 AP 연합뉴스',\n",
       " \"같은 해 11월 류구를 출발해 다시 지구로 향한 하야부사 2호는 지난 5일 채취한 표본이 담긴 캡슐을 분리해 호주 서부 사막에 떨어뜨리고 새 탐사지인 지구와 화성 사이를 도는 소행성 '1998KY26'으로 향했다.\",\n",
       " '',\n",
       " '하야부사 2호가 6년 동안 비행한 거리는 52억㎞로 이는 지구와 달 사이 평균거리에 1만3500배에 달한다.',\n",
       " '',\n",
       " '하야부사 2호가 탐사한 류구는 수많은 바위와 돌로 가득한 소행성으로 지름은 870m, 공전주기는 475일, 자전주기는 7.5시간이다. 특히 태양계 형성 당시의 물질이 고스란히 남아있을 것으로 추정돼 연구가치가 매우 높다. 곧 이번에 탐사선이 가져온 표본에는 태양계와 지구 탄생의 비밀을 풀어줄 단서가 담겨있을 수 있다.']"
      ]
     },
     "execution_count": 59,
     "metadata": {},
     "output_type": "execute_result"
    }
   ],
   "source": [
    "news_list"
   ]
  },
  {
   "cell_type": "code",
   "execution_count": 57,
   "metadata": {
    "id": "Lif1pycMktHq"
   },
   "outputs": [],
   "source": [
    "news_token = []"
   ]
  },
  {
   "cell_type": "markdown",
   "metadata": {
    "id": "T-K1wPFOlXvv"
   },
   "source": [
    "### 명사 추출 분석"
   ]
  },
  {
   "cell_type": "code",
   "execution_count": 58,
   "metadata": {
    "id": "pbNlaF9Pk3tE"
   },
   "outputs": [],
   "source": [
    "for news in news_list:\n",
    "    # okt.nouns(string) : string에서 명사를 반환\n",
    "    news_token.append( okt.nouns(news))"
   ]
  },
  {
   "cell_type": "code",
   "execution_count": 67,
   "metadata": {
    "colab": {
     "base_uri": "https://localhost:8080/"
    },
    "id": "CmbxBLGJlQUJ",
    "outputId": "42fb4072-f48e-41bf-e353-7b1b7b033967"
   },
   "outputs": [
    {
     "data": {
      "text/plain": [
       "[['일본',\n",
       "  '소행성',\n",
       "  '탐사선',\n",
       "  '하야부사',\n",
       "  '호가',\n",
       "  '소행성',\n",
       "  '류구',\n",
       "  '채취',\n",
       "  '표본',\n",
       "  '흙',\n",
       "  '의',\n",
       "  '사진',\n",
       "  '공개',\n",
       "  '최근',\n",
       "  '일본',\n",
       "  '우주',\n",
       "  '항공',\n",
       "  '연구개발',\n",
       "  '기구',\n",
       "  '최대',\n",
       "  '달',\n",
       "  '표본',\n",
       "  '포함',\n",
       "  '지금',\n",
       "  '이상',\n",
       "  '입자',\n",
       "  '다수',\n",
       "  '발견',\n",
       "  '하야부사',\n",
       "  '호가',\n",
       "  '류구',\n",
       "  '표본',\n",
       "  '총',\n",
       "  '정도',\n",
       "  '목표',\n",
       "  '치의',\n",
       "  '배'],\n",
       " [],\n",
       " ['지난', '공개', '류구', '표본', '마치', '숯', '덩이', '가득', '차', '광학현미경', '촬영', '때문'],\n",
       " [],\n",
       " ['우리말',\n",
       "  '송골매',\n",
       "  '뜻',\n",
       "  '하야부사',\n",
       "  '호',\n",
       "  '세계',\n",
       "  '처음',\n",
       "  '소행성',\n",
       "  '토카',\n",
       "  '의',\n",
       "  '미립',\n",
       "  '하야부사',\n",
       "  '문제점',\n",
       "  '보완',\n",
       "  '개발',\n",
       "  '지난',\n",
       "  '발사',\n",
       "  '이후',\n",
       "  '하야부사',\n",
       "  '호',\n",
       "  '지난해',\n",
       "  '지구',\n",
       "  '약',\n",
       "  '소행성',\n",
       "  '류구',\n",
       "  '접근',\n",
       "  '금속',\n",
       "  '탄환',\n",
       "  '웅덩이',\n",
       "  '뒤',\n",
       "  '내부',\n",
       "  '물질',\n",
       "  '채취',\n",
       "  '데'],\n",
       " [],\n",
       " ['일본',\n",
       "  '우주',\n",
       "  '항공',\n",
       "  '연구개발',\n",
       "  '기구',\n",
       "  '요원',\n",
       "  '호주',\n",
       "  '사우스',\n",
       "  '오스트레일리아',\n",
       "  '주',\n",
       "  '우메',\n",
       "  '사막',\n",
       "  '지대',\n",
       "  '소행성',\n",
       "  '류구',\n",
       "  '내부',\n",
       "  '물질',\n",
       "  '캡슐',\n",
       "  '회수',\n",
       "  '제공',\n",
       "  '연합뉴스'],\n",
       " ['해',\n",
       "  '류구',\n",
       "  '출발',\n",
       "  '다시',\n",
       "  '지구',\n",
       "  '향',\n",
       "  '하야부사',\n",
       "  '호',\n",
       "  '지난',\n",
       "  '채취',\n",
       "  '표본',\n",
       "  '캡슐',\n",
       "  '분리',\n",
       "  '호주',\n",
       "  '서부',\n",
       "  '사막',\n",
       "  '새',\n",
       "  '탐사',\n",
       "  '지인',\n",
       "  '지구',\n",
       "  '화성',\n",
       "  '사이',\n",
       "  '도',\n",
       "  '소행성',\n",
       "  '향'],\n",
       " [],\n",
       " ['하야부사', '호가', '동안', '비행', '거리', '로', '지구', '달', '사이', '평균', '거리', '배', '달'],\n",
       " [],\n",
       " ['하야부사',\n",
       "  '호가',\n",
       "  '탐사',\n",
       "  '류구',\n",
       "  '바위',\n",
       "  '돌',\n",
       "  '소행성',\n",
       "  '지름',\n",
       "  '공전주기',\n",
       "  '자전주기',\n",
       "  '태양계',\n",
       "  '형성',\n",
       "  '당시',\n",
       "  '물질',\n",
       "  '고스',\n",
       "  '란',\n",
       "  '것',\n",
       "  '추정',\n",
       "  '가치',\n",
       "  '매우',\n",
       "  '곧',\n",
       "  '이번',\n",
       "  '탐사선',\n",
       "  '표본',\n",
       "  '태양계',\n",
       "  '지구',\n",
       "  '탄생',\n",
       "  '비밀',\n",
       "  '단서',\n",
       "  '수']]"
      ]
     },
     "execution_count": 67,
     "metadata": {},
     "output_type": "execute_result"
    }
   ],
   "source": [
    "news_token"
   ]
  },
  {
   "cell_type": "code",
   "execution_count": 60,
   "metadata": {
    "id": "vKHV66KIlRnx"
   },
   "outputs": [
    {
     "name": "stdout",
     "output_type": "stream",
     "text": [
      "Word2Vec(vocab=29, size=128, alpha=0.025)\n"
     ]
    }
   ],
   "source": [
    "# 명사를 저장한 리스트로 모델 생성\n",
    "# window : 고려할 앞뒤의 폭\n",
    "model = Word2Vec(sentences = news_token, size = 128, window = 5, min_count = 2)\n",
    "print(model)"
   ]
  },
  {
   "cell_type": "code",
   "execution_count": 66,
   "metadata": {
    "colab": {
     "base_uri": "https://localhost:8080/"
    },
    "id": "2k2E1O5Fl5Be",
    "outputId": "5f034434-1b78-40e0-90f5-2418ccf7dc23",
    "scrolled": true
   },
   "outputs": [
    {
     "data": {
      "text/plain": [
       "['하야부사',\n",
       " '소행성',\n",
       " '류구',\n",
       " '표본',\n",
       " '지구',\n",
       " '호가',\n",
       " '일본',\n",
       " '채취',\n",
       " '달',\n",
       " '지난',\n",
       " '호',\n",
       " '물질',\n",
       " '탐사선',\n",
       " '의',\n",
       " '공개',\n",
       " '우주',\n",
       " '항공',\n",
       " '연구개발',\n",
       " '기구',\n",
       " '배',\n",
       " '내부',\n",
       " '호주',\n",
       " '사막',\n",
       " '캡슐',\n",
       " '향',\n",
       " '탐사',\n",
       " '사이',\n",
       " '거리',\n",
       " '태양계']"
      ]
     },
     "execution_count": 66,
     "metadata": {},
     "output_type": "execute_result"
    }
   ],
   "source": [
    "# index2word는 모델의 사전에 있는 단어명을 담은 리스트\n",
    "# 보통, 속도를 위해 set형태로 초기화 함\n",
    "model.wv.index2word"
   ]
  },
  {
   "cell_type": "code",
   "execution_count": 67,
   "metadata": {
    "colab": {
     "base_uri": "https://localhost:8080/"
    },
    "id": "CCi3hSqWmAEG",
    "outputId": "5e727949-bb17-408a-a2ad-ed3dc922e219"
   },
   "outputs": [
    {
     "data": {
      "text/plain": [
       "array([[-0.01254572, -0.00629745],\n",
       "       [ 0.01368633, -0.00147469],\n",
       "       [ 0.01112758, -0.01046   ],\n",
       "       [-0.00251158,  0.00566724],\n",
       "       [-0.0030304 ,  0.01504117],\n",
       "       [-0.00108718, -0.00128175],\n",
       "       [-0.00734353, -0.00461017],\n",
       "       [ 0.00617901,  0.00248413],\n",
       "       [-0.00216695,  0.00191618],\n",
       "       [-0.0040636 ,  0.00099429],\n",
       "       [-0.00158686,  0.00854505],\n",
       "       [ 0.01137654,  0.00125878],\n",
       "       [ 0.0037138 ,  0.00251982],\n",
       "       [-0.00029693,  0.00709436],\n",
       "       [-0.00417633, -0.00967586],\n",
       "       [-0.00751389,  0.00227402],\n",
       "       [ 0.00321871,  0.00345351],\n",
       "       [ 0.01647417,  0.00656951],\n",
       "       [-0.00228024,  0.00920821],\n",
       "       [ 0.00216701,  0.00241593],\n",
       "       [-0.0088468 ,  0.00492323],\n",
       "       [-0.0085609 , -0.00214528],\n",
       "       [ 0.00693494, -0.01188187],\n",
       "       [-0.00703132, -0.00961186],\n",
       "       [-0.00402202, -0.00562058],\n",
       "       [ 0.00371077, -0.00771977],\n",
       "       [-0.00375902,  0.00153183],\n",
       "       [ 0.00091149,  0.00330879],\n",
       "       [ 0.00132291, -0.00842677]], dtype=float32)"
      ]
     },
     "execution_count": 67,
     "metadata": {},
     "output_type": "execute_result"
    }
   ],
   "source": [
    "from sklearn.decomposition import PCA\n",
    "pca = PCA(n_components=2)\n",
    "X = model.wv[model.wv.vocab]\n",
    "result = pca.fit_transform(X)\n",
    "result"
   ]
  },
  {
   "cell_type": "code",
   "execution_count": 72,
   "metadata": {
    "id": "UWVuEebAmtTH"
   },
   "outputs": [],
   "source": [
    "# import matplotlib.pyplot as plt\n",
    "\n",
    "# plt.figure(figsize=(20,15))\n",
    "# plt.scatter(result[:, 0], result[:, 1])\n",
    "# words = list(model.wv.vocab)\n",
    "# for i, word in enumerate(words):\n",
    "# \tplt.annotate(word, xy=(result[i, 0], result[i, 1]))\n",
    "# plt.show()"
   ]
  },
  {
   "cell_type": "markdown",
   "metadata": {
    "id": "MBib5DxLndeW"
   },
   "source": [
    "# 한글폰트 설치"
   ]
  },
  {
   "cell_type": "markdown",
   "metadata": {
    "id": "rnqMOXVGw-bz"
   },
   "source": [
    "## 경고!\n",
    "```\n",
    "colab에서는\n",
    "한글폰트가 설치되기 이전에 matplotlib를 출력하게되면\n",
    "한글폰트가 없는 상태에서 폰트가 cache되기때분에 문제가 발생!\n",
    "```"
   ]
  },
  {
   "cell_type": "code",
   "execution_count": 24,
   "metadata": {
    "id": "zCjrnb3foven"
   },
   "outputs": [],
   "source": [
    "%matplotlib inline  \n",
    "\n",
    "import matplotlib as mpl  # 기본 설정 만지는 용도\n",
    "import matplotlib.pyplot as plt  # 그래프 그리는 용도\n",
    "import matplotlib.font_manager as fm  # 폰트 관련 용도"
   ]
  },
  {
   "cell_type": "code",
   "execution_count": 25,
   "metadata": {
    "colab": {
     "base_uri": "https://localhost:8080/"
    },
    "id": "H-NKDSKGpU91",
    "outputId": "6c1e6300-5056-4f0d-8ae4-b779c81d169f"
   },
   "outputs": [
    {
     "name": "stdout",
     "output_type": "stream",
     "text": [
      "sys_font number: 357\n",
      "['C:\\\\Windows\\\\Fonts\\\\corbelz.ttf', 'C:\\\\Users\\\\fujeo\\\\AppData\\\\Local\\\\Microsoft\\\\Windows\\\\Fonts\\\\THEapplemintM.otf', 'C:\\\\Windows\\\\Fonts\\\\trebucbi.ttf', 'C:\\\\WINDOWS\\\\Fonts\\\\comic.ttf', 'C:\\\\Windows\\\\Fonts\\\\seguibl.ttf', 'C:\\\\WINDOWS\\\\Fonts\\\\phagspab.ttf', 'C:\\\\WINDOWS\\\\Fonts\\\\DaulGoWa.ttf', 'C:\\\\WINDOWS\\\\Fonts\\\\SitkaB.ttc', 'C:\\\\Windows\\\\Fonts\\\\경기천년바탕OTF_Regular.otf', 'C:\\\\WINDOWS\\\\Fonts\\\\corbelli.ttf', 'C:\\\\WINDOWS\\\\Fonts\\\\arialbi.ttf', 'C:\\\\WINDOWS\\\\Fonts\\\\seguiemj.ttf', 'C:\\\\WINDOWS\\\\Fonts\\\\mmrtextb.ttf', 'C:\\\\Windows\\\\Fonts\\\\gadugib.ttf', 'C:\\\\WINDOWS\\\\Fonts\\\\HANBatangExtB.ttf', 'C:\\\\WINDOWS\\\\Fonts\\\\timesbi.ttf', 'C:\\\\Users\\\\fujeo\\\\AppData\\\\Local\\\\Microsoft\\\\Windows\\\\Fonts\\\\THEapplemintL.otf', 'C:\\\\WINDOWS\\\\Fonts\\\\sylfaen.ttf', 'C:\\\\Users\\\\fujeo\\\\AppData\\\\Local\\\\Microsoft\\\\Windows\\\\Fonts\\\\THEapplemintR.otf', 'C:\\\\Users\\\\fujeo\\\\AppData\\\\Local\\\\Microsoft\\\\Windows\\\\Fonts\\\\THEdalbyulR.otf', 'C:\\\\WINDOWS\\\\Fonts\\\\NirmalaS.ttf', 'C:\\\\WINDOWS\\\\Fonts\\\\trebuc.ttf', 'C:\\\\Windows\\\\Fonts\\\\trebucbd.ttf', 'C:\\\\WINDOWS\\\\Fonts\\\\cour.ttf', 'C:\\\\Windows\\\\Fonts\\\\Nirmala.ttf', 'C:\\\\WINDOWS\\\\Fonts\\\\msyi.ttf', 'C:\\\\WINDOWS\\\\Fonts\\\\HANDotumExt.ttf', 'C:\\\\Windows\\\\Fonts\\\\mmrtextb.ttf', 'C:\\\\WINDOWS\\\\Fonts\\\\trebucbi.ttf', 'C:\\\\WINDOWS\\\\Fonts\\\\bahnschrift.ttf', 'C:\\\\WINDOWS\\\\Fonts\\\\himalaya.ttf', 'C:\\\\Windows\\\\Fonts\\\\gulim.ttc', 'C:\\\\Windows\\\\Fonts\\\\ebrima.ttf', 'C:\\\\Windows\\\\Fonts\\\\sylfaen.ttf', 'C:\\\\Windows\\\\Fonts\\\\corbelb.ttf', 'C:\\\\Windows\\\\Fonts\\\\HANBatangExt.ttf', 'C:\\\\WINDOWS\\\\Fonts\\\\msjh.ttc', 'C:\\\\Windows\\\\Fonts\\\\NirmalaB.ttf', 'C:\\\\WINDOWS\\\\Fonts\\\\Candaraz.ttf', 'C:\\\\WINDOWS\\\\Fonts\\\\consolaz.ttf', 'C:\\\\WINDOWS\\\\Fonts\\\\seguisb.ttf', 'C:\\\\Windows\\\\Fonts\\\\courbi.ttf', 'C:\\\\WINDOWS\\\\Fonts\\\\gadugib.ttf', 'C:\\\\WINDOWS\\\\Fonts\\\\경기천년바탕OTF_Regular.otf', 'C:\\\\WINDOWS\\\\Fonts\\\\segoeuil.ttf', 'C:\\\\Windows\\\\Fonts\\\\HancomEQN.ttf', 'C:\\\\WINDOWS\\\\Fonts\\\\comicbd.ttf', 'C:\\\\WINDOWS\\\\Fonts\\\\segmdl2.ttf', 'C:\\\\WINDOWS\\\\Fonts\\\\HANDotumB.ttf', 'C:\\\\Windows\\\\Fonts\\\\phagspa.ttf', 'C:\\\\WINDOWS\\\\Fonts\\\\timesbd.ttf', 'C:\\\\Windows\\\\Fonts\\\\LeelUIsl.ttf', 'C:\\\\Users\\\\fujeo\\\\AppData\\\\Local\\\\Microsoft\\\\Windows\\\\Fonts\\\\Seoulnamsan_0.otf', 'C:\\\\Windows\\\\Fonts\\\\trebucit.ttf', 'C:\\\\Users\\\\fujeo\\\\AppData\\\\Local\\\\Microsoft\\\\Windows\\\\Fonts\\\\NanumSquareRoundL.ttf', 'C:\\\\Windows\\\\Fonts\\\\arial.ttf', 'C:\\\\WINDOWS\\\\Fonts\\\\courbi.ttf', 'C:\\\\Windows\\\\Fonts\\\\cour.ttf', 'C:\\\\Windows\\\\Fonts\\\\javatext.ttf', 'C:\\\\Windows\\\\Fonts\\\\malgunbd.ttf', 'C:\\\\WINDOWS\\\\Fonts\\\\msyhl.ttc', 'C:\\\\WINDOWS\\\\Fonts\\\\NirmalaB.ttf', 'C:\\\\Windows\\\\Fonts\\\\segoeuisl.ttf', 'C:\\\\Windows\\\\Fonts\\\\seguiemj.ttf', 'C:\\\\WINDOWS\\\\Fonts\\\\gulim.ttc', 'C:\\\\Windows\\\\Fonts\\\\gadugi.ttf', 'C:\\\\Windows\\\\Fonts\\\\msjhl.ttc', 'C:\\\\Windows\\\\Fonts\\\\micross.ttf', 'C:\\\\Windows\\\\Fonts\\\\palai.ttf', 'C:\\\\Windows\\\\Fonts\\\\SitkaI.ttc', 'C:\\\\WINDOWS\\\\Fonts\\\\SitkaI.ttc', 'C:\\\\Windows\\\\Fonts\\\\tahomabd.ttf', 'C:\\\\WINDOWS\\\\Fonts\\\\corbel.ttf', 'C:\\\\WINDOWS\\\\Fonts\\\\YuGothR.ttc', 'C:\\\\Windows\\\\Fonts\\\\phagspab.ttf', 'C:\\\\WINDOWS\\\\Fonts\\\\Candarai.ttf', 'C:\\\\Windows\\\\Fonts\\\\\\x7f\\x7f\\x7f\\x7f.TTF', 'C:\\\\Windows\\\\Fonts\\\\ntailu.ttf', 'C:\\\\Users\\\\fujeo\\\\AppData\\\\Local\\\\Microsoft\\\\Windows\\\\Fonts\\\\NanumGothic.ttf', 'C:\\\\WINDOWS\\\\Fonts\\\\segoeprb.ttf', 'C:\\\\Windows\\\\Fonts\\\\Hancom Gothic Bold.ttf', 'C:\\\\WINDOWS\\\\Fonts\\\\segoeuii.ttf', 'C:\\\\WINDOWS\\\\Fonts\\\\Hancom Gothic Bold.ttf', 'C:\\\\Windows\\\\Fonts\\\\mmrtext.ttf', 'C:\\\\WINDOWS\\\\Fonts\\\\calibri.ttf', 'C:\\\\Windows\\\\Fonts\\\\HANWing2.ttf', 'C:\\\\WINDOWS\\\\Fonts\\\\taile.ttf', 'C:\\\\WINDOWS\\\\Fonts\\\\monbaiti.ttf', 'C:\\\\Windows\\\\Fonts\\\\monbaiti.ttf', 'C:\\\\WINDOWS\\\\Fonts\\\\holomdl2.ttf', 'C:\\\\Windows\\\\Fonts\\\\calibrili.ttf', 'C:\\\\WINDOWS\\\\Fonts\\\\HANBatangExtBB.ttf', 'C:\\\\Windows\\\\Fonts\\\\msjhbd.ttc', 'C:\\\\WINDOWS\\\\Fonts\\\\georgia.ttf', 'C:\\\\Windows\\\\Fonts\\\\georgiab.ttf', 'C:\\\\WINDOWS\\\\Fonts\\\\verdanaz.ttf', 'C:\\\\WINDOWS\\\\Fonts\\\\LeelaUIb.ttf', 'C:\\\\WINDOWS\\\\Fonts\\\\malgunsl.ttf', 'C:\\\\Windows\\\\Fonts\\\\mvboli.ttf', 'C:\\\\Windows\\\\Fonts\\\\timesi.ttf', 'C:\\\\Windows\\\\Fonts\\\\Inkfree.ttf', 'C:\\\\WINDOWS\\\\Fonts\\\\LeelUIsl.ttf', 'C:\\\\Windows\\\\Fonts\\\\Sitka.ttc', 'C:\\\\Windows\\\\Fonts\\\\YuGothR.ttc', 'C:\\\\Windows\\\\Fonts\\\\Candaraz.ttf', 'C:\\\\WINDOWS\\\\Fonts\\\\courbd.ttf', 'C:\\\\WINDOWS\\\\Fonts\\\\verdana.ttf', 'C:\\\\WINDOWS\\\\Fonts\\\\framd.ttf', 'C:\\\\Windows\\\\Fonts\\\\verdanai.ttf', 'C:\\\\Windows\\\\Fonts\\\\JUMJA.TTF', 'C:\\\\WINDOWS\\\\Fonts\\\\YuGothL.ttc', 'C:\\\\WINDOWS\\\\Fonts\\\\trebucbd.ttf', 'C:\\\\Windows\\\\Fonts\\\\Hancom Gothic Regular.ttf', 'C:\\\\WINDOWS\\\\Fonts\\\\tahomabd.ttf', 'C:\\\\WINDOWS\\\\Fonts\\\\gadugi.ttf', 'C:\\\\Windows\\\\Fonts\\\\trebuc.ttf', 'C:\\\\Windows\\\\Fonts\\\\YuGothB.ttc', 'C:\\\\WINDOWS\\\\Fonts\\\\seguisbi.ttf', 'C:\\\\WINDOWS\\\\Fonts\\\\simsunb.ttf', 'C:\\\\Users\\\\fujeo\\\\AppData\\\\Local\\\\Microsoft\\\\Windows\\\\Fonts\\\\Seoulnamsan_M.otf', 'C:\\\\Windows\\\\Fonts\\\\times.ttf', 'C:\\\\WINDOWS\\\\Fonts\\\\segoeui.ttf', 'C:\\\\WINDOWS\\\\Fonts\\\\wingding.ttf', 'C:\\\\WINDOWS\\\\Fonts\\\\consola.ttf', 'C:\\\\Windows\\\\Fonts\\\\arialbi.ttf', 'C:\\\\WINDOWS\\\\Fonts\\\\\\x7f\\x7f\\x7f\\x7fBOLD.TTF', 'C:\\\\Windows\\\\Fonts\\\\Candaral.ttf', 'C:\\\\WINDOWS\\\\Fonts\\\\segoesc.ttf', 'C:\\\\Windows\\\\Fonts\\\\SitkaB.ttc', 'C:\\\\Windows\\\\Fonts\\\\simsunb.ttf', 'C:\\\\Windows\\\\Fonts\\\\impact.ttf', 'C:\\\\WINDOWS\\\\Fonts\\\\seguisym.ttf', 'C:\\\\WINDOWS\\\\Fonts\\\\palabi.ttf', 'C:\\\\WINDOWS\\\\Fonts\\\\palai.ttf', 'C:\\\\Windows\\\\Fonts\\\\georgia.ttf', 'C:\\\\Windows\\\\Fonts\\\\himalaya.ttf', 'C:\\\\Windows\\\\Fonts\\\\consolab.ttf', 'C:\\\\WINDOWS\\\\Fonts\\\\HANBatangExt.ttf', 'C:\\\\Windows\\\\Fonts\\\\constanb.ttf', 'C:\\\\Windows\\\\Fonts\\\\seguisym.ttf', 'C:\\\\WINDOWS\\\\Fonts\\\\cambriab.ttf', 'C:\\\\Windows\\\\Fonts\\\\comicbd.ttf', 'C:\\\\Windows\\\\Fonts\\\\consolaz.ttf', 'C:\\\\WINDOWS\\\\Fonts\\\\times.ttf', 'C:\\\\Windows\\\\Fonts\\\\HANDotumExt.ttf', 'C:\\\\Users\\\\fujeo\\\\AppData\\\\Local\\\\Microsoft\\\\Windows\\\\Fonts\\\\SSMullaeler_otf.otf', 'C:\\\\WINDOWS\\\\Fonts\\\\segoescb.ttf', 'C:\\\\WINDOWS\\\\Fonts\\\\mmrtext.ttf', 'C:\\\\WINDOWS\\\\Fonts\\\\verdanai.ttf', 'C:\\\\Windows\\\\Fonts\\\\mingliub.ttc', 'C:\\\\Windows\\\\Fonts\\\\segoeuiz.ttf', 'C:\\\\Windows\\\\Fonts\\\\cambriaz.ttf', 'C:\\\\Windows\\\\Fonts\\\\tahoma.ttf', 'C:\\\\WINDOWS\\\\Fonts\\\\seguili.ttf', 'C:\\\\Windows\\\\Fonts\\\\HANBatangB.ttf', 'C:\\\\Windows\\\\Fonts\\\\msgothic.ttc', 'C:\\\\Windows\\\\Fonts\\\\webdings.ttf', 'C:\\\\WINDOWS\\\\Fonts\\\\HANWing2.ttf', 'C:\\\\Users\\\\fujeo\\\\AppData\\\\Local\\\\Microsoft\\\\Windows\\\\Fonts\\\\휴먼명조.ttf', 'C:\\\\Windows\\\\Fonts\\\\comici.ttf', 'C:\\\\WINDOWS\\\\Fonts\\\\HANBatangB.ttf', 'C:\\\\WINDOWS\\\\Fonts\\\\ntailub.ttf', 'C:\\\\Windows\\\\Fonts\\\\timesbd.ttf', 'C:\\\\WINDOWS\\\\Fonts\\\\cambriaz.ttf', 'C:\\\\Windows\\\\Fonts\\\\constan.ttf', 'C:\\\\Windows\\\\Fonts\\\\malgunsl.ttf', 'C:\\\\WINDOWS\\\\Fonts\\\\comicz.ttf', 'C:\\\\Windows\\\\Fonts\\\\verdanaz.ttf', 'C:\\\\Windows\\\\Fonts\\\\calibri.ttf', 'C:\\\\Windows\\\\Fonts\\\\seguisli.ttf', 'C:\\\\WINDOWS\\\\Fonts\\\\Candara.ttf', 'C:\\\\Windows\\\\Fonts\\\\SitkaZ.ttc', 'C:\\\\Windows\\\\Fonts\\\\YuGothM.ttc', 'C:\\\\Windows\\\\Fonts\\\\seguihis.ttf', 'C:\\\\WINDOWS\\\\Fonts\\\\seguibli.ttf', 'C:\\\\WINDOWS\\\\Fonts\\\\seguihis.ttf', 'C:\\\\Windows\\\\Fonts\\\\palabi.ttf', 'C:\\\\WINDOWS\\\\Fonts\\\\msjhl.ttc', 'C:\\\\Windows\\\\Fonts\\\\courbd.ttf', 'C:\\\\Windows\\\\Fonts\\\\segoepr.ttf', 'C:\\\\Windows\\\\Fonts\\\\verdana.ttf', 'C:\\\\WINDOWS\\\\Fonts\\\\constan.ttf', 'C:\\\\Users\\\\fujeo\\\\AppData\\\\Local\\\\Microsoft\\\\Windows\\\\Fonts\\\\THEdalbyulL.otf', 'C:\\\\Users\\\\fujeo\\\\AppData\\\\Local\\\\Microsoft\\\\Windows\\\\Fonts\\\\NanumSquareRoundR.ttf', 'C:\\\\Windows\\\\Fonts\\\\Candarai.ttf', 'C:\\\\WINDOWS\\\\Fonts\\\\msjhbd.ttc', 'C:\\\\Windows\\\\Fonts\\\\NirmalaS.ttf', 'C:\\\\WINDOWS\\\\Fonts\\\\malgun.ttf', 'C:\\\\Windows\\\\Fonts\\\\consolai.ttf', 'C:\\\\Users\\\\fujeo\\\\AppData\\\\Local\\\\Microsoft\\\\Windows\\\\Fonts\\\\NanumGothicET.ttf', 'C:\\\\Users\\\\fujeo\\\\AppData\\\\Local\\\\Microsoft\\\\Windows\\\\Fonts\\\\THEdalbyulR_0.otf', 'C:\\\\Windows\\\\Fonts\\\\lucon.ttf', 'C:\\\\Windows\\\\Fonts\\\\HANDotumB.ttf', 'C:\\\\WINDOWS\\\\Fonts\\\\LeelawUI.ttf', 'C:\\\\Windows\\\\Fonts\\\\\\x7f\\x7f\\x7f\\x7fBOLD.TTF', 'C:\\\\Windows\\\\Fonts\\\\HANBatang.ttf', 'C:\\\\Windows\\\\Fonts\\\\ebrimabd.ttf', 'C:\\\\Windows\\\\Fonts\\\\corbelli.ttf', 'C:\\\\WINDOWS\\\\Fonts\\\\arialbd.ttf', 'C:\\\\WINDOWS\\\\Fonts\\\\constani.ttf', 'C:\\\\WINDOWS\\\\Fonts\\\\HANDotum.ttf', 'C:\\\\WINDOWS\\\\Fonts\\\\timesi.ttf', 'C:\\\\Users\\\\fujeo\\\\AppData\\\\Local\\\\Microsoft\\\\Windows\\\\Fonts\\\\SSMullaeler.ttf', 'C:\\\\Windows\\\\Fonts\\\\verdanab.ttf', 'C:\\\\WINDOWS\\\\Fonts\\\\l_10646.ttf', 'C:\\\\Windows\\\\Fonts\\\\msyh.ttc', 'C:\\\\Windows\\\\Fonts\\\\palab.ttf', 'C:\\\\Windows\\\\Fonts\\\\seguibli.ttf', 'C:\\\\Windows\\\\Fonts\\\\segoeprb.ttf', 'C:\\\\Windows\\\\Fonts\\\\ariblk.ttf', 'C:\\\\Windows\\\\Fonts\\\\ariali.ttf', 'C:\\\\Windows\\\\Fonts\\\\segoeui.ttf', 'C:\\\\WINDOWS\\\\Fonts\\\\cambriai.ttf', 'C:\\\\Windows\\\\Fonts\\\\calibriz.ttf', 'C:\\\\Windows\\\\Fonts\\\\segmdl2.ttf', 'C:\\\\WINDOWS\\\\Fonts\\\\pala.ttf', 'C:\\\\Windows\\\\Fonts\\\\calibrib.ttf', 'C:\\\\WINDOWS\\\\Fonts\\\\NanumGothic.ttf', 'C:\\\\Windows\\\\Fonts\\\\msyhbd.ttc', 'C:\\\\Windows\\\\Fonts\\\\batang.ttc', 'C:\\\\WINDOWS\\\\Fonts\\\\lucon.ttf', 'C:\\\\Users\\\\fujeo\\\\AppData\\\\Local\\\\Microsoft\\\\Windows\\\\Fonts\\\\THEdalbyulSB_0.otf', 'C:\\\\Windows\\\\Fonts\\\\HYHWPEQ.TTF', 'C:\\\\Windows\\\\Fonts\\\\taileb.ttf', 'C:\\\\WINDOWS\\\\Fonts\\\\SitkaZ.ttc', 'C:\\\\WINDOWS\\\\Fonts\\\\YuGothM.ttc', 'C:\\\\WINDOWS\\\\Fonts\\\\webdings.ttf', 'C:\\\\WINDOWS\\\\Fonts\\\\marlett.ttf', 'C:\\\\Windows\\\\Fonts\\\\msjh.ttc', 'C:\\\\WINDOWS\\\\Fonts\\\\msyhbd.ttc', 'C:\\\\Windows\\\\Fonts\\\\l_10646.ttf', 'C:\\\\Windows\\\\Fonts\\\\Candarali.ttf', 'C:\\\\WINDOWS\\\\Fonts\\\\calibrib.ttf', 'C:\\\\WINDOWS\\\\Fonts\\\\phagspa.ttf', 'C:\\\\WINDOWS\\\\Fonts\\\\corbell.ttf', 'C:\\\\Windows\\\\Fonts\\\\consola.ttf', 'C:\\\\Windows\\\\Fonts\\\\framdit.ttf', 'C:\\\\Windows\\\\Fonts\\\\cambriab.ttf', 'C:\\\\Windows\\\\Fonts\\\\constani.ttf', 'C:\\\\Windows\\\\Fonts\\\\couri.ttf', 'C:\\\\WINDOWS\\\\Fonts\\\\Sitka.ttc', 'C:\\\\WINDOWS\\\\Fonts\\\\ntailu.ttf', 'C:\\\\Windows\\\\Fonts\\\\경기천년바탕OTF_Bold.otf', 'C:\\\\WINDOWS\\\\Fonts\\\\trebucit.ttf', 'C:\\\\Windows\\\\Fonts\\\\holomdl2.ttf', 'C:\\\\WINDOWS\\\\Fonts\\\\corbelb.ttf', 'C:\\\\WINDOWS\\\\Fonts\\\\seguisli.ttf', 'C:\\\\WINDOWS\\\\Fonts\\\\cambria.ttc', 'C:\\\\WINDOWS\\\\Fonts\\\\taileb.ttf', 'C:\\\\Windows\\\\Fonts\\\\timesbi.ttf', 'C:\\\\Windows\\\\Fonts\\\\comic.ttf', 'C:\\\\Windows\\\\Fonts\\\\calibril.ttf', 'C:\\\\WINDOWS\\\\Fonts\\\\georgiaz.ttf', 'C:\\\\WINDOWS\\\\Fonts\\\\\\x7f\\x7f\\x7f\\x7fEXTRABOLD.TTF', 'C:\\\\Windows\\\\Fonts\\\\bahnschrift.ttf', 'C:\\\\WINDOWS\\\\Fonts\\\\HANBatang.ttf', 'C:\\\\WINDOWS\\\\Fonts\\\\경기천년바탕OTF_Bold.otf', 'C:\\\\Users\\\\fujeo\\\\AppData\\\\Local\\\\Microsoft\\\\Windows\\\\Fonts\\\\Seoulnamsan.otf', 'C:\\\\WINDOWS\\\\Fonts\\\\framdit.ttf', 'C:\\\\Windows\\\\Fonts\\\\LeelawUI.ttf', 'C:\\\\Windows\\\\Fonts\\\\wingding.ttf', 'C:\\\\Users\\\\fujeo\\\\AppData\\\\Local\\\\Microsoft\\\\Windows\\\\Fonts\\\\NanumGothicET_0.ttf', 'C:\\\\Users\\\\fujeo\\\\AppData\\\\Local\\\\Microsoft\\\\Windows\\\\Fonts\\\\Seoulnamsan_BL.otf', 'C:\\\\Users\\\\fujeo\\\\AppData\\\\Local\\\\Microsoft\\\\Windows\\\\Fonts\\\\BMJUA_ttf.ttf', 'C:\\\\WINDOWS\\\\Fonts\\\\corbeli.ttf', 'C:\\\\WINDOWS\\\\Fonts\\\\javatext.ttf', 'C:\\\\WINDOWS\\\\Fonts\\\\YuGothB.ttc', 'C:\\\\WINDOWS\\\\Fonts\\\\palab.ttf', 'C:\\\\Windows\\\\Fonts\\\\calibrii.ttf', 'C:\\\\Windows\\\\Fonts\\\\HANBatangExtBB.ttf', 'C:\\\\WINDOWS\\\\Fonts\\\\msgothic.ttc', 'C:\\\\WINDOWS\\\\Fonts\\\\impact.ttf', 'C:\\\\WINDOWS\\\\Fonts\\\\calibriz.ttf', 'C:\\\\WINDOWS\\\\Fonts\\\\corbelz.ttf', 'C:\\\\Users\\\\fujeo\\\\AppData\\\\Local\\\\Microsoft\\\\Windows\\\\Fonts\\\\Deleted\\\\THEdalbyulL.otf', 'C:\\\\WINDOWS\\\\Fonts\\\\georgiab.ttf', 'C:\\\\Windows\\\\Fonts\\\\corbeli.ttf', 'C:\\\\WINDOWS\\\\Fonts\\\\micross.ttf', 'C:\\\\Windows\\\\Fonts\\\\LeelaUIb.ttf', 'C:\\\\WINDOWS\\\\Fonts\\\\comici.ttf', 'C:\\\\WINDOWS\\\\Fonts\\\\consolai.ttf', 'C:\\\\Windows\\\\Fonts\\\\ntailub.ttf', 'C:\\\\WINDOWS\\\\Fonts\\\\Gabriola.ttf', 'C:\\\\WINDOWS\\\\Fonts\\\\segoeuiz.ttf', 'C:\\\\WINDOWS\\\\Fonts\\\\Candarab.ttf', 'C:\\\\WINDOWS\\\\Fonts\\\\georgiai.ttf', 'C:\\\\Windows\\\\Fonts\\\\taile.ttf', 'C:\\\\Users\\\\fujeo\\\\AppData\\\\Local\\\\Microsoft\\\\Windows\\\\Fonts\\\\NanumSquareRoundEB.ttf', 'C:\\\\Windows\\\\Fonts\\\\msyi.ttf', 'C:\\\\Windows\\\\Fonts\\\\simsun.ttc', 'C:\\\\WINDOWS\\\\Fonts\\\\calibril.ttf', 'C:\\\\Windows\\\\Fonts\\\\Candarab.ttf', 'C:\\\\WINDOWS\\\\Fonts\\\\Inkfree.ttf', 'C:\\\\Windows\\\\Fonts\\\\framd.ttf', 'C:\\\\Windows\\\\Fonts\\\\symbol.ttf', 'C:\\\\Windows\\\\Fonts\\\\YuGothL.ttc', 'C:\\\\Users\\\\fujeo\\\\AppData\\\\Local\\\\Microsoft\\\\Windows\\\\Fonts\\\\NanumSquareRoundB.ttf', 'C:\\\\WINDOWS\\\\Fonts\\\\consolab.ttf', 'C:\\\\Windows\\\\Fonts\\\\corbell.ttf', 'C:\\\\WINDOWS\\\\Fonts\\\\segoeuisl.ttf', 'C:\\\\Windows\\\\Fonts\\\\msyhl.ttc', 'C:\\\\Windows\\\\Fonts\\\\malgun.ttf', 'C:\\\\Windows\\\\Fonts\\\\georgiai.ttf', 'C:\\\\WINDOWS\\\\Fonts\\\\mingliub.ttc', 'C:\\\\Windows\\\\Fonts\\\\segoeuib.ttf', 'C:\\\\Windows\\\\Fonts\\\\seguisbi.ttf', 'C:\\\\WINDOWS\\\\Fonts\\\\DAULEQN2.TTF', 'C:\\\\Windows\\\\Fonts\\\\Gabriola.ttf', 'C:\\\\Windows\\\\Fonts\\\\seguili.ttf', 'C:\\\\WINDOWS\\\\Fonts\\\\mvboli.ttf', 'C:\\\\WINDOWS\\\\Fonts\\\\symbol.ttf', 'C:\\\\WINDOWS\\\\Fonts\\\\ebrima.ttf', 'C:\\\\Windows\\\\Fonts\\\\segoescb.ttf', 'C:\\\\WINDOWS\\\\Fonts\\\\JUMJA.TTF', 'C:\\\\WINDOWS\\\\Fonts\\\\Candarali.ttf', 'C:\\\\WINDOWS\\\\Fonts\\\\verdanab.ttf', 'C:\\\\WINDOWS\\\\Fonts\\\\calibrili.ttf', 'C:\\\\WINDOWS\\\\Fonts\\\\seguibl.ttf', 'C:\\\\Windows\\\\Fonts\\\\arialbd.ttf', 'C:\\\\WINDOWS\\\\Fonts\\\\segoeuib.ttf', 'C:\\\\WINDOWS\\\\Fonts\\\\\\x7f\\x7f\\x7f\\x7f.TTF', 'C:\\\\Windows\\\\Fonts\\\\segoesc.ttf', 'C:\\\\Windows\\\\Fonts\\\\constanz.ttf', 'C:\\\\Users\\\\fujeo\\\\AppData\\\\Local\\\\Microsoft\\\\Windows\\\\Fonts\\\\THEdalbyulSB.otf', 'C:\\\\WINDOWS\\\\Fonts\\\\Hancom Gothic Regular.ttf', 'C:\\\\WINDOWS\\\\Fonts\\\\arial.ttf', 'C:\\\\WINDOWS\\\\Fonts\\\\ariali.ttf', 'C:\\\\WINDOWS\\\\Fonts\\\\ariblk.ttf', 'C:\\\\Windows\\\\Fonts\\\\cambria.ttc', 'C:\\\\WINDOWS\\\\Fonts\\\\Candaral.ttf', 'C:\\\\WINDOWS\\\\Fonts\\\\ebrimabd.ttf', 'C:\\\\Users\\\\fujeo\\\\AppData\\\\Local\\\\Microsoft\\\\Windows\\\\Fonts\\\\Seoulnamsan_L.otf', 'C:\\\\Windows\\\\Fonts\\\\segoeuil.ttf', 'C:\\\\WINDOWS\\\\Fonts\\\\calibrii.ttf', 'C:\\\\Windows\\\\Fonts\\\\Candara.ttf', 'C:\\\\WINDOWS\\\\Fonts\\\\malgunbd.ttf', 'C:\\\\WINDOWS\\\\Fonts\\\\constanb.ttf', 'C:\\\\Windows\\\\Fonts\\\\corbel.ttf', 'C:\\\\WINDOWS\\\\Fonts\\\\batang.ttc', 'C:\\\\WINDOWS\\\\Fonts\\\\msyh.ttc', 'C:\\\\WINDOWS\\\\Fonts\\\\segoepr.ttf', 'C:\\\\WINDOWS\\\\Fonts\\\\couri.ttf', 'C:\\\\Windows\\\\Fonts\\\\HANDotum.ttf', 'C:\\\\WINDOWS\\\\Fonts\\\\tahoma.ttf', 'C:\\\\WINDOWS\\\\Fonts\\\\simsun.ttc', 'C:\\\\Windows\\\\Fonts\\\\\\x7f\\x7f\\x7f\\x7fEXTRABOLD.TTF', 'C:\\\\Windows\\\\Fonts\\\\segoeuii.ttf', 'C:\\\\Windows\\\\Fonts\\\\comicz.ttf', 'C:\\\\Windows\\\\Fonts\\\\cambriai.ttf', 'C:\\\\Windows\\\\Fonts\\\\pala.ttf', 'C:\\\\WINDOWS\\\\Fonts\\\\HancomEQN.ttf', 'C:\\\\Windows\\\\Fonts\\\\georgiaz.ttf', 'C:\\\\Windows\\\\Fonts\\\\HANBatangExtB.ttf', 'C:\\\\WINDOWS\\\\Fonts\\\\HYHWPEQ.TTF', 'C:\\\\WINDOWS\\\\Fonts\\\\Nirmala.ttf', 'C:\\\\Windows\\\\Fonts\\\\seguisb.ttf', 'C:\\\\WINDOWS\\\\Fonts\\\\constanz.ttf']\n",
      "nanum_font number: 1\n"
     ]
    }
   ],
   "source": [
    "sys_font=fm.findSystemFonts()\n",
    "print(f\"sys_font number: {len(sys_font)}\")\n",
    "print(sys_font)\n",
    "\n",
    "nanum_font = [f for f in sys_font if 'BMJUA_ttf' in f]\n",
    "print(f\"nanum_font number: {len(nanum_font)}\")"
   ]
  },
  {
   "cell_type": "code",
   "execution_count": 26,
   "metadata": {
    "id": "AigSGEdpnDTJ"
   },
   "outputs": [
    {
     "name": "stderr",
     "output_type": "stream",
     "text": [
      "The system cannot find the path specified.\n",
      "The system cannot find the path specified.\n"
     ]
    }
   ],
   "source": [
    "!apt-get update -qq > /dev/null\n",
    "!apt-get install fonts-nanum* -qq > /dev/null"
   ]
  },
  {
   "cell_type": "code",
   "execution_count": 27,
   "metadata": {
    "colab": {
     "base_uri": "https://localhost:8080/"
    },
    "id": "GE_USoI2nmfS",
    "outputId": "294d579a-0659-43b9-ed28-810a701d6989"
   },
   "outputs": [
    {
     "name": "stdout",
     "output_type": "stream",
     "text": [
      "nanum_font number: 1\n"
     ]
    }
   ],
   "source": [
    "nanum_font = [f for f in sys_font if 'BMJUA_ttf' in f]\n",
    "print(f\"nanum_font number: {len(nanum_font)}\")"
   ]
  },
  {
   "cell_type": "code",
   "execution_count": 28,
   "metadata": {
    "colab": {
     "base_uri": "https://localhost:8080/"
    },
    "id": "Zzsq--jYpbjz",
    "outputId": "b5a6cfb6-2b82-459e-ed08-24e54dc253ec",
    "scrolled": true
   },
   "outputs": [
    {
     "data": {
      "text/plain": [
       "['C:\\\\Users\\\\fujeo\\\\AppData\\\\Local\\\\Microsoft\\\\Windows\\\\Fonts\\\\BMJUA_ttf.ttf']"
      ]
     },
     "execution_count": 28,
     "metadata": {},
     "output_type": "execute_result"
    }
   ],
   "source": [
    "nanum_font"
   ]
  },
  {
   "cell_type": "code",
   "execution_count": 29,
   "metadata": {
    "colab": {
     "base_uri": "https://localhost:8080/"
    },
    "id": "_t1BleCtp4B-",
    "outputId": "56cc578b-f56b-441e-a053-6451f85d9017"
   },
   "outputs": [
    {
     "data": {
      "text/plain": [
       "[]"
      ]
     },
     "execution_count": 29,
     "metadata": {},
     "output_type": "execute_result"
    }
   ],
   "source": [
    "[(f.name, f.fname) for f in fm.fontManager.ttflist if 'BMJUA_ttf' in f.name]\n"
   ]
  },
  {
   "cell_type": "code",
   "execution_count": 30,
   "metadata": {
    "id": "pgPQi3RuqHM7"
   },
   "outputs": [],
   "source": [
    "fm._rebuild()"
   ]
  },
  {
   "cell_type": "code",
   "execution_count": 31,
   "metadata": {
    "colab": {
     "base_uri": "https://localhost:8080/"
    },
    "id": "liL-jxbepgzz",
    "outputId": "5847bfbf-5a09-45ad-bd47-a8dbb6ceac53"
   },
   "outputs": [
    {
     "name": "stdout",
     "output_type": "stream",
     "text": [
      "Gulim\n"
     ]
    }
   ],
   "source": [
    "path = 'C:\\Windows\\Fonts\\gulim.ttc'  # 설치된 나눔글꼴중 원하는 녀석의 전체 경로를 가져오자\n",
    "font_name = fm.FontProperties(fname=path, size=10).get_name()\n",
    "print(font_name)\n",
    "plt.rc('font', family=font_name)"
   ]
  },
  {
   "cell_type": "markdown",
   "metadata": {
    "id": "vNnmJz5PyAoT"
   },
   "source": [
    "# 2차원 분석"
   ]
  },
  {
   "cell_type": "code",
   "execution_count": 70,
   "metadata": {
    "colab": {
     "base_uri": "https://localhost:8080/",
     "height": 1000
    },
    "id": "vTELUUJ4qRZD",
    "outputId": "c976d94f-539f-43a8-da8e-980d0c9bd3d3"
   },
   "outputs": [
    {
     "data": {
      "image/png": "[encoded data removed]",
      "text/plain": [
       "<Figure size 1440x1080 with 1 Axes>"
      ]
     },
     "metadata": {
      "needs_background": "light"
     },
     "output_type": "display_data"
    }
   ],
   "source": [
    "# plt.rc('font', family='NanumBarunGothic')\n",
    "# matplotlib.pylab의 rcParams 설정을 사용해 차트의 크기와 선의 색 두께 등의 기본 값 설정\n",
    "plt.rcParams[\"font.size\"] = 20\n",
    "plt.rcParams[\"figure.figsize\"] = (20,15)\n",
    "\n",
    "# scatter(x, y, s=None, c=None) : 산포그래프 작성\n",
    "# x, y에는 리스트나 넘파이 같이 iterable한(반복 가능한) 자료형을 인자로 함\n",
    "# s : 마커의 크기 / c : 마커의 색상\n",
    "# 앞에서 2개의 차원으로 축소했기 때문에 x축으로 배열의 1번째 열을, y축으로 배열의 2번째 열을 대입\n",
    "plt.scatter(result[:, 0], result[:, 1])\n",
    "# scatter 함수가 아닌, plot 함수를 사용해도 ㄱㅊ(?)\n",
    "# plot는 scatter보다 속도가 빠르지만, 자유도가 떨어짐\n",
    "\n",
    "words = list(model.wv.vocab)\n",
    "\n",
    "# enumerate() : iterable한 자료형을 입력받아, 인덱스 값을 포함하는 enumerate 객체를 return\n",
    "for i, word in enumerate(words):\n",
    "    # annotate(string, (x, y)) : (x, y) 좌표에 주석(string) 달기\n",
    "\tplt.annotate(word, xy=(result[i, 0], result[i, 1]))\n",
    "\n",
    "# 그래프에서 마이너스 폰트 깨지는 문제에 대한 대처\n",
    "# mpl.rcParams['axes.unicode_minus'] = False\n",
    "\n",
    "plt.show()"
   ]
  },
  {
   "cell_type": "markdown",
   "metadata": {
    "id": "P3phlR_81tOB"
   },
   "source": [
    "# 실습\n",
    "- 주어+동사를 이용한 형태소 분석을 실행해보고 결과를 확인해봅니다"
   ]
  },
  {
   "cell_type": "markdown",
   "metadata": {
    "id": "1SWIxaa4waes"
   },
   "source": [
    "### 형태소 분석(주어+동사)"
   ]
  },
  {
   "cell_type": "code",
   "execution_count": 71,
   "metadata": {
    "id": "LL7Tri-fv8qw"
   },
   "outputs": [],
   "source": [
    "news_token_pos = []"
   ]
  },
  {
   "cell_type": "code",
   "execution_count": 72,
   "metadata": {
    "id": "Kv93FBpVwK_2"
   },
   "outputs": [],
   "source": [
    "# pos : 단어와 단어의 품사 출력\n",
    "for news in news_list:\n",
    "    news_token_pos.append(okt.pos (news))"
   ]
  },
  {
   "cell_type": "code",
   "execution_count": 73,
   "metadata": {
    "colab": {
     "base_uri": "https://localhost:8080/"
    },
    "id": "efWEr8PYwVuJ",
    "outputId": "ff9fe4fc-52f8-48cd-d6ab-5a0cdff436a4"
   },
   "outputs": [
    {
     "data": {
      "text/plain": [
       "[[('일본', 'Noun'),\n",
       "  ('의', 'Josa'),\n",
       "  ('소행성', 'Noun'),\n",
       "  ('탐사선', 'Noun'),\n",
       "  ('하야부사', 'Noun'),\n",
       "  ('2', 'Number'),\n",
       "  ('호가', 'Noun'),\n",
       "  ('소행성', 'Noun'),\n",
       "  ('‘', 'Foreign'),\n",
       "  ('류구', 'Noun'),\n",
       "  ('’', 'Punctuation'),\n",
       "  ('에서', 'Josa'),\n",
       "  ('채취', 'Noun'),\n",
       "  ('한', 'Josa'),\n",
       "  ('표본', 'Noun'),\n",
       "  ('(', 'Punctuation'),\n",
       "  ('흙', 'Noun'),\n",
       "  (')', 'Punctuation'),\n",
       "  ('의', 'Noun'),\n",
       "  ('새로운', 'Adjective'),\n",
       "  ('사진', 'Noun'),\n",
       "  ('이', 'Josa'),\n",
       "  ('공개', 'Noun'),\n",
       "  ('됐다', 'Verb'),\n",
       "  ('.', 'Punctuation'),\n",
       "  ('최근', 'Noun'),\n",
       "  ('일본', 'Noun'),\n",
       "  ('우주', 'Noun'),\n",
       "  ('항공', 'Noun'),\n",
       "  ('연구개발', 'Noun'),\n",
       "  ('기구', 'Noun'),\n",
       "  ('(', 'Punctuation'),\n",
       "  ('JAXA', 'Alpha'),\n",
       "  (')', 'Punctuation'),\n",
       "  ('는', 'Verb'),\n",
       "  ('최대', 'Noun'),\n",
       "  ('1', 'Number'),\n",
       "  ('cm', 'Alpha'),\n",
       "  ('에', 'Josa'),\n",
       "  ('달', 'Noun'),\n",
       "  ('하는', 'Verb'),\n",
       "  ('검은', 'Adjective'),\n",
       "  ('표본', 'Noun'),\n",
       "  ('을', 'Josa'),\n",
       "  ('포함', 'Noun'),\n",
       "  ('지금', 'Noun'),\n",
       "  ('까지', 'Josa'),\n",
       "  ('1', 'Number'),\n",
       "  ('mm', 'Alpha'),\n",
       "  ('이상', 'Noun'),\n",
       "  ('의', 'Josa'),\n",
       "  ('검은', 'Adjective'),\n",
       "  ('입자', 'Noun'),\n",
       "  ('가', 'Josa'),\n",
       "  ('다수', 'Noun'),\n",
       "  ('발견', 'Noun'),\n",
       "  ('됐다고', 'Verb'),\n",
       "  ('밝혔다', 'Verb'),\n",
       "  ('.', 'Punctuation'),\n",
       "  ('하야부사', 'Noun'),\n",
       "  ('2', 'Number'),\n",
       "  ('호가', 'Noun'),\n",
       "  ('류구', 'Noun'),\n",
       "  ('에서', 'Josa'),\n",
       "  ('가져온', 'Verb'),\n",
       "  ('표본', 'Noun'),\n",
       "  ('은', 'Josa'),\n",
       "  ('총', 'Noun'),\n",
       "  ('5.4', 'Number'),\n",
       "  ('g', 'Alpha'),\n",
       "  ('정도', 'Noun'),\n",
       "  ('로', 'Josa'),\n",
       "  ('이는', 'Verb'),\n",
       "  ('목표', 'Noun'),\n",
       "  ('치의', 'Noun'),\n",
       "  ('50', 'Number'),\n",
       "  ('배', 'Noun'),\n",
       "  ('가', 'Josa'),\n",
       "  ('넘는다', 'Verb'),\n",
       "  ('.', 'Punctuation')],\n",
       " [],\n",
       " [('지난', 'Noun'),\n",
       "  ('24일', 'Number'),\n",
       "  ('JAXA', 'Alpha'),\n",
       "  ('가', 'Verb'),\n",
       "  ('공개', 'Noun'),\n",
       "  ('한', 'Josa'),\n",
       "  ('류구', 'Noun'),\n",
       "  ('의', 'Josa'),\n",
       "  ('표본', 'Noun'),\n",
       "  ('을', 'Josa'),\n",
       "  ('보면', 'Verb'),\n",
       "  ('마치', 'Noun'),\n",
       "  ('숯', 'Noun'),\n",
       "  ('덩이', 'Noun'),\n",
       "  ('로', 'Josa'),\n",
       "  ('가득', 'Noun'),\n",
       "  ('차', 'Noun'),\n",
       "  ('있는듯', 'Adjective'),\n",
       "  ('보이는데', 'Verb'),\n",
       "  ('이는', 'Verb'),\n",
       "  ('광학현미경', 'Noun'),\n",
       "  ('으로', 'Josa'),\n",
       "  ('촬영', 'Noun'),\n",
       "  ('됐기', 'Verb'),\n",
       "  ('때문', 'Noun'),\n",
       "  ('이다', 'Josa'),\n",
       "  ('.', 'Punctuation')],\n",
       " [],\n",
       " [('우리말', 'Noun'),\n",
       "  ('로', 'Josa'),\n",
       "  ('‘', 'Foreign'),\n",
       "  ('송골매', 'Noun'),\n",
       "  ('’', 'Punctuation'),\n",
       "  ('라는', 'Josa'),\n",
       "  ('뜻', 'Noun'),\n",
       "  ('을', 'Josa'),\n",
       "  ('가진', 'Verb'),\n",
       "  ('하야부사', 'Noun'),\n",
       "  ('2', 'Number'),\n",
       "  ('호', 'Noun'),\n",
       "  ('는', 'Josa'),\n",
       "  ('세계', 'Noun'),\n",
       "  ('처음', 'Noun'),\n",
       "  ('으로', 'Josa'),\n",
       "  ('소행성', 'Noun'),\n",
       "  ('‘', 'Foreign'),\n",
       "  ('이', 'Determiner'),\n",
       "  ('토카', 'Noun'),\n",
       "  ('와', 'Josa'),\n",
       "  ('’', 'Punctuation'),\n",
       "  ('의', 'Noun'),\n",
       "  ('미립', 'Noun'),\n",
       "  ('자', 'Suffix'),\n",
       "  ('를', 'Josa'),\n",
       "  ('가져온', 'Verb'),\n",
       "  ('하야부사', 'Noun'),\n",
       "  ('의', 'Josa'),\n",
       "  ('문제점', 'Noun'),\n",
       "  ('을', 'Josa'),\n",
       "  ('보완', 'Noun'),\n",
       "  (',', 'Punctuation'),\n",
       "  ('개발', 'Noun'),\n",
       "  ('해', 'Verb'),\n",
       "  ('지난', 'Noun'),\n",
       "  ('2014년', 'Number'),\n",
       "  ('12월', 'Number'),\n",
       "  ('발사', 'Noun'),\n",
       "  ('됐다', 'Verb'),\n",
       "  ('.', 'Punctuation'),\n",
       "  ('이후', 'Noun'),\n",
       "  ('하야부사', 'Noun'),\n",
       "  ('2', 'Number'),\n",
       "  ('호', 'Noun'),\n",
       "  ('는', 'Josa'),\n",
       "  ('지난해', 'Noun'),\n",
       "  ('7월', 'Number'),\n",
       "  ('지구', 'Noun'),\n",
       "  ('에서', 'Josa'),\n",
       "  ('약', 'Noun'),\n",
       "  ('3억', 'Number'),\n",
       "  ('4000만', 'Number'),\n",
       "  ('㎞', 'Foreign'),\n",
       "  ('떨어진', 'Verb'),\n",
       "  ('소행성', 'Noun'),\n",
       "  ('류구', 'Noun'),\n",
       "  ('에', 'Josa'),\n",
       "  ('접근', 'Noun'),\n",
       "  ('해', 'Verb'),\n",
       "  ('금속', 'Noun'),\n",
       "  ('탄환', 'Noun'),\n",
       "  ('으로', 'Josa'),\n",
       "  ('웅덩이', 'Noun'),\n",
       "  ('를', 'Josa'),\n",
       "  ('만든', 'Verb'),\n",
       "  ('뒤', 'Noun'),\n",
       "  ('내부', 'Noun'),\n",
       "  ('물질', 'Noun'),\n",
       "  ('을', 'Josa'),\n",
       "  ('채취', 'Noun'),\n",
       "  ('하는', 'Verb'),\n",
       "  ('데', 'Noun'),\n",
       "  ('성공했다', 'Adjective'),\n",
       "  ('.', 'Punctuation')],\n",
       " [],\n",
       " [('일본', 'Noun'),\n",
       "  ('우주', 'Noun'),\n",
       "  ('항공', 'Noun'),\n",
       "  ('연구개발', 'Noun'),\n",
       "  ('기구', 'Noun'),\n",
       "  ('(', 'Punctuation'),\n",
       "  ('JAXA', 'Alpha'),\n",
       "  (')', 'Punctuation'),\n",
       "  ('요원', 'Noun'),\n",
       "  ('이', 'Josa'),\n",
       "  ('6일', 'Number'),\n",
       "  ('호주', 'Noun'),\n",
       "  ('사우스', 'Noun'),\n",
       "  ('오스트레일리아', 'Noun'),\n",
       "  ('주', 'Noun'),\n",
       "  ('우메', 'Noun'),\n",
       "  ('라', 'Josa'),\n",
       "  ('사막', 'Noun'),\n",
       "  ('지대', 'Noun'),\n",
       "  ('에', 'Josa'),\n",
       "  ('떨어진', 'Verb'),\n",
       "  ('소행성', 'Noun'),\n",
       "  ('류구', 'Noun'),\n",
       "  ('의', 'Josa'),\n",
       "  ('내부', 'Noun'),\n",
       "  ('물질', 'Noun'),\n",
       "  ('을', 'Josa'),\n",
       "  ('담은', 'Verb'),\n",
       "  ('캡슐', 'Noun'),\n",
       "  ('을', 'Josa'),\n",
       "  ('회수', 'Noun'),\n",
       "  ('해', 'Verb'),\n",
       "  ('옮기고', 'Verb'),\n",
       "  ('있다', 'Adjective'),\n",
       "  ('.', 'Punctuation'),\n",
       "  ('JAXA', 'Alpha'),\n",
       "  ('제공', 'Noun'),\n",
       "  ('AP', 'Alpha'),\n",
       "  ('연합뉴스', 'Noun')],\n",
       " [('같은', 'Adjective'),\n",
       "  ('해', 'Noun'),\n",
       "  ('11월', 'Number'),\n",
       "  ('류구', 'Noun'),\n",
       "  ('를', 'Josa'),\n",
       "  ('출발', 'Noun'),\n",
       "  ('해', 'Verb'),\n",
       "  ('다시', 'Noun'),\n",
       "  ('지구', 'Noun'),\n",
       "  ('로', 'Josa'),\n",
       "  ('향', 'Noun'),\n",
       "  ('한', 'Josa'),\n",
       "  ('하야부사', 'Noun'),\n",
       "  ('2', 'Number'),\n",
       "  ('호', 'Noun'),\n",
       "  ('는', 'Josa'),\n",
       "  ('지난', 'Noun'),\n",
       "  ('5일', 'Number'),\n",
       "  ('채취', 'Noun'),\n",
       "  ('한', 'Josa'),\n",
       "  ('표본', 'Noun'),\n",
       "  ('이', 'Josa'),\n",
       "  ('담긴', 'Verb'),\n",
       "  ('캡슐', 'Noun'),\n",
       "  ('을', 'Josa'),\n",
       "  ('분리', 'Noun'),\n",
       "  ('해', 'Verb'),\n",
       "  ('호주', 'Noun'),\n",
       "  ('서부', 'Noun'),\n",
       "  ('사막', 'Noun'),\n",
       "  ('에', 'Josa'),\n",
       "  ('떨어뜨리고', 'Verb'),\n",
       "  ('새', 'Noun'),\n",
       "  ('탐사', 'Noun'),\n",
       "  ('지인', 'Noun'),\n",
       "  ('지구', 'Noun'),\n",
       "  ('와', 'Josa'),\n",
       "  ('화성', 'Noun'),\n",
       "  ('사이', 'Noun'),\n",
       "  ('를', 'Josa'),\n",
       "  ('도', 'Noun'),\n",
       "  ('는', 'Josa'),\n",
       "  ('소행성', 'Noun'),\n",
       "  (\"'\", 'Punctuation'),\n",
       "  ('1998', 'Number'),\n",
       "  ('KY', 'Alpha'),\n",
       "  ('26', 'Number'),\n",
       "  (\"'\", 'Punctuation'),\n",
       "  ('으로', 'Josa'),\n",
       "  ('향', 'Noun'),\n",
       "  ('했다', 'Verb'),\n",
       "  ('.', 'Punctuation')],\n",
       " [],\n",
       " [('하야부사', 'Noun'),\n",
       "  ('2', 'Number'),\n",
       "  ('호가', 'Noun'),\n",
       "  ('6년', 'Number'),\n",
       "  ('동안', 'Noun'),\n",
       "  ('비행', 'Noun'),\n",
       "  ('한', 'Josa'),\n",
       "  ('거리', 'Noun'),\n",
       "  ('는', 'Josa'),\n",
       "  ('52억', 'Number'),\n",
       "  ('㎞', 'Foreign'),\n",
       "  ('로', 'Noun'),\n",
       "  ('이는', 'Verb'),\n",
       "  ('지구', 'Noun'),\n",
       "  ('와', 'Josa'),\n",
       "  ('달', 'Noun'),\n",
       "  ('사이', 'Noun'),\n",
       "  ('평균', 'Noun'),\n",
       "  ('거리', 'Noun'),\n",
       "  ('에', 'Josa'),\n",
       "  ('1만', 'Number'),\n",
       "  ('3500', 'Number'),\n",
       "  ('배', 'Noun'),\n",
       "  ('에', 'Josa'),\n",
       "  ('달', 'Noun'),\n",
       "  ('한', 'Josa'),\n",
       "  ('다', 'Adverb'),\n",
       "  ('.', 'Punctuation')],\n",
       " [],\n",
       " [('하야부사', 'Noun'),\n",
       "  ('2', 'Number'),\n",
       "  ('호가', 'Noun'),\n",
       "  ('탐사', 'Noun'),\n",
       "  ('한', 'Josa'),\n",
       "  ('류구', 'Noun'),\n",
       "  ('는', 'Josa'),\n",
       "  ('수많은', 'Adjective'),\n",
       "  ('바위', 'Noun'),\n",
       "  ('와', 'Josa'),\n",
       "  ('돌', 'Noun'),\n",
       "  ('로', 'Josa'),\n",
       "  ('가득한', 'Adjective'),\n",
       "  ('소행성', 'Noun'),\n",
       "  ('으로', 'Josa'),\n",
       "  ('지름', 'Noun'),\n",
       "  ('은', 'Josa'),\n",
       "  ('870', 'Number'),\n",
       "  ('m', 'Alpha'),\n",
       "  (',', 'Punctuation'),\n",
       "  ('공전주기', 'Noun'),\n",
       "  ('는', 'Josa'),\n",
       "  ('475일', 'Number'),\n",
       "  (',', 'Punctuation'),\n",
       "  ('자전주기', 'Noun'),\n",
       "  ('는', 'Josa'),\n",
       "  ('7.5시간', 'Number'),\n",
       "  ('이다', 'Foreign'),\n",
       "  ('.', 'Punctuation'),\n",
       "  ('특히', 'Adverb'),\n",
       "  ('태양계', 'Noun'),\n",
       "  ('형성', 'Noun'),\n",
       "  ('당시', 'Noun'),\n",
       "  ('의', 'Josa'),\n",
       "  ('물질', 'Noun'),\n",
       "  ('이', 'Josa'),\n",
       "  ('고스', 'Noun'),\n",
       "  ('란', 'Noun'),\n",
       "  ('히', 'Adverb'),\n",
       "  ('남아있을', 'Verb'),\n",
       "  ('것', 'Noun'),\n",
       "  ('으로', 'Josa'),\n",
       "  ('추정', 'Noun'),\n",
       "  ('돼', 'Verb'),\n",
       "  ('연', 'Modifier'),\n",
       "  ('구', 'Modifier'),\n",
       "  ('가치', 'Noun'),\n",
       "  ('가', 'Josa'),\n",
       "  ('매우', 'Noun'),\n",
       "  ('높다', 'Adjective'),\n",
       "  ('.', 'Punctuation'),\n",
       "  ('곧', 'Noun'),\n",
       "  ('이번', 'Noun'),\n",
       "  ('에', 'Josa'),\n",
       "  ('탐사선', 'Noun'),\n",
       "  ('이', 'Josa'),\n",
       "  ('가져온', 'Verb'),\n",
       "  ('표본', 'Noun'),\n",
       "  ('에는', 'Josa'),\n",
       "  ('태양계', 'Noun'),\n",
       "  ('와', 'Josa'),\n",
       "  ('지구', 'Noun'),\n",
       "  ('탄생', 'Noun'),\n",
       "  ('의', 'Josa'),\n",
       "  ('비밀', 'Noun'),\n",
       "  ('을', 'Josa'),\n",
       "  ('풀어줄', 'Verb'),\n",
       "  ('단서', 'Noun'),\n",
       "  ('가', 'Josa'),\n",
       "  ('담겨있을', 'Verb'),\n",
       "  ('수', 'Noun'),\n",
       "  ('있다', 'Adjective'),\n",
       "  ('.', 'Punctuation')]]"
      ]
     },
     "execution_count": 73,
     "metadata": {},
     "output_type": "execute_result"
    }
   ],
   "source": [
    "news_token_pos"
   ]
  },
  {
   "cell_type": "code",
   "execution_count": 74,
   "metadata": {
    "id": "IF_lWsdgwWAh"
   },
   "outputs": [],
   "source": [
    "news_token_pos = []"
   ]
  },
  {
   "cell_type": "code",
   "execution_count": 75,
   "metadata": {
    "id": "v3RQ9c0fyx9Y"
   },
   "outputs": [],
   "source": [
    "def get_noun_and_verb(pos_token_list):\n",
    "    result = []\n",
    "    for (word, pos) in pos_token_list:\n",
    "        if pos == 'Noun' or pos == 'Verb':\n",
    "            result.append(word)\n",
    "            print('word :{}, pos:{}'.format(word, pos))\n",
    "    return result\n"
   ]
  },
  {
   "cell_type": "code",
   "execution_count": 76,
   "metadata": {
    "colab": {
     "base_uri": "https://localhost:8080/"
    },
    "id": "z_FJyfOvyr_h",
    "outputId": "03bf90d6-4604-4bfd-a8e4-9718508ad76a"
   },
   "outputs": [
    {
     "name": "stdout",
     "output_type": "stream",
     "text": [
      "word :일본, pos:Noun\n",
      "word :소행성, pos:Noun\n",
      "word :탐사선, pos:Noun\n",
      "word :하야부사, pos:Noun\n",
      "word :호가, pos:Noun\n",
      "word :소행성, pos:Noun\n",
      "word :류구, pos:Noun\n",
      "word :채취, pos:Noun\n",
      "word :표본, pos:Noun\n",
      "word :흙, pos:Noun\n",
      "word :의, pos:Noun\n",
      "word :사진, pos:Noun\n",
      "word :공개, pos:Noun\n",
      "word :됐다, pos:Verb\n",
      "word :최근, pos:Noun\n",
      "word :일본, pos:Noun\n",
      "word :우주, pos:Noun\n",
      "word :항공, pos:Noun\n",
      "word :연구개발, pos:Noun\n",
      "word :기구, pos:Noun\n",
      "word :는, pos:Verb\n",
      "word :최대, pos:Noun\n",
      "word :달, pos:Noun\n",
      "word :하는, pos:Verb\n",
      "word :표본, pos:Noun\n",
      "word :포함, pos:Noun\n",
      "word :지금, pos:Noun\n",
      "word :이상, pos:Noun\n",
      "word :입자, pos:Noun\n",
      "word :다수, pos:Noun\n",
      "word :발견, pos:Noun\n",
      "word :됐다고, pos:Verb\n",
      "word :밝혔다, pos:Verb\n",
      "word :하야부사, pos:Noun\n",
      "word :호가, pos:Noun\n",
      "word :류구, pos:Noun\n",
      "word :가져온, pos:Verb\n",
      "word :표본, pos:Noun\n",
      "word :총, pos:Noun\n",
      "word :정도, pos:Noun\n",
      "word :이는, pos:Verb\n",
      "word :목표, pos:Noun\n",
      "word :치의, pos:Noun\n",
      "word :배, pos:Noun\n",
      "word :넘는다, pos:Verb\n",
      "word :지난, pos:Noun\n",
      "word :가, pos:Verb\n",
      "word :공개, pos:Noun\n",
      "word :류구, pos:Noun\n",
      "word :표본, pos:Noun\n",
      "word :보면, pos:Verb\n",
      "word :마치, pos:Noun\n",
      "word :숯, pos:Noun\n",
      "word :덩이, pos:Noun\n",
      "word :가득, pos:Noun\n",
      "word :차, pos:Noun\n",
      "word :보이는데, pos:Verb\n",
      "word :이는, pos:Verb\n",
      "word :광학현미경, pos:Noun\n",
      "word :촬영, pos:Noun\n",
      "word :됐기, pos:Verb\n",
      "word :때문, pos:Noun\n",
      "word :우리말, pos:Noun\n",
      "word :송골매, pos:Noun\n",
      "word :뜻, pos:Noun\n",
      "word :가진, pos:Verb\n",
      "word :하야부사, pos:Noun\n",
      "word :호, pos:Noun\n",
      "word :세계, pos:Noun\n",
      "word :처음, pos:Noun\n",
      "word :소행성, pos:Noun\n",
      "word :토카, pos:Noun\n",
      "word :의, pos:Noun\n",
      "word :미립, pos:Noun\n",
      "word :가져온, pos:Verb\n",
      "word :하야부사, pos:Noun\n",
      "word :문제점, pos:Noun\n",
      "word :보완, pos:Noun\n",
      "word :개발, pos:Noun\n",
      "word :해, pos:Verb\n",
      "word :지난, pos:Noun\n",
      "word :발사, pos:Noun\n",
      "word :됐다, pos:Verb\n",
      "word :이후, pos:Noun\n",
      "word :하야부사, pos:Noun\n",
      "word :호, pos:Noun\n",
      "word :지난해, pos:Noun\n",
      "word :지구, pos:Noun\n",
      "word :약, pos:Noun\n",
      "word :떨어진, pos:Verb\n",
      "word :소행성, pos:Noun\n",
      "word :류구, pos:Noun\n",
      "word :접근, pos:Noun\n",
      "word :해, pos:Verb\n",
      "word :금속, pos:Noun\n",
      "word :탄환, pos:Noun\n",
      "word :웅덩이, pos:Noun\n",
      "word :만든, pos:Verb\n",
      "word :뒤, pos:Noun\n",
      "word :내부, pos:Noun\n",
      "word :물질, pos:Noun\n",
      "word :채취, pos:Noun\n",
      "word :하는, pos:Verb\n",
      "word :데, pos:Noun\n",
      "word :일본, pos:Noun\n",
      "word :우주, pos:Noun\n",
      "word :항공, pos:Noun\n",
      "word :연구개발, pos:Noun\n",
      "word :기구, pos:Noun\n",
      "word :요원, pos:Noun\n",
      "word :호주, pos:Noun\n",
      "word :사우스, pos:Noun\n",
      "word :오스트레일리아, pos:Noun\n",
      "word :주, pos:Noun\n",
      "word :우메, pos:Noun\n",
      "word :사막, pos:Noun\n",
      "word :지대, pos:Noun\n",
      "word :떨어진, pos:Verb\n",
      "word :소행성, pos:Noun\n",
      "word :류구, pos:Noun\n",
      "word :내부, pos:Noun\n",
      "word :물질, pos:Noun\n",
      "word :담은, pos:Verb\n",
      "word :캡슐, pos:Noun\n",
      "word :회수, pos:Noun\n",
      "word :해, pos:Verb\n",
      "word :옮기고, pos:Verb\n",
      "word :제공, pos:Noun\n",
      "word :연합뉴스, pos:Noun\n",
      "word :해, pos:Noun\n",
      "word :류구, pos:Noun\n",
      "word :출발, pos:Noun\n",
      "word :해, pos:Verb\n",
      "word :다시, pos:Noun\n",
      "word :지구, pos:Noun\n",
      "word :향, pos:Noun\n",
      "word :하야부사, pos:Noun\n",
      "word :호, pos:Noun\n",
      "word :지난, pos:Noun\n",
      "word :채취, pos:Noun\n",
      "word :표본, pos:Noun\n",
      "word :담긴, pos:Verb\n",
      "word :캡슐, pos:Noun\n",
      "word :분리, pos:Noun\n",
      "word :해, pos:Verb\n",
      "word :호주, pos:Noun\n",
      "word :서부, pos:Noun\n",
      "word :사막, pos:Noun\n",
      "word :떨어뜨리고, pos:Verb\n",
      "word :새, pos:Noun\n",
      "word :탐사, pos:Noun\n",
      "word :지인, pos:Noun\n",
      "word :지구, pos:Noun\n",
      "word :화성, pos:Noun\n",
      "word :사이, pos:Noun\n",
      "word :도, pos:Noun\n",
      "word :소행성, pos:Noun\n",
      "word :향, pos:Noun\n",
      "word :했다, pos:Verb\n",
      "word :하야부사, pos:Noun\n",
      "word :호가, pos:Noun\n",
      "word :동안, pos:Noun\n",
      "word :비행, pos:Noun\n",
      "word :거리, pos:Noun\n",
      "word :로, pos:Noun\n",
      "word :이는, pos:Verb\n",
      "word :지구, pos:Noun\n",
      "word :달, pos:Noun\n",
      "word :사이, pos:Noun\n",
      "word :평균, pos:Noun\n",
      "word :거리, pos:Noun\n",
      "word :배, pos:Noun\n",
      "word :달, pos:Noun\n",
      "word :하야부사, pos:Noun\n",
      "word :호가, pos:Noun\n",
      "word :탐사, pos:Noun\n",
      "word :류구, pos:Noun\n",
      "word :바위, pos:Noun\n",
      "word :돌, pos:Noun\n",
      "word :소행성, pos:Noun\n",
      "word :지름, pos:Noun\n",
      "word :공전주기, pos:Noun\n",
      "word :자전주기, pos:Noun\n",
      "word :태양계, pos:Noun\n",
      "word :형성, pos:Noun\n",
      "word :당시, pos:Noun\n",
      "word :물질, pos:Noun\n",
      "word :고스, pos:Noun\n",
      "word :란, pos:Noun\n",
      "word :남아있을, pos:Verb\n",
      "word :것, pos:Noun\n",
      "word :추정, pos:Noun\n",
      "word :돼, pos:Verb\n",
      "word :가치, pos:Noun\n",
      "word :매우, pos:Noun\n",
      "word :곧, pos:Noun\n",
      "word :이번, pos:Noun\n",
      "word :탐사선, pos:Noun\n",
      "word :가져온, pos:Verb\n",
      "word :표본, pos:Noun\n",
      "word :태양계, pos:Noun\n",
      "word :지구, pos:Noun\n",
      "word :탄생, pos:Noun\n",
      "word :비밀, pos:Noun\n",
      "word :풀어줄, pos:Verb\n",
      "word :단서, pos:Noun\n",
      "word :담겨있을, pos:Verb\n",
      "word :수, pos:Noun\n"
     ]
    }
   ],
   "source": [
    "for news in news_list:\n",
    "    news_token_pos.append(get_noun_and_verb(okt.pos(news)))"
   ]
  },
  {
   "cell_type": "code",
   "execution_count": 77,
   "metadata": {
    "colab": {
     "base_uri": "https://localhost:8080/"
    },
    "id": "4QN7vvdczjsy",
    "outputId": "42a1048f-afcb-4a0d-d54a-92654f94a023"
   },
   "outputs": [
    {
     "data": {
      "text/plain": [
       "[['일본',\n",
       "  '소행성',\n",
       "  '탐사선',\n",
       "  '하야부사',\n",
       "  '호가',\n",
       "  '소행성',\n",
       "  '류구',\n",
       "  '채취',\n",
       "  '표본',\n",
       "  '흙',\n",
       "  '의',\n",
       "  '사진',\n",
       "  '공개',\n",
       "  '됐다',\n",
       "  '최근',\n",
       "  '일본',\n",
       "  '우주',\n",
       "  '항공',\n",
       "  '연구개발',\n",
       "  '기구',\n",
       "  '는',\n",
       "  '최대',\n",
       "  '달',\n",
       "  '하는',\n",
       "  '표본',\n",
       "  '포함',\n",
       "  '지금',\n",
       "  '이상',\n",
       "  '입자',\n",
       "  '다수',\n",
       "  '발견',\n",
       "  '됐다고',\n",
       "  '밝혔다',\n",
       "  '하야부사',\n",
       "  '호가',\n",
       "  '류구',\n",
       "  '가져온',\n",
       "  '표본',\n",
       "  '총',\n",
       "  '정도',\n",
       "  '이는',\n",
       "  '목표',\n",
       "  '치의',\n",
       "  '배',\n",
       "  '넘는다'],\n",
       " [],\n",
       " ['지난',\n",
       "  '가',\n",
       "  '공개',\n",
       "  '류구',\n",
       "  '표본',\n",
       "  '보면',\n",
       "  '마치',\n",
       "  '숯',\n",
       "  '덩이',\n",
       "  '가득',\n",
       "  '차',\n",
       "  '보이는데',\n",
       "  '이는',\n",
       "  '광학현미경',\n",
       "  '촬영',\n",
       "  '됐기',\n",
       "  '때문'],\n",
       " [],\n",
       " ['우리말',\n",
       "  '송골매',\n",
       "  '뜻',\n",
       "  '가진',\n",
       "  '하야부사',\n",
       "  '호',\n",
       "  '세계',\n",
       "  '처음',\n",
       "  '소행성',\n",
       "  '토카',\n",
       "  '의',\n",
       "  '미립',\n",
       "  '가져온',\n",
       "  '하야부사',\n",
       "  '문제점',\n",
       "  '보완',\n",
       "  '개발',\n",
       "  '해',\n",
       "  '지난',\n",
       "  '발사',\n",
       "  '됐다',\n",
       "  '이후',\n",
       "  '하야부사',\n",
       "  '호',\n",
       "  '지난해',\n",
       "  '지구',\n",
       "  '약',\n",
       "  '떨어진',\n",
       "  '소행성',\n",
       "  '류구',\n",
       "  '접근',\n",
       "  '해',\n",
       "  '금속',\n",
       "  '탄환',\n",
       "  '웅덩이',\n",
       "  '만든',\n",
       "  '뒤',\n",
       "  '내부',\n",
       "  '물질',\n",
       "  '채취',\n",
       "  '하는',\n",
       "  '데'],\n",
       " [],\n",
       " ['일본',\n",
       "  '우주',\n",
       "  '항공',\n",
       "  '연구개발',\n",
       "  '기구',\n",
       "  '요원',\n",
       "  '호주',\n",
       "  '사우스',\n",
       "  '오스트레일리아',\n",
       "  '주',\n",
       "  '우메',\n",
       "  '사막',\n",
       "  '지대',\n",
       "  '떨어진',\n",
       "  '소행성',\n",
       "  '류구',\n",
       "  '내부',\n",
       "  '물질',\n",
       "  '담은',\n",
       "  '캡슐',\n",
       "  '회수',\n",
       "  '해',\n",
       "  '옮기고',\n",
       "  '제공',\n",
       "  '연합뉴스'],\n",
       " ['해',\n",
       "  '류구',\n",
       "  '출발',\n",
       "  '해',\n",
       "  '다시',\n",
       "  '지구',\n",
       "  '향',\n",
       "  '하야부사',\n",
       "  '호',\n",
       "  '지난',\n",
       "  '채취',\n",
       "  '표본',\n",
       "  '담긴',\n",
       "  '캡슐',\n",
       "  '분리',\n",
       "  '해',\n",
       "  '호주',\n",
       "  '서부',\n",
       "  '사막',\n",
       "  '떨어뜨리고',\n",
       "  '새',\n",
       "  '탐사',\n",
       "  '지인',\n",
       "  '지구',\n",
       "  '화성',\n",
       "  '사이',\n",
       "  '도',\n",
       "  '소행성',\n",
       "  '향',\n",
       "  '했다'],\n",
       " [],\n",
       " ['하야부사',\n",
       "  '호가',\n",
       "  '동안',\n",
       "  '비행',\n",
       "  '거리',\n",
       "  '로',\n",
       "  '이는',\n",
       "  '지구',\n",
       "  '달',\n",
       "  '사이',\n",
       "  '평균',\n",
       "  '거리',\n",
       "  '배',\n",
       "  '달'],\n",
       " [],\n",
       " ['하야부사',\n",
       "  '호가',\n",
       "  '탐사',\n",
       "  '류구',\n",
       "  '바위',\n",
       "  '돌',\n",
       "  '소행성',\n",
       "  '지름',\n",
       "  '공전주기',\n",
       "  '자전주기',\n",
       "  '태양계',\n",
       "  '형성',\n",
       "  '당시',\n",
       "  '물질',\n",
       "  '고스',\n",
       "  '란',\n",
       "  '남아있을',\n",
       "  '것',\n",
       "  '추정',\n",
       "  '돼',\n",
       "  '가치',\n",
       "  '매우',\n",
       "  '곧',\n",
       "  '이번',\n",
       "  '탐사선',\n",
       "  '가져온',\n",
       "  '표본',\n",
       "  '태양계',\n",
       "  '지구',\n",
       "  '탄생',\n",
       "  '비밀',\n",
       "  '풀어줄',\n",
       "  '단서',\n",
       "  '담겨있을',\n",
       "  '수']]"
      ]
     },
     "execution_count": 77,
     "metadata": {},
     "output_type": "execute_result"
    }
   ],
   "source": [
    "news_token_pos"
   ]
  },
  {
   "cell_type": "code",
   "execution_count": 78,
   "metadata": {
    "id": "uPDSwhJ7zpd0"
   },
   "outputs": [],
   "source": [
    "model_pos = Word2Vec(sentences = news_token_pos, size = 128, window = 5, min_count = 2)"
   ]
  },
  {
   "cell_type": "code",
   "execution_count": 79,
   "metadata": {
    "colab": {
     "base_uri": "https://localhost:8080/"
    },
    "id": "3G76sv7Xz4QL",
    "outputId": "9ba1ca3a-277c-4afd-c278-3e124a8bfa62"
   },
   "outputs": [
    {
     "name": "stdout",
     "output_type": "stream",
     "text": [
      "Word2Vec(vocab=35, size=128, alpha=0.025)\n"
     ]
    }
   ],
   "source": [
    "print(model_pos)"
   ]
  },
  {
   "cell_type": "code",
   "execution_count": 80,
   "metadata": {
    "colab": {
     "base_uri": "https://localhost:8080/"
    },
    "id": "vfjQk6kgz49P",
    "outputId": "ee1446f9-021b-4cb2-db04-fe204f7a2608"
   },
   "outputs": [
    {
     "data": {
      "text/plain": [
       "['하야부사',\n",
       " '소행성',\n",
       " '류구',\n",
       " '표본',\n",
       " '해',\n",
       " '지구',\n",
       " '호가',\n",
       " '일본',\n",
       " '채취',\n",
       " '달',\n",
       " '가져온',\n",
       " '이는',\n",
       " '지난',\n",
       " '호',\n",
       " '물질',\n",
       " '탐사선',\n",
       " '의',\n",
       " '공개',\n",
       " '됐다',\n",
       " '우주',\n",
       " '항공',\n",
       " '연구개발',\n",
       " '기구',\n",
       " '하는',\n",
       " '배',\n",
       " '떨어진',\n",
       " '내부',\n",
       " '호주',\n",
       " '사막',\n",
       " '캡슐',\n",
       " '향',\n",
       " '탐사',\n",
       " '사이',\n",
       " '거리',\n",
       " '태양계']"
      ]
     },
     "execution_count": 80,
     "metadata": {},
     "output_type": "execute_result"
    }
   ],
   "source": [
    "model_pos.wv.index2word"
   ]
  },
  {
   "cell_type": "code",
   "execution_count": 81,
   "metadata": {
    "colab": {
     "base_uri": "https://localhost:8080/"
    },
    "id": "HPKGlF4y0Bv_",
    "outputId": "7569e2b8-32f0-4fb1-daab-be4c2f4a3432"
   },
   "outputs": [
    {
     "name": "stderr",
     "output_type": "stream",
     "text": [
      "C:\\Users\\fujeo\\.conda\\envs\\d_study\\lib\\site-packages\\ipykernel_launcher.py:3: DeprecationWarning: Call to deprecated `__getitem__` (Method will be removed in 4.0.0, use self.wv.__getitem__() instead).\n",
      "  This is separate from the ipykernel package so we can avoid doing imports until\n"
     ]
    }
   ],
   "source": [
    "from sklearn.decomposition import PCA\n",
    "pca = PCA(n_components=2)\n",
    "X = model_pos[model_pos.wv.vocab]\n",
    "result_pos = pca.fit_transform(X)"
   ]
  },
  {
   "cell_type": "code",
   "execution_count": 86,
   "metadata": {
    "colab": {
     "base_uri": "https://localhost:8080/",
     "height": 1000
    },
    "id": "RTLyrrK80Qz6",
    "outputId": "bb92388d-3d30-4fdc-82aa-d33da54b44cd"
   },
   "outputs": [
    {
     "data": {
      "image/png": "[encoded data removed]",
      "text/plain": [
       "<Figure size 1440x1080 with 1 Axes>"
      ]
     },
     "metadata": {
      "needs_background": "light"
     },
     "output_type": "display_data"
    }
   ],
   "source": [
    "plt.rcParams[\"font.size\"] = 20\n",
    "plt.rcParams[\"figure.figsize\"] = (20,15)\n",
    "plt.scatter(result_pos[:, 0], result_pos[:, 1])\n",
    "words = list(model_pos.wv.vocab)\n",
    "for i, word in enumerate(words):\n",
    "\tplt.annotate(word, xy=(result_pos[i, 0], result_pos[i, 1]))\n",
    "\n",
    "# 그래프에서 마이너스 폰트 깨지는 문제에 대한 대처\n",
    "mpl.rcParams['axes.unicode_minus'] = False\n",
    "\n",
    "plt.show()"
   ]
  }
 ],
 "metadata": {
  "colab": {
   "collapsed_sections": [],
   "name": "lab2_nlp_base.ipynb",
   "provenance": [],
   "toc_visible": true
  },
  "kernelspec": {
   "display_name": "Python 3",
   "language": "python",
   "name": "python3"
  },
  "language_info": {
   "codemirror_mode": {
    "name": "ipython",
    "version": 3
   },
   "file_extension": ".py",
   "mimetype": "text/x-python",
   "name": "python",
   "nbconvert_exporter": "python",
   "pygments_lexer": "ipython3",
   "version": "3.7.9"
  }
 },
 "nbformat": 4,
 "nbformat_minor": 1
}
