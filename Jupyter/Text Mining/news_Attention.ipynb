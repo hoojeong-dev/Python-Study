{
  "nbformat": 4,
  "nbformat_minor": 0,
  "metadata": {
    "colab": {
      "name": "Untitled0.ipynb",
      "provenance": []
    },
    "kernelspec": {
      "name": "python3",
      "display_name": "Python 3"
    },
    "language_info": {
      "name": "python"
    }
  },
  "cells": [
    {
      "cell_type": "code",
      "metadata": {
        "id": "ciom3Dsn_bsj"
      },
      "source": [
        "import numpy as np\n",
        "import pandas as pd\n",
        "import re\n",
        "import matplotlib.pyplot as plt\n",
        "from nltk.corpus import stopwords\n",
        "from bs4 import BeautifulSoup \n",
        "from tensorflow.keras.preprocessing.text import Tokenizer \n",
        "from tensorflow.keras.preprocessing.sequence import pad_sequences\n",
        "import urllib.request\n",
        "np.random.seed(seed=0)"
      ],
      "execution_count": 1,
      "outputs": []
    },
    {
      "cell_type": "code",
      "metadata": {
        "colab": {
          "base_uri": "https://localhost:8080/"
        },
        "id": "zLoj-qasBKSg",
        "outputId": "3a085787-dc79-450e-c40f-81bd75dfe3fe"
      },
      "source": [
        "data = pd.read_csv(\"/content/newslist_csv.csv\", nrows = 1000)\n",
        "print('전체 뉴스 개수 : ', (len(data)))"
      ],
      "execution_count": 2,
      "outputs": [
        {
          "output_type": "stream",
          "text": [
            "전체 뉴스 개수 :  1000\n"
          ],
          "name": "stdout"
        }
      ]
    },
    {
      "cell_type": "code",
      "metadata": {
        "colab": {
          "base_uri": "https://localhost:8080/",
          "height": 306
        },
        "id": "u3gGpyuKDDr1",
        "outputId": "f25fd75d-9687-4888-f19f-db8c6a683e42"
      },
      "source": [
        "data.head()"
      ],
      "execution_count": 3,
      "outputs": [
        {
          "output_type": "execute_result",
          "data": {
            "text/html": [
              "<div>\n",
              "<style scoped>\n",
              "    .dataframe tbody tr th:only-of-type {\n",
              "        vertical-align: middle;\n",
              "    }\n",
              "\n",
              "    .dataframe tbody tr th {\n",
              "        vertical-align: top;\n",
              "    }\n",
              "\n",
              "    .dataframe thead th {\n",
              "        text-align: right;\n",
              "    }\n",
              "</style>\n",
              "<table border=\"1\" class=\"dataframe\">\n",
              "  <thead>\n",
              "    <tr style=\"text-align: right;\">\n",
              "      <th></th>\n",
              "      <th>Unnamed: 0</th>\n",
              "      <th>title</th>\n",
              "      <th>url</th>\n",
              "      <th>text</th>\n",
              "    </tr>\n",
              "  </thead>\n",
              "  <tbody>\n",
              "    <tr>\n",
              "      <th>0</th>\n",
              "      <td>1</td>\n",
              "      <td>결혼 역대 최소 21만건…\"코로나·집·일자리...여건 안돼\"</td>\n",
              "      <td>http://yna.kr/AKR20210318048000002?did=1195m</td>\n",
              "      <td>곽민서 기자기자 페이지외환위기 후 첫 두자릿수 감소…평균 초혼연령 男 33.2세 女...</td>\n",
              "    </tr>\n",
              "    <tr>\n",
              "      <th>1</th>\n",
              "      <td>2</td>\n",
              "      <td>유력 후보 사라졌다…국산 2호 코로나19 치료제 누가 차지하나</td>\n",
              "      <td>http://yna.kr/AKR20210317183900017?did=1195m</td>\n",
              "      <td>김잔디 기자기자 페이지GC녹십자, 1분기 내 데이터 정리 마치고 4월 허가 신청 예...</td>\n",
              "    </tr>\n",
              "    <tr>\n",
              "      <th>2</th>\n",
              "      <td>3</td>\n",
              "      <td>CGV, 다음달 2일부터 관람료 또 인상…“코로나 장기화로 불가피”</td>\n",
              "      <td>http://news.kbs.co.kr/news/view.do?ncd=5141991...</td>\n",
              "      <td>업계 1위 멀티플렉스 극장 CGV가 다음달 영화 관람료를 또 인상합니다. 지난해 1...</td>\n",
              "    </tr>\n",
              "    <tr>\n",
              "      <th>3</th>\n",
              "      <td>4</td>\n",
              "      <td>[속보] 코로나19 어제 445명 신규확진…백신 접종 총 641,331명</td>\n",
              "      <td>https://news.sbs.co.kr/news/endPage.do?news_id...</td>\n",
              "      <td>국내 코로나19 확산세가 이어지는 가운데 오늘(18일) 신규 확진자 수는 400...</td>\n",
              "    </tr>\n",
              "    <tr>\n",
              "      <th>4</th>\n",
              "      <td>5</td>\n",
              "      <td>'또 인상' 영화 관람료, 1만4000원 시대…CGV \"코로나19 탓\"</td>\n",
              "      <td>http://news.mk.co.kr/newsRead.php?no=257925&amp;ye...</td>\n",
              "      <td>정부는 국내 신종 코로나바이러스 감염증(코로나19) `3차 대유행`이 완만한 감소세...</td>\n",
              "    </tr>\n",
              "  </tbody>\n",
              "</table>\n",
              "</div>"
            ],
            "text/plain": [
              "   Unnamed: 0  ...                                               text\n",
              "0           1  ...  곽민서 기자기자 페이지외환위기 후 첫 두자릿수 감소…평균 초혼연령 男 33.2세 女...\n",
              "1           2  ...  김잔디 기자기자 페이지GC녹십자, 1분기 내 데이터 정리 마치고 4월 허가 신청 예...\n",
              "2           3  ...  업계 1위 멀티플렉스 극장 CGV가 다음달 영화 관람료를 또 인상합니다. 지난해 1...\n",
              "3           4  ...    국내 코로나19 확산세가 이어지는 가운데 오늘(18일) 신규 확진자 수는 400...\n",
              "4           5  ...  정부는 국내 신종 코로나바이러스 감염증(코로나19) `3차 대유행`이 완만한 감소세...\n",
              "\n",
              "[5 rows x 4 columns]"
            ]
          },
          "metadata": {
            "tags": []
          },
          "execution_count": 3
        }
      ]
    },
    {
      "cell_type": "code",
      "metadata": {
        "colab": {
          "base_uri": "https://localhost:8080/",
          "height": 289
        },
        "id": "fch40MiDI6Xg",
        "outputId": "be036468-4f7d-45a7-a5f7-210bcdbebc6e"
      },
      "source": [
        "data = data[['title', 'text']]\n",
        "data.head()"
      ],
      "execution_count": 4,
      "outputs": [
        {
          "output_type": "execute_result",
          "data": {
            "text/html": [
              "<div>\n",
              "<style scoped>\n",
              "    .dataframe tbody tr th:only-of-type {\n",
              "        vertical-align: middle;\n",
              "    }\n",
              "\n",
              "    .dataframe tbody tr th {\n",
              "        vertical-align: top;\n",
              "    }\n",
              "\n",
              "    .dataframe thead th {\n",
              "        text-align: right;\n",
              "    }\n",
              "</style>\n",
              "<table border=\"1\" class=\"dataframe\">\n",
              "  <thead>\n",
              "    <tr style=\"text-align: right;\">\n",
              "      <th></th>\n",
              "      <th>title</th>\n",
              "      <th>text</th>\n",
              "    </tr>\n",
              "  </thead>\n",
              "  <tbody>\n",
              "    <tr>\n",
              "      <th>0</th>\n",
              "      <td>결혼 역대 최소 21만건…\"코로나·집·일자리...여건 안돼\"</td>\n",
              "      <td>곽민서 기자기자 페이지외환위기 후 첫 두자릿수 감소…평균 초혼연령 男 33.2세 女...</td>\n",
              "    </tr>\n",
              "    <tr>\n",
              "      <th>1</th>\n",
              "      <td>유력 후보 사라졌다…국산 2호 코로나19 치료제 누가 차지하나</td>\n",
              "      <td>김잔디 기자기자 페이지GC녹십자, 1분기 내 데이터 정리 마치고 4월 허가 신청 예...</td>\n",
              "    </tr>\n",
              "    <tr>\n",
              "      <th>2</th>\n",
              "      <td>CGV, 다음달 2일부터 관람료 또 인상…“코로나 장기화로 불가피”</td>\n",
              "      <td>업계 1위 멀티플렉스 극장 CGV가 다음달 영화 관람료를 또 인상합니다. 지난해 1...</td>\n",
              "    </tr>\n",
              "    <tr>\n",
              "      <th>3</th>\n",
              "      <td>[속보] 코로나19 어제 445명 신규확진…백신 접종 총 641,331명</td>\n",
              "      <td>국내 코로나19 확산세가 이어지는 가운데 오늘(18일) 신규 확진자 수는 400...</td>\n",
              "    </tr>\n",
              "    <tr>\n",
              "      <th>4</th>\n",
              "      <td>'또 인상' 영화 관람료, 1만4000원 시대…CGV \"코로나19 탓\"</td>\n",
              "      <td>정부는 국내 신종 코로나바이러스 감염증(코로나19) `3차 대유행`이 완만한 감소세...</td>\n",
              "    </tr>\n",
              "  </tbody>\n",
              "</table>\n",
              "</div>"
            ],
            "text/plain": [
              "                                      title                                               text\n",
              "0         결혼 역대 최소 21만건…\"코로나·집·일자리...여건 안돼\"  곽민서 기자기자 페이지외환위기 후 첫 두자릿수 감소…평균 초혼연령 男 33.2세 女...\n",
              "1        유력 후보 사라졌다…국산 2호 코로나19 치료제 누가 차지하나  김잔디 기자기자 페이지GC녹십자, 1분기 내 데이터 정리 마치고 4월 허가 신청 예...\n",
              "2     CGV, 다음달 2일부터 관람료 또 인상…“코로나 장기화로 불가피”  업계 1위 멀티플렉스 극장 CGV가 다음달 영화 관람료를 또 인상합니다. 지난해 1...\n",
              "3  [속보] 코로나19 어제 445명 신규확진…백신 접종 총 641,331명    국내 코로나19 확산세가 이어지는 가운데 오늘(18일) 신규 확진자 수는 400...\n",
              "4   '또 인상' 영화 관람료, 1만4000원 시대…CGV \"코로나19 탓\"  정부는 국내 신종 코로나바이러스 감염증(코로나19) `3차 대유행`이 완만한 감소세..."
            ]
          },
          "metadata": {
            "tags": []
          },
          "execution_count": 4
        }
      ]
    },
    {
      "cell_type": "code",
      "metadata": {
        "colab": {
          "base_uri": "https://localhost:8080/"
        },
        "id": "GLVQqXG9JF5J",
        "outputId": "52ab18d8-bdc0-4ed7-87ff-129dee9dffaa"
      },
      "source": [
        "print('title 열에서 중복을 배제한 샘플의 수 : ', data['title'].nunique())\n",
        "print('text 열에서 중복을 배제한 샘플의 수 : ', data['text'].nunique())"
      ],
      "execution_count": 5,
      "outputs": [
        {
          "output_type": "stream",
          "text": [
            "title 열에서 중복을 배제한 샘플의 수 :  967\n",
            "text 열에서 중복을 배제한 샘플의 수 :  933\n"
          ],
          "name": "stdout"
        }
      ]
    },
    {
      "cell_type": "code",
      "metadata": {
        "colab": {
          "base_uri": "https://localhost:8080/"
        },
        "id": "CaGQAOENJggf",
        "outputId": "d7a1bc7d-c707-44a6-82d8-107fc0718c65"
      },
      "source": [
        "# text열에서 중복 제거\n",
        "data.drop_duplicates(subset=['text'], inplace = True)\n",
        "print(\"전체 샘플 수 : \", len(data))"
      ],
      "execution_count": 6,
      "outputs": [
        {
          "output_type": "stream",
          "text": [
            "전체 샘플 수 :  934\n"
          ],
          "name": "stdout"
        }
      ]
    },
    {
      "cell_type": "code",
      "metadata": {
        "colab": {
          "base_uri": "https://localhost:8080/"
        },
        "id": "RT-UB8gPJ4Gv",
        "outputId": "701df114-dd7a-4410-e5e9-f81e0da7587f"
      },
      "source": [
        "# null 값이 있는 지 확인\n",
        "print(data.isnull().sum())"
      ],
      "execution_count": 7,
      "outputs": [
        {
          "output_type": "stream",
          "text": [
            "title    0\n",
            "text     1\n",
            "dtype: int64\n"
          ],
          "name": "stdout"
        }
      ]
    },
    {
      "cell_type": "code",
      "metadata": {
        "colab": {
          "base_uri": "https://localhost:8080/"
        },
        "id": "h-GZaAYHJ-Ox",
        "outputId": "8a79e44d-fc90-448d-dbf5-00049d917281"
      },
      "source": [
        "data.dropna(axis=0, inplace=True)\n",
        "print('전체 샘플 수 : ', (len(data)))"
      ],
      "execution_count": 8,
      "outputs": [
        {
          "output_type": "stream",
          "text": [
            "전체 샘플 수 :  933\n"
          ],
          "name": "stdout"
        }
      ]
    },
    {
      "cell_type": "code",
      "metadata": {
        "id": "jveMRO-UKIij"
      },
      "source": [
        "# 불용어 txt 파일 불러오기\n",
        "text_file = open(\"/content/stop_words_file.txt\", 'r')\n",
        "\n",
        "# txt 파일에서 \\n 제거하여 list로 저장\n",
        "stop_words = [line.rstrip() for line in text_file]"
      ],
      "execution_count": 9,
      "outputs": []
    },
    {
      "cell_type": "code",
      "metadata": {
        "colab": {
          "base_uri": "https://localhost:8080/"
        },
        "id": "ifVPzWvPMjn6",
        "outputId": "5b64a8e6-6fa2-4944-c98c-c03c2e0e4341"
      },
      "source": [
        "print(\"불용어 개수 : \", len(stop_words))\n",
        "print(stop_words)"
      ],
      "execution_count": 10,
      "outputs": [
        {
          "output_type": "stream",
          "text": [
            "불용어 개수 :  675\n",
            "['아', '휴', '아이구', '아이쿠', '아이고', '어', '나', '우리', '저희', '따라', '의해', '을', '를', '에', '의', '가', '으로', '로', '에게', '뿐이다', '의거하여', '근거하여', '입각하여', '기준으로', '예하면', '예를 들면', '예를 들자면', '저', '소인', '소생', '저희', '지말고', '하지마', '하지마라', '다른', '물론', '또한', '그리고', '비길수 없다', '해서는 안된다', '뿐만 아니라', '만이 아니다', '만은 아니다', '막론하고', '관계없이', '그치지 않다', '그러나', '그런데', '하지만', '든간에', '논하지 않다', '따지지 않다', '설사', '비록', '더라도', '아니면', '만 못하다', '하는 편이 낫다', '불문하고', '향하여', '향해서', '향하다', '쪽으로', '틈타', '이용하여', '타다', '오르다', '제외하고', '이 외에', '이 밖에', '하여야', '비로소', '한다면 몰라도', '외에도', '이곳', '여기', '부터', '기점으로', '따라서', '할 생각이다', '하려고하다', '이리하여', '그리하여', '그렇게 함으로써', '하지만', '일때', '할때', '앞에서', '중에서', '보는데서', '으로써', '로써', '까지', '해야한다', '일것이다', '반드시', '할줄알다', '할수있다', '할수있어', '임에 틀림없다', '한다면', '등', '등등', '제', '겨우', '단지', '다만', '할뿐', '딩동', '댕그', '대해서', '대하여', '대하면', '훨씬', '얼마나', '얼마만큼', '얼마큼', '남짓', '여', '얼마간', '약간', '다소', '좀', '조금', '다수', '몇', '얼마', '지만', '하물며', '또한', '그러나', '그렇지만', '하지만', '이외에도', '대해 말하자면', '뿐이다', '다음에', '반대로', '반대로 말하자면', '이와 반대로', '바꾸어서 말하면', '바꾸어서 한다면', '만약', '그렇지않으면', '까악', '툭', '딱', '삐걱거리다', '보드득', '비걱거리다', '꽈당', '응당', '해야한다', '에 가서', '각', '각각', '여러분', '각종', '각자', '제각기', '하도록하다', '와', '과', '그러므로', '그래서', '고로', '한 까닭에', '하기 때문에', '거니와', '이지만', '대하여', '관하여', '관한', '과연', '실로', '아니나다를가', '생각한대로', '진짜로', '한적이있다', '하곤하였다', '하', '하하', '허허', '아하', '거바', '와', '오', '왜', '어째서', '무엇때문에', '어찌', '하겠는가', '무슨', '어디', '어느곳', '더군다나', '하물며', '더욱이는', '어느때', '언제', '야', '이봐', '어이', '여보시오', '흐흐', '흥', '휴', '헉헉', '헐떡헐떡', '영차', '여차', '어기여차', '끙끙', '아야', '앗', '아야', '콸콸', '졸졸', '좍좍', '뚝뚝', '주룩주룩', '솨', '우르르', '그래도', '또', '그리고', '바꾸어말하면', '바꾸어말하자면', '혹은', '혹시', '답다', '및', '그에 따르는', '때가 되어', '즉', '지든지', '설령', '가령', '하더라도', '할지라도', '일지라도', '지든지', '몇', '거의', '하마터면', '인젠', '이젠', '된바에야', '된이상', '만큼\\t어찌됏든', '그위에', '게다가', '점에서 보아', '비추어 보아', '고려하면', '하게될것이다', '일것이다', '비교적', '좀', '보다더', '비하면', '시키다', '하게하다', '할만하다', '의해서', '연이서', '이어서', '잇따라', '뒤따라', '뒤이어', '결국', '의지하여', '기대여', '통하여', '자마자', '더욱더', '불구하고', '얼마든지', '마음대로', '주저하지 않고', '곧', '즉시', '바로', '당장', '하자마자', '밖에 안된다', '하면된다', '그래', '그렇지', '요컨대', '다시 말하자면', '바꿔 말하면', '즉', '구체적으로', '말하자면', '시작하여', '시초에', '이상', '허', '헉', '허걱', '바와같이', '해도좋다', '해도된다', '게다가', '더구나', '하물며', '와르르', '팍', '퍽', '펄렁', '동안', '이래', '하고있었다', '이었다', '에서', '로부터', '까지', '예하면', '했어요', '해요', '함께', '같이', '더불어', '마저', '마저도', '양자', '모두', '습니다', '가까스로', '하려고하다', '즈음하여', '다른', '다른 방면으로', '해봐요', '습니까', '했어요', '말할것도 없고', '무릎쓰고', '개의치않고', '하는것만 못하다', '하는것이 낫다', '매', '매번', '들', '모', '어느것', '어느', '로써', '갖고말하자면', '어디', '어느쪽', '어느것', '어느해', '어느 년도', '라 해도', '언젠가', '어떤것', '어느것', '저기', '저쪽', '저것', '그때', '그럼', '그러면', '요만한걸', '그래', '그때', '저것만큼', '그저', '이르기까지', '할 줄 안다', '할 힘이 있다', '너', '너희', '당신', '어찌', '설마', '차라리', '할지언정', '할지라도', '할망정', '할지언정', '구토하다', '게우다', '토하다', '메쓰겁다', '옆사람', '퉤', '쳇', '의거하여', '근거하여', '의해', '따라', '힘입어', '그', '다음', '버금', '두번째로', '기타', '첫번째로', '나머지는', '그중에서', '견지에서', '형식으로 쓰여', '입장에서', '위해서', '단지', '의해되다', '하도록시키다', '뿐만아니라', '반대로', '전후', '전자', '앞의것', '잠시', '잠깐', '하면서', '그렇지만', '다음에', '그러한즉', '그런즉', '남들', '아무거나', '어찌하든지', '같다', '비슷하다', '예컨대', '이럴정도로', '어떻게', '만약', '만일', '위에서 서술한바와같이', '인 듯하다', '하지 않는다면', '만약에', '무엇', '무슨', '어느', '어떤', '아래윗', '조차', '한데', '그럼에도 불구하고', '여전히', '심지어', '까지도', '조차도', '하지 않도록', '않기 위하여', '때', '시각', '무렵', '시간', '동안', '어때', '어떠한', '하여금', '네', '예', '우선', '누구', '누가 알겠는가', '아무도', '줄은모른다', '줄은 몰랏다', '하는 김에', '겸사겸사', '하는바', '그런 까닭에', '한 이유는', '그러니', '그러니까', '때문에', '그', '너희', '그들', '너희들', '타인', '것', '것들', '너', '위하여', '공동으로', '동시에', '하기 위하여', '어찌하여', '무엇때문에', '붕붕', '윙윙', '나', '우리', '엉엉', '휘익', '윙윙', '오호', '아하', '어쨋든', '만 못하다\\t하기보다는', '차라리', '하는 편이 낫다', '흐흐', '놀라다', '상대적으로 말하자면', '마치', '아니라면', '쉿', '그렇지 않으면', '그렇지 않다면', '안 그러면', '아니었다면', '하든지', '아니면', '이라면', '좋아', '알았어', '하는것도', '그만이다', '어쩔수 없다', '하나', '일', '일반적으로', '일단', '한켠으로는', '오자마자', '이렇게되면', '이와같다면', '전부', '한마디', '한항목', '근거로', '하기에', '아울러', '하지 않도록', '않기 위해서', '이르기까지', '이 되다', '로 인하여', '까닭으로', '이유만으로', '이로 인하여', '그래서', '이 때문에', '그러므로', '그런 까닭에', '알 수 있다', '결론을 낼 수 있다', '으로 인하여', '있다', '어떤것', '관계가 있다', '관련이 있다', '연관되다', '어떤것들', '에 대해', '이리하여', '그리하여', '여부', '하기보다는', '하느니', '하면 할수록', '운운', '이러이러하다', '하구나', '하도다', '다시말하면', '다음으로', '에 있다', '에 달려 있다', '우리', '우리들', '오히려', '하기는한데', '어떻게', '어떻해', '어찌됏어', '어때', '어째서', '본대로', '자', '이', '이쪽', '여기', '이것', '이번', '이렇게말하자면', '이런', '이러한', '이와 같은', '요만큼', '요만한 것', '얼마 안 되는 것', '이만큼', '이 정도의', '이렇게 많은 것', '이와 같다', '이때', '이렇구나', '것과 같이', '끼익', '삐걱', '따위', '와 같은 사람들', '부류의 사람들', '왜냐하면', '중의하나', '오직', '오로지', '에 한하다', '하기만 하면', '도착하다', '까지 미치다', '도달하다', '정도에 이르다', '할 지경이다', '결과에 이르다', '관해서는', '여러분', '하고 있다', '한 후', '혼자', '자기', '자기집', '자신', '우에 종합한것과같이', '총적으로 보면', '총적으로 말하면', '총적으로', '대로 하다', '으로서', '참', '그만이다', '할 따름이다', '쿵', '탕탕', '쾅쾅', '둥둥', '봐', '봐라', '아이야', '아니', '와아', '응', '아이', '참나', '년', '월', '일', '령', '영', '일', '이', '삼', '사', '오', '육', '륙', '칠', '팔', '구', '이천육', '이천칠', '이천팔', '이천구', '하나', '둘', '셋', '넷', '다섯', '여섯', '일곱', '여덟', '아홉', '령', '영']\n"
          ],
          "name": "stdout"
        }
      ]
    },
    {
      "cell_type": "code",
      "metadata": {
        "id": "dQ3aMlTzNezU"
      },
      "source": [
        "def preprocess_sentence(sentence, remove_stopwords = True):\n",
        "  sentence = BeautifulSoup(sentence, \"lxml\").text   # html 태그 제거\n",
        "  sentence = re.sub(r'\\([^)]*\\)', '', sentence)   # 괄호로 닫힌 문자열 제거\n",
        "  sentence = re.sub('\"','', sentence)   # 쌍 따옴표 제거\n",
        "  sentence = re.sub('[^A-Za-z0-9가-힣]', ' ', sentence)   # 특수문자 제거\n",
        "  sentence = re.sub('[ㄱ-ㅎ|ㅏ-ㅣ]', '', sentence)   # 자음, 모음 제거\n",
        "  sentence = re.sub('(\\[a-zA-Z0-9\\_.+-\\]+@\\[a-zA-Z0-9-.\\]+.\\[a-zA-Z0-9-.\\])', '', sentence)   # e-mail 제거\n",
        "\n",
        "  if remove_stopwords:\n",
        "    tokens = ' '.join(word for word in sentence.split() if not word in stop_words if len(word) > 1 )\n",
        "  else:\n",
        "    tokens = ' '.join(word for word in sentence.split() if len(word) > 1)\n",
        "  return tokens"
      ],
      "execution_count": 11,
      "outputs": []
    },
    {
      "cell_type": "code",
      "metadata": {
        "colab": {
          "base_uri": "https://localhost:8080/"
        },
        "id": "WTFfKzenWbQF",
        "outputId": "889683e5-d81c-4c92-c9fb-7ebea5fb76e5"
      },
      "source": [
        "temp_title = '결혼 역대 최소 21만건…\"코로나·집·일자리...여건 안돼\"'\n",
        "temp_text = ' (도쿄 AP=연합뉴스) 스가 요시히데 일본 총리가 18일 도쿄 총리관저에서 기자회견을 하고 있다. 스가 총리는 이 자리에서 신종 코로나바이러스 감염증(코로나19) 확산 억제를 위해 도쿄 등 수도권 일부 지역에 발효 중인 긴급사태를 이달 21일 전면 해제하기로 결정했다고 밝혔다. 이에 따라 올해 1월 8일 재발효한 일본의 긴급사태는 73일간 유지된 후 종료한다.  leekm@yna.co.kr'\n",
        "print(preprocess_sentence(temp_title))\n",
        "print(preprocess_sentence(temp_text))"
      ],
      "execution_count": 12,
      "outputs": [
        {
          "output_type": "stream",
          "text": [
            "결혼 역대 최소 21만건 코로나 일자리 여건 안돼\n",
            "스가 요시히데 일본 총리가 18일 도쿄 총리관저에서 기자회견을 하고 스가 총리는 자리에서 신종 코로나바이러스 감염증 확산 억제를 위해 도쿄 수도권 일부 지역에 발효 중인 긴급사태를 이달 21일 전면 해제하기로 결정했다고 밝혔다 이에 올해 1월 8일 재발효한 일본의 긴급사태는 73일간 유지된 종료한다 leekm yna co kr\n"
          ],
          "name": "stdout"
        }
      ]
    },
    {
      "cell_type": "code",
      "metadata": {
        "colab": {
          "base_uri": "https://localhost:8080/"
        },
        "id": "BXPZHxJWWjTF",
        "outputId": "f826a508-f381-4bb4-93ed-00e83467ae68"
      },
      "source": [
        "# text의 5개 열을 전처리\n",
        "clean_text = []\n",
        "for s in data['text']:\n",
        "  clean_text.append(preprocess_sentence(s))\n",
        "clean_text[:5]"
      ],
      "execution_count": 15,
      "outputs": [
        {
          "output_type": "execute_result",
          "data": {
            "text/plain": [
              "['곽민서 기자기자 페이지외환위기 두자릿수 감소 평균 초혼연령 33 2세 30 8세 10년새 9세 이혼은 3년 만에 감소 결혼기간 20년 황혼이혼 증가텅 예식장 독자 제공 재판매 DB 금지 곽민서 기자 지난해 결혼 건수가 23년 만에 자릿수 감소율을 기록하며 역대 최소 기록을 갈아치웠다 결혼은 필수가 아닌 선택이라는 인식이 확산하는 데다 코로나19 여파로 결혼 여건도 나빠졌기 때문으로 풀이된다 전체 이혼은 소폭 줄었으나 20년 부부들의 황혼이혼 늘었다 지난해 결혼 21 4만건 20만건 붕괴도 코앞 광고 18일 통계청이 발표한 2020년 혼인 이혼 통계 따르면 지난해 혼인 건수는 21만4천건으로 1년 전보다 10 감소했다 이는 관련 통계 작성이 시작된 1970년 최소치다 감소율은 1971년에 이어 번째로 높았다 두자릿수 감소율은 외환위기 시절인 1997년 이후 23년 만에 처음이다 이로써 혼인 건수는 2012년 이후 9년 연속 감소를 기록했다 1996년까지만 해도 43만건에 달했던 혼인 건수는 1997년 외환위기를 거치며 30만건대로 떨어진 2016년 20만건대까지 추락했고 이제는 10만건대 진입을 코앞에 두고 인구 1천명 혼인 건수를 뜻하는 조혼인율은 2건으로 전년 대비 5건 줄면서 역시 사상 최저치를 기록했다 김수영 통계청 인구동향과장은 코로나19로 결혼이 많이 연기되거나 취소된 가운데 최근 결혼 연령층인 30대 인구가 줄어드는 추세로 주거나 고용 결혼 여건도 어려워지며 만혼 비혼이 증가하고 있다고 설명했다 이어 결혼에 대한 긍정적 인식 가치관도 점차 변화하는 추세라고 덧붙였다 통계청이 지난해 발표한 2020년 사회조사 따르면 결혼을 해야 한다 거나 하는 것이 좋다 생각하는 사람은 조사 대상의 51 그쳤다 이는 2010년과 비교해 10년새 14 포인트가량 감소한 수준이다 통계청 제공 재판매 db 금지 남성의 경우 30대 초반 여성은 20대 후반에 결혼을 하는 경우가 많았다 연령별 혼인율을 보면 남자는 30대 초반이 47 6건 여자는 20대 후반이 44 9건으로 가장 높았다 평균 초혼 연령이 올라가면서 20대 여성의 결혼은 점차 줄어드는 모습이다 지난해 20대 후반 여성의 결혼 건수는 전년 대비 7천건 감소하면서 전체 연령대 가장 폭으로 줄었다 평균 초혼 연령은 남자가 33 2세로 10년 전보다 4세 상승했다 국제결혼 남성 연상 결혼이 감소한 영향으로 남성 초혼 연령은 1990년 통계 작성 처음으로 줄었다 여성 평균 초혼 연령은 30 8세로 10년 전보다 9세 늘면서 통계 작성 가장 높았다 초혼 부부 중에는 남자 연상 부부가 65 가장 비중을 차지했고 여자 연상 부부 동갑 부부 순이었다 남자 연상 부부 비중은 전년보다 포인트 감소했으나 여자 연상 부부 비중은 포인트 늘었다 외국인과의 결혼은 1만5천건으로 전년대비 35 급감했다 전체 결혼 외국인과의 결혼 비중은 집계됐다 시도별로 보면 세종의 조혼인율이 3건으로 가장 높았다 반면 전북 경북 전남은 가장 낮았다 여성 비혼 게티이미지뱅크 제공 코로나 경제위기에도 이혼은 감소 황혼이혼만 늘어 지난해 이혼은 10만7천건으로 1년 전보다 감소했다 연간 이혼 건수가 감소한 것은 2017년 이후 3년 만이다 인구 1천명 이혼 건수를 뜻하는 조이혼율도 1건으로 전년보다 1건 감소했다 과장은 코로나로 외출을 자제한다거나 법원 휴정이 권고되는 등의 이유로 이혼 신청 처리 절차가 길어지며 감소에 영향을 부분도 있는 듯하다고 설명했다 혼인 지속 기간이 20년 이혼은 1년 전보다 증가한 것으로 나타났다 건수로는 20년 이혼이 3만9천700건으로 전체의 37 달해 가장 비중을 차지했다 가운데 혼인 지속 기간 30년 이혼으로 범위를 좁히면 증가율은 더욱 높아진다 30년 이혼은 1년 전보다 10 급증하면서 10년 전의 2배까지 늘었다 이에 이혼 부부의 평균 혼인 지속 기간은 16 7년으로 10년 전과 비교해 7년 늘었다 평균 이혼 연령도 매년 높아지는 추세다 남성의 평균 이혼 연령은 49 4세로 10년 전보다 4세 상승했고 여성 평균 이혼 연령도 46 0세로 10년 전과 비교해 9세 올라갔다 남자의 연령별 이혼율은 40대 후반이 1천 명당 0건으로 가장 높았다 여성의 경우 40대 초반이 6건으로 가장 높았다 시도별 조이혼율은 제주 충남 인천이 높고 서울 세종 광주 대구 등이 낮은 편이었다 mskwak yna co kr2021 03 18 12 00 송고',\n",
              " '김잔디 기자기자 페이지GC녹십자 1분기 데이터 정리 마치고 4월 허가 신청 예정 김잔디 기자 종근당 185750 신종 코로나바이러스 감염증 치료제 나파벨탄주 조건부 허가에서 고배를 마시면서 국산 2호 치료제 자리를 누가 차지할지에 관심이 쏠리고 18일 식품의약품안전처에 따르면 국내에서 허가된 코로나19 치료제는 길리어드사이언스코리아의 베클루리주와 셀트리온의 렉키로나주 가지다 지난달 5일 허가를 받은 렉키로나주가 국내에서 개발된 국산 1호 코로나19 치료제다 광고 셀트리온이 영예를 안은 이후 국산 2호 치료제 자리를 거머쥘 국내 제약사로는 종근당과 GC녹십자 대웅제약이 거론돼왔다 이후 종근당이 이달 8일 식약처에 품목허가를 신청하면서 가장 앞서 있다는 평가가 많았으나 전날 식약처의 검증 자문단 회의에서 치료 효과를 인정받지 못하면서 좌초했다 종근당의 허가 무산으로 국산 코로나19 치료제에 대한 기대가 한풀 꺾인 상황이지만 GC녹십자는 코로나19 혈장치료제 허가 신청을 위한 막바지 작업에 한창이다 GC녹십자는 지난해 12월 31일자로 코로나19 혈장치료제 GC5131A 임상 2상 시험 대상자에 대한 투약을 마치고 지금껏 관련 데이터를 분석 정리해 왔다 GC녹십자 관계자는 현재 데이터를 정리 중이라며 1분기 분석을 완료한 4월에는 식약처에 허가를 신청할 예정이라고 말했다 GC녹십자의 코로나19 혈장치료제는 허가 전부터 식약처의 치료목적 사용승인을 통해 의료현장에서 환자들에 쓰이고 있다는 점이 기대를 불러일으키고 지난해 10월부터 올해 3월 9일까지 41건의 치료목적 사용승인을 받았태다 식약처는 치료 수단이 없거나 생명을 위협하는 중증 환자 등의 치료를 위해 허가받지 않은 임상시험용 의약품이더라도 사용할 있도록 하는 치료목적 사용승인 제도를 운용 중이다 대웅제약 역시 호이스타정을 코로나19 치료제로 개발하기 위한 임상 3상을 하고 구체적인 허가 신청 계획은 공개되지 않았다 대웅제약은 호이스타정의 코로나19 예방효과를 확인하기 위한 3상도 병행하고 이밖에 국내 제약사 중에서는 부광약품 003000 신풍제약 019170 크리스탈지노믹스 083790 동화약품 000020 이뮨메드 녹십자웰빙 234690 등이 코로나19 치료제 개발을 위한 임상 2상 시험을 하고 식품의약품안전처 제공 재판매 DB 금지 jandi yna co kr2021 03 18 07 00 송고',\n",
              " '업계 1위 멀티플렉스 극장 CGV가 다음달 영화 관람료를 인상합니다 지난해 10월 인상 6개월 만입니다 CGV는 코로나19 장기화로 인한 위기 극복을 위해 다음달 2일부터 영화 관람료를 천원 인상한다고 밝혔습니다 코로나19로 관객이 급감함에 극장은 투자 배급사 제작사 영화 산업 전반이 고사 위기로 내몰리고 있는 상황에서 생존을 위한 불가피한 선택이라고 회사 측은 설명했습니다 이에 성인 2D 영화 일반 시간대를 영화 관람료는 주중 만3천원 주말 만4천 원으로 조정됩니다 3D를 비롯한 IMAX 4DX ScreenX 기술 특별관 스윗 박스 가격도 원씩 일괄 인상됩니다 장애인이나 국가 유공자에 적용되는 우대 요금은 인상 없이 기존과 동일하게 적용됩니다 CGV는 영화 관람료 인상을 통해 늘어나는 재원으로 신작 개봉을 촉진하기 위한 지원금 지급을 당분간 이어가기로 했습니다 내부적으로는 뼈를 깎는 사업 개편 비용 절감 노력을 통해 생존 기반 마련에 주력할 방침이라고 밝혔습니다',\n",
              " '국내 코로나19 확산세가 이어지는 가운데 오늘 신규 확진자 수는 400명대 중반을 나타냈습니다 중앙방역대책본부는 오늘 0시 코로나19 신규 확진자가 445명 늘어 누적 9만7천294명이라고 밝혔습니다 어제보다 24명 줄었으나 이틀 연속 400명대 중반을 이어갔습니다 신규 확진자의 감염경로를 보면 지역발생이 427명 해외유입이 18명입니다 지난해 11월 중순 이후 본격화한 3차 대유행 여파는 5개월째 이어지고 있습니다 올해 들어 완만한 감소세를 보였던 신규 확진자 수는 연휴 직후 잇단 집단감염 여파로 600명대까지 치솟았다가 300 400명대로 내려왔으나 최근 들어 다시 증가세로 돌아선 양상입니다 지난 12일부터 오늘까지 최근 1주일간 신규 확진자는 일별로 488명 490명 459명 382명 363명 469명 445명을 나타냈습니다 기간 300명대가 2번 400명대가 5번입니다',\n",
              " '정부는 국내 신종 코로나바이러스 감염증 3차 대유행 완만한 감소세에 접어들었지만 확실한 안정 국면으로 진입하는 것이 중요하다며 현행 사회적 거리두기 오는 31일까지 2주간 연장하기로 가운데 18일 용산의 영화관이 한산하기만하다 2021 01 18 매경DB 여기를 누르시면 크게 보실 있습니다 신종 코로나바이러스 감염증 여파로 관객이 급감한 CGV가 6개월 만에 관람료를 인상한다 CGV는 다음달 2일부터 영화 관람료를 1000원 인상한다고 18일 밝혔다 이에 성인 2D 영화 일반 시간대를 영화 관람료는 주중 1만3000원 주말 1만4000원으로 조정된다 3D를 비롯한 IMAX 4DX ScreenX 기술 특별관 스윗 박스 가격도 1000원씩 일괄 인상된다 코로나19로 관객이 급감함에 극장은 투자 배급사 제작사 영화 산업 전반이 고사 위기로 내몰리고 있는 상황에서 생존을 위한 불가피한 선택이라는 회사 측의 설명이다 CGV 관계자는 적자 폭이 더욱 늘어날 경우 극장은 영화산업 전반의 붕괴가 있다는 절박함 속에 생존을 위한 피치 못할 선택이라고 말했다 앞서 CGV는 지난해 10월 영화 관람료를 1000 2000원 가량 인상한 롯데시네마와 메가박스도 이달부터 2D 기준 일반 관람권을 1000원 올렸다 메가박스의 2D 일반 성인 기준 주말 관람료는 1만3000원이다 코로나19로 영화 산업은 직격탄을 맞았다 CJ CGV에 따르면 지난해 국내 관람객 수는 6000만명으로 전년대비 73 감소했다 CJ CGV는 오는 2023년 전국 119개 직영점 30 폐점할 계획이다 지난해 말부터 대구 인천공항 대학로 명동력씨네라이브러리 등촌 역수역점 10여개 점포의 문을 닫았다 롯데시네마도 황확 구미 검단점 등의 운영을 중단했다 반면 온라인동영상서비스는 특수를 맞았다 넷플릭스는 한국 진출 4년만인 지난해 기준 유료 가입자가 380만 가구를 돌파했다고 밝혔다 세계 유료 가입자 수는 2억 가구에 달한다 애플리케이션 분석업체 와이즈앱에 따르면 지난해 국내 넷플릭스 결제 금액은 5173억원으로 전년대비 108 급증했다 토종 OTT 웨이브의 회원 수는 1000만명을 넘어섰다 전문가들은 영화관이 기존의 상영 위주에서 이벤트 기능을 갖춘 공간으로 변화해야 한다고 강조한다 서용구 숙명여대 경영학과 교수는 코로나19가 종식되더라도 영화관이 더이상 앵커 테넌트로서의 기능을 하기는 힘들 것이라며 스포츠 실시간 중계나 콘서트홀 새로운 서비스를 고민해야할 때라고 말했다 신미진 매경닷컴 기자 mjshin mk co kr 매일경제 mk co kr 무단전재 재배포 금지']"
            ]
          },
          "metadata": {
            "tags": []
          },
          "execution_count": 15
        }
      ]
    },
    {
      "cell_type": "code",
      "metadata": {
        "colab": {
          "base_uri": "https://localhost:8080/"
        },
        "id": "OspXndBGdcfM",
        "outputId": "bdb1a4ce-b81d-4a45-d5ee-2e224e0806e6"
      },
      "source": [
        "# title의 5개 열을 전처리\n",
        "clean_title = []\n",
        "for s in data['title']:\n",
        "  clean_title.append(preprocess_sentence(s, 0))\n",
        "clean_title[:5]"
      ],
      "execution_count": 13,
      "outputs": [
        {
          "output_type": "execute_result",
          "data": {
            "text/plain": [
              "['결혼 역대 최소 21만건 코로나 일자리 여건 안돼',\n",
              " '유력 후보 사라졌다 국산 2호 코로나19 치료제 누가 차지하나',\n",
              " 'CGV 다음달 2일부터 관람료 인상 코로나 장기화로 불가피',\n",
              " '속보 코로나19 어제 445명 신규확진 백신 접종 641 331명',\n",
              " '인상 영화 관람료 1만4000원 시대 CGV 코로나19']"
            ]
          },
          "metadata": {
            "tags": []
          },
          "execution_count": 13
        }
      ]
    },
    {
      "cell_type": "code",
      "metadata": {
        "id": "2LXTQ_BVXRno"
      },
      "source": [
        "# 전처리한 데이터를 데이터프레임에 저장\n",
        "data['text'] = clean_text\n",
        "data['title'] = clean_title"
      ],
      "execution_count": 16,
      "outputs": []
    },
    {
      "cell_type": "code",
      "metadata": {
        "colab": {
          "base_uri": "https://localhost:8080/"
        },
        "id": "Ikx8JCQYXhlq",
        "outputId": "8ec878ee-5c72-47a1-d38d-65ee9ad7fd86"
      },
      "source": [
        "# 전처리 과정에서 빈 값이 생겼다면, null로 변경하여 출력\n",
        "data.replace('', np.nan, inplace=True)\n",
        "print(data.isnull().sum())"
      ],
      "execution_count": 17,
      "outputs": [
        {
          "output_type": "stream",
          "text": [
            "title    0\n",
            "text     1\n",
            "dtype: int64\n"
          ],
          "name": "stdout"
        }
      ]
    },
    {
      "cell_type": "code",
      "metadata": {
        "colab": {
          "base_uri": "https://localhost:8080/"
        },
        "id": "lLTgr-OUXpe9",
        "outputId": "b8898d64-3f5d-4a99-e083-d9c09a454d0e"
      },
      "source": [
        "data.dropna(axis = 0, inplace = True)\n",
        "print('전체 샘플 수 : ', (len(data)))"
      ],
      "execution_count": 18,
      "outputs": [
        {
          "output_type": "stream",
          "text": [
            "전체 샘플 수 :  932\n"
          ],
          "name": "stdout"
        }
      ]
    },
    {
      "cell_type": "code",
      "metadata": {
        "colab": {
          "base_uri": "https://localhost:8080/",
          "height": 961
        },
        "id": "AwVRgh-mYLkF",
        "outputId": "9a88e635-3304-4e30-d0bb-0a705b40dc54"
      },
      "source": [
        "# 길이 분포 출력\n",
        "text_len = [len(s.split()) for s in data['text']]\n",
        "title_len = [len(s.split()) for s in data['title']]\n",
        "\n",
        "print('텍스트의 최소 길이 : {}'.format(np.min(text_len)))\n",
        "print('텍스트의 최대 길이 : {}'.format(np.max(text_len)))\n",
        "print('텍스트의 평균 길이 : {}'.format(np.mean(text_len)))\n",
        "print('제목의 최소 길이 : {}'.format(np.min(title_len)))\n",
        "print('제목의 최대 길이 : {}'.format(np.max(title_len)))\n",
        "print('제목의 평균 길이 : {}'.format(np.mean(title_len)))\n",
        "\n",
        "plt.subplot(1,2,1)\n",
        "plt.boxplot(title_len)\n",
        "plt.title('title')\n",
        "plt.subplot(1,2,2)\n",
        "plt.boxplot(text_len)\n",
        "plt.title('text')\n",
        "plt.tight_layout()\n",
        "plt.show()\n",
        "\n",
        "plt.title('title')\n",
        "plt.hist(title_len, bins=40)\n",
        "plt.xlabel('length of samples')\n",
        "plt.ylabel('number of samples')\n",
        "plt.show()\n",
        "\n",
        "plt.title('text')\n",
        "plt.hist(text_len, bins=40)\n",
        "plt.xlabel('length of samples')\n",
        "plt.ylabel('number of samples')\n",
        "plt.show()"
      ],
      "execution_count": 20,
      "outputs": [
        {
          "output_type": "stream",
          "text": [
            "텍스트의 최소 길이 : 13\n",
            "텍스트의 최대 길이 : 1460\n",
            "텍스트의 평균 길이 : 204.39377682403435\n",
            "제목의 최소 길이 : 2\n",
            "제목의 최대 길이 : 15\n",
            "제목의 평균 길이 : 6.977467811158799\n"
          ],
          "name": "stdout"
        },
        {
          "output_type": "display_data",
          "data": {
            "image/png": "[encoded data removed]",
            "text/plain": [
              "<Figure size 432x288 with 2 Axes>"
            ]
          },
          "metadata": {
            "tags": [],
            "needs_background": "light"
          }
        },
        {
          "output_type": "display_data",
          "data": {
            "image/png": "[encoded data removed]",
            "text/plain": [
              "<Figure size 432x288 with 1 Axes>"
            ]
          },
          "metadata": {
            "tags": [],
            "needs_background": "light"
          }
        },
        {
          "output_type": "display_data",
          "data": {
            "image/png": "[encoded data removed]",
            "text/plain": [
              "<Figure size 432x288 with 1 Axes>"
            ]
          },
          "metadata": {
            "tags": [],
            "needs_background": "light"
          }
        }
      ]
    },
    {
      "cell_type": "code",
      "metadata": {
        "id": "9j7Yux-uZfbX"
      },
      "source": [
        "text_max_len = 400\n",
        "title_max_len = 10"
      ],
      "execution_count": 26,
      "outputs": []
    },
    {
      "cell_type": "code",
      "metadata": {
        "id": "ACH51RgPZvdA"
      },
      "source": [
        "def below_threshold_len(max_len, nested_list):\n",
        "  cnt = 0\n",
        "  for s in nested_list:\n",
        "    if(len(s.split()) <= max_len):\n",
        "      cnt = cnt + 1\n",
        "  print('전체 샘플 중 길이가 %s 이하인 샘플의 비율 : %s'%(max_len, (cnt / len(nested_list))))"
      ],
      "execution_count": 22,
      "outputs": []
    },
    {
      "cell_type": "code",
      "metadata": {
        "colab": {
          "base_uri": "https://localhost:8080/"
        },
        "id": "YmQfAGKDaN_a",
        "outputId": "548e3f70-0077-4f07-d7e2-8687422b90bb"
      },
      "source": [
        "below_threshold_len(text_max_len, data['text'])"
      ],
      "execution_count": 23,
      "outputs": [
        {
          "output_type": "stream",
          "text": [
            "전체 샘플 중 길이가 400 이하인 샘플의 비율 : 0.898068669527897\n"
          ],
          "name": "stdout"
        }
      ]
    },
    {
      "cell_type": "code",
      "metadata": {
        "colab": {
          "base_uri": "https://localhost:8080/"
        },
        "id": "r4X2nwBwgsau",
        "outputId": "b03410c9-2109-41ea-f380-489a041d693c"
      },
      "source": [
        "below_threshold_len(title_max_len, data['title'])"
      ],
      "execution_count": 27,
      "outputs": [
        {
          "output_type": "stream",
          "text": [
            "전체 샘플 중 길이가 10 이하인 샘플의 비율 : 0.9892703862660944\n"
          ],
          "name": "stdout"
        }
      ]
    },
    {
      "cell_type": "code",
      "metadata": {
        "colab": {
          "base_uri": "https://localhost:8080/"
        },
        "id": "_0ELxjdmaU1V",
        "outputId": "5b702ff8-a871-4e04-dd54-765a562c9930"
      },
      "source": [
        "data = data[data['text'].apply(lambda x: len(x.split()) <= text_max_len)]\n",
        "data = data[data['title'].apply(lambda x: len(x.split()) <= title_max_len)]\n",
        "print('전체 샘플 수 : ', (len(data)))"
      ],
      "execution_count": 28,
      "outputs": [
        {
          "output_type": "stream",
          "text": [
            "전체 샘플 수 :  829\n"
          ],
          "name": "stdout"
        }
      ]
    },
    {
      "cell_type": "code",
      "metadata": {
        "colab": {
          "base_uri": "https://localhost:8080/",
          "height": 255
        },
        "id": "Xu7cH1cwaqst",
        "outputId": "989b53e8-3257-4030-fc67-b37c8dbdc9f1"
      },
      "source": [
        "data.head()"
      ],
      "execution_count": 29,
      "outputs": [
        {
          "output_type": "execute_result",
          "data": {
            "text/html": [
              "<div>\n",
              "<style scoped>\n",
              "    .dataframe tbody tr th:only-of-type {\n",
              "        vertical-align: middle;\n",
              "    }\n",
              "\n",
              "    .dataframe tbody tr th {\n",
              "        vertical-align: top;\n",
              "    }\n",
              "\n",
              "    .dataframe thead th {\n",
              "        text-align: right;\n",
              "    }\n",
              "</style>\n",
              "<table border=\"1\" class=\"dataframe\">\n",
              "  <thead>\n",
              "    <tr style=\"text-align: right;\">\n",
              "      <th></th>\n",
              "      <th>title</th>\n",
              "      <th>text</th>\n",
              "    </tr>\n",
              "  </thead>\n",
              "  <tbody>\n",
              "    <tr>\n",
              "      <th>1</th>\n",
              "      <td>유력 후보 사라졌다 국산 2호 코로나19 치료제 누가 차지하나</td>\n",
              "      <td>김잔디 기자기자 페이지GC녹십자 1분기 데이터 정리 마치고 4월 허가 신청 예정 김...</td>\n",
              "    </tr>\n",
              "    <tr>\n",
              "      <th>2</th>\n",
              "      <td>CGV 다음달 2일부터 관람료 인상 코로나 장기화로 불가피</td>\n",
              "      <td>업계 1위 멀티플렉스 극장 CGV가 다음달 영화 관람료를 인상합니다 지난해 10월 ...</td>\n",
              "    </tr>\n",
              "    <tr>\n",
              "      <th>3</th>\n",
              "      <td>속보 코로나19 어제 445명 신규확진 백신 접종 641 331명</td>\n",
              "      <td>국내 코로나19 확산세가 이어지는 가운데 오늘 신규 확진자 수는 400명대 중반을 ...</td>\n",
              "    </tr>\n",
              "    <tr>\n",
              "      <th>4</th>\n",
              "      <td>인상 영화 관람료 1만4000원 시대 CGV 코로나19</td>\n",
              "      <td>정부는 국내 신종 코로나바이러스 감염증 3차 대유행 완만한 감소세에 접어들었지만 확...</td>\n",
              "    </tr>\n",
              "    <tr>\n",
              "      <th>6</th>\n",
              "      <td>EU 코로나19 백신 수출 차단 위협 영국 벼랑끝 전술이냐</td>\n",
              "      <td>최윤정 기자기자 페이지영국서 EU로 오는 아스트라제네카 백신 부족 언급 영국 계약은...</td>\n",
              "    </tr>\n",
              "  </tbody>\n",
              "</table>\n",
              "</div>"
            ],
            "text/plain": [
              "                                  title                                               text\n",
              "1    유력 후보 사라졌다 국산 2호 코로나19 치료제 누가 차지하나  김잔디 기자기자 페이지GC녹십자 1분기 데이터 정리 마치고 4월 허가 신청 예정 김...\n",
              "2      CGV 다음달 2일부터 관람료 인상 코로나 장기화로 불가피  업계 1위 멀티플렉스 극장 CGV가 다음달 영화 관람료를 인상합니다 지난해 10월 ...\n",
              "3  속보 코로나19 어제 445명 신규확진 백신 접종 641 331명  국내 코로나19 확산세가 이어지는 가운데 오늘 신규 확진자 수는 400명대 중반을 ...\n",
              "4        인상 영화 관람료 1만4000원 시대 CGV 코로나19  정부는 국내 신종 코로나바이러스 감염증 3차 대유행 완만한 감소세에 접어들었지만 확...\n",
              "6      EU 코로나19 백신 수출 차단 위협 영국 벼랑끝 전술이냐  최윤정 기자기자 페이지영국서 EU로 오는 아스트라제네카 백신 부족 언급 영국 계약은..."
            ]
          },
          "metadata": {
            "tags": []
          },
          "execution_count": 29
        }
      ]
    },
    {
      "cell_type": "code",
      "metadata": {
        "colab": {
          "base_uri": "https://localhost:8080/",
          "height": 374
        },
        "id": "Hrk4VdP4bCbX",
        "outputId": "f5ee76e6-2738-476b-ff02-b9e34c247df9"
      },
      "source": [
        "data['decoder_input'] = data['title'].apply(lambda x : 'sostoken '+ x)\n",
        "data['decoder_target'] = data['title'].apply(lambda x : x + ' eostoken')\n",
        "data.head()"
      ],
      "execution_count": 31,
      "outputs": [
        {
          "output_type": "execute_result",
          "data": {
            "text/html": [
              "<div>\n",
              "<style scoped>\n",
              "    .dataframe tbody tr th:only-of-type {\n",
              "        vertical-align: middle;\n",
              "    }\n",
              "\n",
              "    .dataframe tbody tr th {\n",
              "        vertical-align: top;\n",
              "    }\n",
              "\n",
              "    .dataframe thead th {\n",
              "        text-align: right;\n",
              "    }\n",
              "</style>\n",
              "<table border=\"1\" class=\"dataframe\">\n",
              "  <thead>\n",
              "    <tr style=\"text-align: right;\">\n",
              "      <th></th>\n",
              "      <th>title</th>\n",
              "      <th>text</th>\n",
              "      <th>decoder_input</th>\n",
              "      <th>decoder_target</th>\n",
              "    </tr>\n",
              "  </thead>\n",
              "  <tbody>\n",
              "    <tr>\n",
              "      <th>1</th>\n",
              "      <td>유력 후보 사라졌다 국산 2호 코로나19 치료제 누가 차지하나</td>\n",
              "      <td>김잔디 기자기자 페이지GC녹십자 1분기 데이터 정리 마치고 4월 허가 신청 예정 김...</td>\n",
              "      <td>sostoken 유력 후보 사라졌다 국산 2호 코로나19 치료제 누가 차지하나</td>\n",
              "      <td>유력 후보 사라졌다 국산 2호 코로나19 치료제 누가 차지하나 eostoken</td>\n",
              "    </tr>\n",
              "    <tr>\n",
              "      <th>2</th>\n",
              "      <td>CGV 다음달 2일부터 관람료 인상 코로나 장기화로 불가피</td>\n",
              "      <td>업계 1위 멀티플렉스 극장 CGV가 다음달 영화 관람료를 인상합니다 지난해 10월 ...</td>\n",
              "      <td>sostoken CGV 다음달 2일부터 관람료 인상 코로나 장기화로 불가피</td>\n",
              "      <td>CGV 다음달 2일부터 관람료 인상 코로나 장기화로 불가피 eostoken</td>\n",
              "    </tr>\n",
              "    <tr>\n",
              "      <th>3</th>\n",
              "      <td>속보 코로나19 어제 445명 신규확진 백신 접종 641 331명</td>\n",
              "      <td>국내 코로나19 확산세가 이어지는 가운데 오늘 신규 확진자 수는 400명대 중반을 ...</td>\n",
              "      <td>sostoken 속보 코로나19 어제 445명 신규확진 백신 접종 641 331명</td>\n",
              "      <td>속보 코로나19 어제 445명 신규확진 백신 접종 641 331명 eostoken</td>\n",
              "    </tr>\n",
              "    <tr>\n",
              "      <th>4</th>\n",
              "      <td>인상 영화 관람료 1만4000원 시대 CGV 코로나19</td>\n",
              "      <td>정부는 국내 신종 코로나바이러스 감염증 3차 대유행 완만한 감소세에 접어들었지만 확...</td>\n",
              "      <td>sostoken 인상 영화 관람료 1만4000원 시대 CGV 코로나19</td>\n",
              "      <td>인상 영화 관람료 1만4000원 시대 CGV 코로나19 eostoken</td>\n",
              "    </tr>\n",
              "    <tr>\n",
              "      <th>6</th>\n",
              "      <td>EU 코로나19 백신 수출 차단 위협 영국 벼랑끝 전술이냐</td>\n",
              "      <td>최윤정 기자기자 페이지영국서 EU로 오는 아스트라제네카 백신 부족 언급 영국 계약은...</td>\n",
              "      <td>sostoken EU 코로나19 백신 수출 차단 위협 영국 벼랑끝 전술이냐</td>\n",
              "      <td>EU 코로나19 백신 수출 차단 위협 영국 벼랑끝 전술이냐 eostoken</td>\n",
              "    </tr>\n",
              "  </tbody>\n",
              "</table>\n",
              "</div>"
            ],
            "text/plain": [
              "                                  title  ...                                 decoder_target\n",
              "1    유력 후보 사라졌다 국산 2호 코로나19 치료제 누가 차지하나  ...    유력 후보 사라졌다 국산 2호 코로나19 치료제 누가 차지하나 eostoken\n",
              "2      CGV 다음달 2일부터 관람료 인상 코로나 장기화로 불가피  ...      CGV 다음달 2일부터 관람료 인상 코로나 장기화로 불가피 eostoken\n",
              "3  속보 코로나19 어제 445명 신규확진 백신 접종 641 331명  ...  속보 코로나19 어제 445명 신규확진 백신 접종 641 331명 eostoken\n",
              "4        인상 영화 관람료 1만4000원 시대 CGV 코로나19  ...        인상 영화 관람료 1만4000원 시대 CGV 코로나19 eostoken\n",
              "6      EU 코로나19 백신 수출 차단 위협 영국 벼랑끝 전술이냐  ...      EU 코로나19 백신 수출 차단 위협 영국 벼랑끝 전술이냐 eostoken\n",
              "\n",
              "[5 rows x 4 columns]"
            ]
          },
          "metadata": {
            "tags": []
          },
          "execution_count": 31
        }
      ]
    },
    {
      "cell_type": "code",
      "metadata": {
        "id": "6dMbbya9heEC"
      },
      "source": [
        "encoder_input = np.array(data['text'])\n",
        "decoder_input = np.array(data['decoder_input'])\n",
        "decoder_target = np.array(data['decoder_target'])"
      ],
      "execution_count": 32,
      "outputs": []
    },
    {
      "cell_type": "markdown",
      "metadata": {
        "id": "kevGYva6iKfv"
      },
      "source": [
        "### 데이터 분리"
      ]
    },
    {
      "cell_type": "code",
      "metadata": {
        "colab": {
          "base_uri": "https://localhost:8080/"
        },
        "id": "oW-AAosMhv9M",
        "outputId": "bc92db61-5cd1-4964-fee3-75f290e8dd3a"
      },
      "source": [
        "indices = np.arange(encoder_input.shape[0])\n",
        "np.random.shuffle(indices)\n",
        "print(indices)"
      ],
      "execution_count": 33,
      "outputs": [
        {
          "output_type": "stream",
          "text": [
            "[826 103   8 258 627 356 294 656 520 316 432 671 538 678 712  14 270 532\n",
            " 665 742 691 200 252 395 113 701  27 604 814 504 474 465 222 399 363 331\n",
            " 408 210 646 338 145  55 636  77 601 720 805 272 749 568 584 255 379 733\n",
            " 156 101 489 467 549 818 193  31 344 496 310 416 688 492 456 367  40 283\n",
            " 732 553 612 762 241 235 204 240  79 285 162 499 346 236 278 306 751 317\n",
            " 319 462  85  75 653 345 783 484   1 351   5 150 716 231 308 141 364 789\n",
            " 743 578 352 428 798 390 299 293 481 825 676 576 230 643 412 506 634 142\n",
            " 452 530 261 779 822  39  18 239 725 603  50 795 602 122 466 361  10 439\n",
            "  68 482 266 658 592 401 686 172   2 821 809 693 644 494 776 765 425 251\n",
            " 531 750 669 279 447 782  71  49 267 175 116  37 242  48 215 451 817 563\n",
            " 479 409  76  64 661  52 358 402 253 493 546 271  34 566 196 202 118  12\n",
            " 157 263 761 249 354 181 657  97 577 614 683 801 794 491 406 386 571 475\n",
            " 648 312 545 362  17 334 753 588 458 441 650 403 350 487 760 685 792 170\n",
            " 187 747 247  45 608 374  62  78 413 746 320 140 198 419 647 127 453 443\n",
            " 819 454 144 214 301  21 596 250 243 500  35  81 159 573 654 109 666 366\n",
            "  92 380 797 815 211 392 165 238 188 389 378 533 689 155 436 422 625 434\n",
            "  66 476 382 268 161 318 333 557 337 575 816 757 572 229 580 824 220 770\n",
            " 641 735  15 245 495   6 375 397 104 303 730 478 302 511  90 522 477 717\n",
            " 218 613 649 205 460 190 615 651 194 766 132 233 173 178 313 315 800 630\n",
            " 206 516 674  96 457 710 767  74  89 483 179   0  46 171 662 440 107 418\n",
            " 133 524 223 738 327 372 102 582 108 213 785 726 711 246 802 497 125 135\n",
            " 597 624 365 672 224  26 518 529 585 485 569   3 134 325 355 424 186 635\n",
            " 295 694 502 385 736 655 812 745 225 680 330 369 505 332 764 640 567 788\n",
            " 404 415  63 561 586 360 521 626 112 527 727  20  65 298 126 259 513 618\n",
            " 471 420 587 339 384 695 137 105   7 342 435 758 309 728 417 628 810 407\n",
            " 185 570 353 664 153  54  30 503 737 100 519 828 781 237 740  56 400  60\n",
            " 673 468 583 772 262 526 264 473 768  22 208 391 535 523 167  38 501 713\n",
            " 679 300 631 548 682 703 163 124 154 336  59 681 304 773 490 652 449 343\n",
            " 609 706 311 427 534 437 158  51 667 739 219 827 282 348 752   4 668 463\n",
            " 642 542 729 517 741 748 276 284 470 426 281 120 811  13 564 455 791 160\n",
            " 807 558 593 620 195 191 536 164 106  16 590 540 329 480 498 722 405 619\n",
            "  93 433  83 700 645 414 808 734 605 793 322 556 357  69 514 509 340 221\n",
            " 769 146 289  29 114 508 670 803 176 168 347 376 632 820 823 638 189 136\n",
            " 446 787 254 731 290 778 702 232  33  88  44 341  61 790 199 429 622 394\n",
            " 297  73 393 547 579 541 708 692 698 217 539 687 623 421 138 212 616 715\n",
            " 696 718 759 234  67  24 381 216 129 349 111 166 207 438 552 274 704 591\n",
            " 663 525 287 469 326 121 507 228 595 445 117 464  25 110 149 152 528 621\n",
            " 461 598 139 260 323 744 248 450 410 607  19 328 296 269 226  94 515 637\n",
            " 280 286 589 771 444 184 371 724 806 275 774 182  32  80 307  11  43  86\n",
            "  36  58  41 411 562 209 148 594 123 574  98 377 130 699  23 721 555 370\n",
            " 512 383 201 368 554 610 387 292 690 256 606 197  95 796 780 169 581 305\n",
            " 560 373 719 227 660 143 180 131 786  47 324 203  84 633 565 611 398  91\n",
            "  82 430 119 291  57 321 257 784 442  42 617 388 335 273 756 488 550  53\n",
            " 775 128  28 183 459 510 675 151 244 714 543 544 639 697 265 288 423 147\n",
            " 659 799 177  99 448 431 709 755 115 777  72 537 677 813 174  87 551 486\n",
            " 705 314 396 600 472  70 599 804 754 277 723   9 359 707 763 192 629 559\n",
            " 684]\n"
          ],
          "name": "stdout"
        }
      ]
    },
    {
      "cell_type": "code",
      "metadata": {
        "id": "_duPu55NicIT"
      },
      "source": [
        "encoder_input = encoder_input[indices]\n",
        "decoder_input = decoder_input[indices]\n",
        "decoder_target = decoder_target[indices]"
      ],
      "execution_count": 34,
      "outputs": []
    },
    {
      "cell_type": "code",
      "metadata": {
        "colab": {
          "base_uri": "https://localhost:8080/"
        },
        "id": "ETUCFaEhiexH",
        "outputId": "bb8b23c8-2281-4a50-a974-a076a755d56b"
      },
      "source": [
        "n_of_val = int(len(encoder_input)*0.2)\n",
        "print('테스트 데이터의 수 :',n_of_val)"
      ],
      "execution_count": 35,
      "outputs": [
        {
          "output_type": "stream",
          "text": [
            "테스트 데이터의 수 : 165\n"
          ],
          "name": "stdout"
        }
      ]
    },
    {
      "cell_type": "code",
      "metadata": {
        "id": "vHInTcExigON"
      },
      "source": [
        "encoder_input_train = encoder_input[:-n_of_val]\n",
        "decoder_input_train = decoder_input[:-n_of_val]\n",
        "decoder_target_train = decoder_target[:-n_of_val]\n",
        "\n",
        "encoder_input_test = encoder_input[-n_of_val:]\n",
        "decoder_input_test = decoder_input[-n_of_val:]\n",
        "decoder_target_test = decoder_target[-n_of_val:]"
      ],
      "execution_count": 36,
      "outputs": []
    },
    {
      "cell_type": "code",
      "metadata": {
        "colab": {
          "base_uri": "https://localhost:8080/"
        },
        "id": "6voVRNtzilQ5",
        "outputId": "8ebf60e4-4a66-44f5-984d-81c3812c72bc"
      },
      "source": [
        "print('훈련 데이터의 개수 :', len(encoder_input_train))\n",
        "print('훈련 레이블의 개수 :',len(decoder_input_train))\n",
        "print('테스트 데이터의 개수 :',len(encoder_input_test))\n",
        "print('테스트 레이블의 개수 :',len(decoder_input_test))"
      ],
      "execution_count": 37,
      "outputs": [
        {
          "output_type": "stream",
          "text": [
            "훈련 데이터의 개수 : 664\n",
            "훈련 레이블의 개수 : 664\n",
            "테스트 데이터의 개수 : 165\n",
            "테스트 레이블의 개수 : 165\n"
          ],
          "name": "stdout"
        }
      ]
    },
    {
      "cell_type": "markdown",
      "metadata": {
        "id": "ncqsNvrpioYR"
      },
      "source": [
        "### 정수 인코딩"
      ]
    },
    {
      "cell_type": "code",
      "metadata": {
        "id": "yuIk2vfTimkr"
      },
      "source": [
        "src_tokenizer = Tokenizer()\n",
        "src_tokenizer.fit_on_texts(encoder_input_train)"
      ],
      "execution_count": 38,
      "outputs": []
    },
    {
      "cell_type": "code",
      "metadata": {
        "colab": {
          "base_uri": "https://localhost:8080/"
        },
        "id": "yAVTfXKJir_7",
        "outputId": "94556651-5c0c-417c-b9b6-4c460e71548e"
      },
      "source": [
        "threshold = 7\n",
        "total_cnt = len(src_tokenizer.word_index) # 단어의 수\n",
        "rare_cnt = 0 # 등장 빈도수가 threshold보다 작은 단어의 개수를 카운트\n",
        "total_freq = 0 # 훈련 데이터의 전체 단어 빈도수 총 합\n",
        "rare_freq = 0 # 등장 빈도수가 threshold보다 작은 단어의 등장 빈도수의 총 합\n",
        "\n",
        "# 단어와 빈도수의 쌍(pair)을 key와 value로 받는다.\n",
        "for key, value in src_tokenizer.word_counts.items():\n",
        "    total_freq = total_freq + value\n",
        "\n",
        "    # 단어의 등장 빈도수가 threshold보다 작으면\n",
        "    if(value < threshold):\n",
        "        rare_cnt = rare_cnt + 1\n",
        "        rare_freq = rare_freq + value\n",
        "\n",
        "print('단어 집합의 크기 :',total_cnt)\n",
        "print('등장 빈도가 %s번 이하인 희귀 단어의 수: %s'%(threshold - 1, rare_cnt))\n",
        "print('단어 집합에서 희귀 단어를 제외시킬 경우의 단어 집합의 크기 %s'%(total_cnt - rare_cnt))\n",
        "print(\"단어 집합에서 희귀 단어의 비율:\", (rare_cnt / total_cnt)*100)\n",
        "print(\"전체 등장 빈도에서 희귀 단어 등장 빈도 비율:\", (rare_freq / total_freq)*100)"
      ],
      "execution_count": 40,
      "outputs": [
        {
          "output_type": "stream",
          "text": [
            "단어 집합의 크기 : 36221\n",
            "등장 빈도가 6번 이하인 희귀 단어의 수: 33730\n",
            "단어 집합에서 희귀 단어를 제외시킬 경우의 단어 집합의 크기 2491\n",
            "단어 집합에서 희귀 단어의 비율: 93.12277408133404\n",
            "전체 등장 빈도에서 희귀 단어 등장 빈도 비율: 49.203348885241674\n"
          ],
          "name": "stdout"
        }
      ]
    },
    {
      "cell_type": "code",
      "metadata": {
        "id": "RXLoGIYqiu6Q"
      },
      "source": [
        "src_vocab = 8000\n",
        "src_tokenizer = Tokenizer(num_words = src_vocab) \n",
        "src_tokenizer.fit_on_texts(encoder_input_train)\n",
        "\n",
        "# 텍스트 시퀀스를 정수 시퀀스로 변환\n",
        "encoder_input_train = src_tokenizer.texts_to_sequences(encoder_input_train) \n",
        "encoder_input_test = src_tokenizer.texts_to_sequences(encoder_input_test)"
      ],
      "execution_count": 41,
      "outputs": []
    },
    {
      "cell_type": "code",
      "metadata": {
        "colab": {
          "base_uri": "https://localhost:8080/"
        },
        "id": "psrTd1JnjANM",
        "outputId": "2017ef04-11d6-41a6-c318-03609ff9b646"
      },
      "source": [
        "print(encoder_input_train[:3])"
      ],
      "execution_count": 42,
      "outputs": [
        {
          "output_type": "stream",
          "text": [
            "[[37, 657, 885, 394, 214, 365, 2103, 704, 7338, 1800, 32, 3816, 365, 19, 3068, 54, 502, 5071, 566, 3069, 7339, 658, 159, 2104, 64, 75, 23, 609, 365, 705, 20, 342, 13, 885, 394, 706, 7340, 752, 3817, 195, 2104, 7341, 7342, 827, 394, 706, 3070, 7343, 118, 7344, 343, 1274, 394, 885, 7345, 959, 7, 886, 7346, 2492, 394, 1403, 2493, 5072, 7346, 2494, 394, 827, 3818, 566, 503, 47, 2495, 2496, 7347, 1275, 960, 67, 2104, 32, 1276, 118, 19, 3068, 54, 502, 5071, 37, 268, 1277, 1801, 706, 1041, 292, 7348, 659, 3070, 1802, 1154, 1042, 2104, 365, 5073, 394, 174, 55, 3071, 7349, 961, 2497, 2498, 7350, 20, 161, 7351, 7352, 1275, 167, 1585, 20, 7353, 2499, 7354, 828, 366, 97, 3819, 101, 887, 2104, 7348, 502, 3071, 20, 885, 394, 7355, 1586, 1803, 195, 293, 394, 5074, 753, 1587, 888, 1043, 707, 754, 7356, 2500, 13, 7357, 394, 2501, 1804, 1404, 395, 2104, 118, 394, 7344, 343, 962, 3820, 7358, 161, 2501, 458, 3821, 5075, 459, 5076, 3820, 7358, 440, 2104, 7341, 7342, 827, 394, 885, 706, 3070, 7343, 963, 7359, 7360, 3070, 7361, 7362, 3822, 1044, 3072, 1588, 209, 7363, 3070, 7361, 885, 7364, 3073, 7365, 396, 441, 99, 5074, 2502, 5077, 537, 5078, 418, 7366, 567, 17, 7367, 829, 2503, 7368, 52, 3074, 830, 885, 7369, 831, 1801, 343, 441, 183, 115, 1045, 885, 964, 3075, 1805, 3823, 7370, 373, 2504, 1045, 174, 831, 3076, 538, 2501, 2505, 1405, 1045, 538, 885, 706, 1046, 118, 3824, 150, 2506, 2504, 5079, 419, 27, 3825, 830, 889, 45, 3826, 374, 7371, 118, 45, 1155, 441, 3827, 885, 394, 1047, 343, 885, 394, 344, 5080, 708, 7372, 1278, 255, 65, 175, 3828, 397, 4, 2507, 322, 3829, 2, 3830, 1156, 965, 44, 31, 1, 9, 46, 42, 11], [1806, 114, 3077, 3078, 135, 28, 176, 1806, 114, 2105, 2508, 7373, 13, 3831, 610, 3832, 5081, 54, 887, 7374, 1807, 5082, 7375, 3077, 3078, 7375, 3833, 3834, 7376, 1048, 238, 32, 7377, 114, 65, 2509, 832, 3079, 82, 17, 269, 1806, 504, 7378, 7379, 3077, 3078, 7, 45, 2106, 420, 2510, 32, 1806, 20, 92, 709, 7374, 505, 5083, 7380, 2107, 7381, 37, 1808, 5084, 1809, 3077, 3078, 7382, 7383, 1279, 1589, 2511, 176, 504, 7378, 3833, 611, 7384, 3833, 12, 833, 1157, 3080, 5085, 345, 1158, 5086, 3835, 2511, 7385, 3833, 5087, 1590, 5087, 13, 5088, 2107, 7381, 2107, 7386, 247, 2512, 7387, 248, 1806, 114, 1808, 3836, 752, 3081, 7388, 3831, 15, 7380, 7389, 1158, 86, 114, 5089, 22, 755, 2513, 890, 72, 5090, 5091, 7390, 114, 1808, 2514, 752, 612, 3837, 29, 2108, 7, 710, 7391, 114, 506, 5092, 33, 966, 660, 661, 5093, 1406, 2515, 5094, 2109, 3838, 228, 1810, 3831, 2105, 7392, 3831, 756, 5095, 102, 32, 1806, 114, 229, 5096, 3079, 7391, 3834, 1158, 114, 65, 7393, 1806, 3077, 3078, 3082, 2108, 421, 507, 37, 2110, 114, 1808, 5097, 891, 3838, 247, 29, 346, 2516, 2517, 422, 3839, 37, 1808, 3840, 1049, 184, 892, 347, 5098, 1806, 167, 7394, 1280, 2514, 752, 612, 13, 209, 37, 229, 5096, 832, 5099, 7395, 40, 7394, 5100, 348, 7396, 7396, 7397, 418, 2111, 834, 239, 3838, 3841, 5091, 613, 5101, 7398, 2518, 2, 44, 31, 1, 9, 46, 42, 11], [5102, 6, 3083, 1811, 2519, 5103, 13, 662, 7399, 3842, 375, 151, 162, 51, 66, 7400, 3084, 19, 5104, 177, 5103, 38, 59, 5102, 2, 508, 663, 7401, 477, 136, 7402, 79, 80, 95, 185, 664, 47, 114, 3085, 7403, 2520, 7404, 93, 1591, 1407, 7405, 5105, 3843, 478, 7406, 889, 114, 1812, 398, 5106, 1592, 3083, 7407, 7408, 330, 196, 757, 5107, 5108, 7, 2520, 7409, 889, 7410, 22, 967, 2495, 203, 664, 968, 893, 114, 893, 1408, 76, 8, 2520, 7409, 185, 3086, 88, 1813, 3087, 5109, 2521, 10, 2520, 1593, 2112, 7411, 60, 67, 665, 17, 90, 509, 1814, 2522, 7402, 19, 1409, 2113, 1050, 89, 2523, 3844, 7, 7412, 1410, 240, 7413, 2114, 121, 1050, 7414, 22, 5110, 2115, 41, 835, 2524, 614, 10, 7, 7403, 2520, 7404, 93, 1591, 1407, 7405, 5105, 3843, 19, 331, 478, 7406, 889, 114, 1812, 398, 5106, 1592, 3083, 7407, 7408, 330, 196, 757, 5107, 5108, 7, 58, 81, 2520, 7415, 332, 376, 3, 1, 16, 18, 81, 127, 1051, 5]]\n"
          ],
          "name": "stdout"
        }
      ]
    },
    {
      "cell_type": "code",
      "metadata": {
        "id": "G6_f5Od0jBr5"
      },
      "source": [
        "tar_tokenizer = Tokenizer()\n",
        "tar_tokenizer.fit_on_texts(decoder_input_train)"
      ],
      "execution_count": 43,
      "outputs": []
    },
    {
      "cell_type": "code",
      "metadata": {
        "colab": {
          "base_uri": "https://localhost:8080/"
        },
        "id": "LbOJcK5WjDNZ",
        "outputId": "a22935f7-e004-455d-8938-11454cfd64ed"
      },
      "source": [
        "threshold = 6\n",
        "total_cnt = len(tar_tokenizer.word_index) # 단어의 수\n",
        "rare_cnt = 0 # 등장 빈도수가 threshold보다 작은 단어의 개수를 카운트\n",
        "total_freq = 0 # 훈련 데이터의 전체 단어 빈도수 총 합\n",
        "rare_freq = 0 # 등장 빈도수가 threshold보다 작은 단어의 등장 빈도수의 총 합\n",
        "\n",
        "# 단어와 빈도수의 쌍(pair)을 key와 value로 받는다.\n",
        "for key, value in tar_tokenizer.word_counts.items():\n",
        "    total_freq = total_freq + value\n",
        "\n",
        "    # 단어의 등장 빈도수가 threshold보다 작으면\n",
        "    if(value < threshold):\n",
        "        rare_cnt = rare_cnt + 1\n",
        "        rare_freq = rare_freq + value\n",
        "\n",
        "print('단어 집합의 크기 :',total_cnt)\n",
        "print('등장 빈도가 %s번 이하인 희귀 단어의 수: %s'%(threshold - 1, rare_cnt))\n",
        "print('단어 집합에서 희귀 단어를 제외시킬 경우의 단어 집합의 크기 %s'%(total_cnt - rare_cnt))\n",
        "print(\"단어 집합에서 희귀 단어의 비율:\", (rare_cnt / total_cnt)*100)\n",
        "print(\"전체 등장 빈도에서 희귀 단어 등장 빈도 비율:\", (rare_freq / total_freq)*100)"
      ],
      "execution_count": 44,
      "outputs": [
        {
          "output_type": "stream",
          "text": [
            "단어 집합의 크기 : 2765\n",
            "등장 빈도가 5번 이하인 희귀 단어의 수: 2693\n",
            "단어 집합에서 희귀 단어를 제외시킬 경우의 단어 집합의 크기 72\n",
            "단어 집합에서 희귀 단어의 비율: 97.39602169981917\n",
            "전체 등장 빈도에서 희귀 단어 등장 빈도 비율: 68.51923076923076\n"
          ],
          "name": "stdout"
        }
      ]
    },
    {
      "cell_type": "code",
      "metadata": {
        "id": "fdziEDwijF7j"
      },
      "source": [
        "tar_vocab = 2000\n",
        "tar_tokenizer = Tokenizer(num_words = tar_vocab) \n",
        "tar_tokenizer.fit_on_texts(decoder_input_train)\n",
        "tar_tokenizer.fit_on_texts(decoder_target_train)"
      ],
      "execution_count": 45,
      "outputs": []
    },
    {
      "cell_type": "code",
      "metadata": {
        "id": "rGsrDKoxjH3X"
      },
      "source": [
        "# 텍스트 시퀀스를 정수 시퀀스로 변환\n",
        "decoder_input_train = tar_tokenizer.texts_to_sequences(decoder_input_train) \n",
        "decoder_target_train = tar_tokenizer.texts_to_sequences(decoder_target_train)\n",
        "decoder_input_test = tar_tokenizer.texts_to_sequences(decoder_input_test)\n",
        "decoder_target_test = tar_tokenizer.texts_to_sequences(decoder_target_test)"
      ],
      "execution_count": 46,
      "outputs": []
    },
    {
      "cell_type": "code",
      "metadata": {
        "colab": {
          "base_uri": "https://localhost:8080/"
        },
        "id": "0-8Z-e93jJZG",
        "outputId": "5e2e17e6-082d-408f-8544-fa82097d78c8"
      },
      "source": [
        "print(decoder_input_train[:5])"
      ],
      "execution_count": 47,
      "outputs": [
        {
          "output_type": "stream",
          "text": [
            "[[1, 616, 54, 617, 618, 619, 9, 620], [1, 621, 44, 622, 74, 623, 624, 625, 626], [1, 164, 28, 285, 627, 10, 165, 628, 629], [1, 3, 286, 20, 55, 101, 75], [1, 630, 287, 4, 631, 632, 633]]\n"
          ],
          "name": "stdout"
        }
      ]
    },
    {
      "cell_type": "code",
      "metadata": {
        "colab": {
          "base_uri": "https://localhost:8080/"
        },
        "id": "OYEQI2-6jKz7",
        "outputId": "e4022b60-4aa8-4e24-8fd9-4412428699b9"
      },
      "source": [
        "print(decoder_target_train[:5])"
      ],
      "execution_count": 48,
      "outputs": [
        {
          "output_type": "stream",
          "text": [
            "[[616, 54, 617, 618, 619, 9, 620, 2], [621, 44, 622, 74, 623, 624, 625, 626, 2], [164, 28, 285, 627, 10, 165, 628, 629, 2], [3, 286, 20, 55, 101, 75, 2], [630, 287, 4, 631, 632, 633, 2]]\n"
          ],
          "name": "stdout"
        }
      ]
    },
    {
      "cell_type": "code",
      "metadata": {
        "id": "znxpc_LkjM08"
      },
      "source": [
        "drop_train = [index for index, sentence in enumerate(decoder_input_train) if len(sentence) == 1]\n",
        "drop_test = [index for index, sentence in enumerate(decoder_input_test) if len(sentence) == 1]"
      ],
      "execution_count": 49,
      "outputs": []
    },
    {
      "cell_type": "code",
      "metadata": {
        "colab": {
          "base_uri": "https://localhost:8080/"
        },
        "id": "8NM2e73CjS9_",
        "outputId": "5ded531f-d8ec-4a91-e9a4-2bec646239a6"
      },
      "source": [
        "print('삭제할 훈련 데이터의 개수 :',len(drop_train))\n",
        "print('삭제할 테스트 데이터의 개수 :',len(drop_test))"
      ],
      "execution_count": 50,
      "outputs": [
        {
          "output_type": "stream",
          "text": [
            "삭제할 훈련 데이터의 개수 : 5\n",
            "삭제할 테스트 데이터의 개수 : 2\n"
          ],
          "name": "stdout"
        }
      ]
    },
    {
      "cell_type": "code",
      "metadata": {
        "colab": {
          "base_uri": "https://localhost:8080/"
        },
        "id": "IrMUVLUFjULH",
        "outputId": "b1f2f499-bac4-4568-bea8-40b2257424ed"
      },
      "source": [
        "encoder_input_train = np.delete(encoder_input_train, drop_train, axis=0)\n",
        "decoder_input_train = np.delete(decoder_input_train, drop_train, axis=0)\n",
        "decoder_target_train = np.delete(decoder_target_train, drop_train, axis=0)\n",
        "\n",
        "encoder_input_test = np.delete(encoder_input_test, drop_test, axis=0)\n",
        "decoder_input_test = np.delete(decoder_input_test, drop_test, axis=0)\n",
        "decoder_target_test = np.delete(decoder_target_test, drop_test, axis=0)\n",
        "\n",
        "print('훈련 데이터의 개수 :', len(encoder_input_train))\n",
        "print('훈련 레이블의 개수 :',len(decoder_input_train))\n",
        "print('테스트 데이터의 개수 :',len(encoder_input_test))\n",
        "print('테스트 레이블의 개수 :',len(decoder_input_test))"
      ],
      "execution_count": 51,
      "outputs": [
        {
          "output_type": "stream",
          "text": [
            "훈련 데이터의 개수 : 659\n",
            "훈련 레이블의 개수 : 659\n",
            "테스트 데이터의 개수 : 163\n",
            "테스트 레이블의 개수 : 163\n"
          ],
          "name": "stdout"
        },
        {
          "output_type": "stream",
          "text": [
            "/usr/local/lib/python3.7/dist-packages/numpy/core/_asarray.py:83: VisibleDeprecationWarning: Creating an ndarray from ragged nested sequences (which is a list-or-tuple of lists-or-tuples-or ndarrays with different lengths or shapes) is deprecated. If you meant to do this, you must specify 'dtype=object' when creating the ndarray\n",
            "  return array(a, dtype, copy=False, order=order)\n"
          ],
          "name": "stderr"
        }
      ]
    },
    {
      "cell_type": "code",
      "metadata": {
        "id": "DhAXawnKjWNq"
      },
      "source": [
        "encoder_input_train = pad_sequences(encoder_input_train, maxlen = text_max_len, padding='post')\n",
        "encoder_input_test = pad_sequences(encoder_input_test, maxlen = text_max_len, padding='post')\n",
        "decoder_input_train = pad_sequences(decoder_input_train, maxlen =  title_max_len, padding='post')\n",
        "decoder_target_train = pad_sequences(decoder_target_train, maxlen = title_max_len, padding='post')\n",
        "decoder_input_test = pad_sequences(decoder_input_test, maxlen = title_max_len, padding='post')\n",
        "decoder_target_test = pad_sequences(decoder_target_test, maxlen = title_max_len, padding='post')"
      ],
      "execution_count": 53,
      "outputs": []
    },
    {
      "cell_type": "markdown",
      "metadata": {
        "id": "81-Kc6c-jn2d"
      },
      "source": [
        "### seq2seq + attention으로 요약 모델 설계 및 훈련시키기"
      ]
    },
    {
      "cell_type": "code",
      "metadata": {
        "id": "KxS7o-nLjpgB"
      },
      "source": [
        "from tensorflow.keras.layers import Input, LSTM, Embedding, Dense, Concatenate\n",
        "from tensorflow.keras.models import Model\n",
        "from tensorflow.keras.callbacks import EarlyStopping, ModelCheckpoint"
      ],
      "execution_count": 54,
      "outputs": []
    },
    {
      "cell_type": "code",
      "metadata": {
        "id": "vfgSBivujb21"
      },
      "source": [
        "embedding_dim = 128\n",
        "hidden_size = 256\n",
        "\n",
        "# 인코더\n",
        "encoder_inputs = Input(shape=(text_max_len,))\n",
        "\n",
        "# 인코더의 임베딩 층\n",
        "enc_emb = Embedding(src_vocab, embedding_dim)(encoder_inputs)\n",
        "\n",
        "# 인코더의 LSTM 1\n",
        "encoder_lstm1 = LSTM(hidden_size, return_sequences=True, return_state=True ,dropout = 0.4, recurrent_dropout = 0.4)\n",
        "encoder_output1, state_h1, state_c1 = encoder_lstm1(enc_emb)\n",
        "\n",
        "# 인코더의 LSTM 2\n",
        "encoder_lstm2 = LSTM(hidden_size, return_sequences=True, return_state=True, dropout=0.4, recurrent_dropout=0.4)\n",
        "encoder_output2, state_h2, state_c2 = encoder_lstm2(encoder_output1)\n",
        "\n",
        "# 인코더의 LSTM 3\n",
        "encoder_lstm3 = LSTM(hidden_size, return_state=True, return_sequences=True, dropout=0.4, recurrent_dropout=0.4)\n",
        "encoder_outputs, state_h, state_c= encoder_lstm3(encoder_output2)"
      ],
      "execution_count": 55,
      "outputs": []
    },
    {
      "cell_type": "code",
      "metadata": {
        "id": "0QEhr6XtjtWp"
      },
      "source": [
        "# 디코더\n",
        "decoder_inputs = Input(shape=(None,))\n",
        "\n",
        "# 디코더의 임베딩 층\n",
        "dec_emb_layer = Embedding(tar_vocab, embedding_dim)\n",
        "dec_emb = dec_emb_layer(decoder_inputs)\n",
        "\n",
        "# 디코더의 LSTM\n",
        "decoder_lstm = LSTM(hidden_size, return_sequences = True, return_state = True, dropout = 0.4, recurrent_dropout=0.2)\n",
        "decoder_outputs, _, _ = decoder_lstm(dec_emb, initial_state = [state_h, state_c])"
      ],
      "execution_count": 56,
      "outputs": []
    },
    {
      "cell_type": "code",
      "metadata": {
        "colab": {
          "base_uri": "https://localhost:8080/"
        },
        "id": "womAggNcjvRA",
        "outputId": "f77aef40-7436-4347-bd3b-d028b9042dba"
      },
      "source": [
        "# 디코더의 출력층\n",
        "decoder_softmax_layer = Dense(tar_vocab, activation = 'softmax')\n",
        "decoder_softmax_outputs = decoder_softmax_layer(decoder_outputs) \n",
        "\n",
        "# 모델 정의\n",
        "model = Model([encoder_inputs, decoder_inputs], decoder_softmax_outputs)\n",
        "model.summary()"
      ],
      "execution_count": 57,
      "outputs": [
        {
          "output_type": "stream",
          "text": [
            "Model: \"model\"\n",
            "__________________________________________________________________________________________________\n",
            "Layer (type)                    Output Shape         Param #     Connected to                     \n",
            "==================================================================================================\n",
            "input_1 (InputLayer)            [(None, 400)]        0                                            \n",
            "__________________________________________________________________________________________________\n",
            "embedding (Embedding)           (None, 400, 128)     1024000     input_1[0][0]                    \n",
            "__________________________________________________________________________________________________\n",
            "lstm (LSTM)                     [(None, 400, 256), ( 394240      embedding[0][0]                  \n",
            "__________________________________________________________________________________________________\n",
            "input_2 (InputLayer)            [(None, None)]       0                                            \n",
            "__________________________________________________________________________________________________\n",
            "lstm_1 (LSTM)                   [(None, 400, 256), ( 525312      lstm[0][0]                       \n",
            "__________________________________________________________________________________________________\n",
            "embedding_1 (Embedding)         (None, None, 128)    256000      input_2[0][0]                    \n",
            "__________________________________________________________________________________________________\n",
            "lstm_2 (LSTM)                   [(None, 400, 256), ( 525312      lstm_1[0][0]                     \n",
            "__________________________________________________________________________________________________\n",
            "lstm_3 (LSTM)                   [(None, None, 256),  394240      embedding_1[0][0]                \n",
            "                                                                 lstm_2[0][1]                     \n",
            "                                                                 lstm_2[0][2]                     \n",
            "__________________________________________________________________________________________________\n",
            "dense (Dense)                   (None, None, 2000)   514000      lstm_3[0][0]                     \n",
            "==================================================================================================\n",
            "Total params: 3,633,104\n",
            "Trainable params: 3,633,104\n",
            "Non-trainable params: 0\n",
            "__________________________________________________________________________________________________\n"
          ],
          "name": "stdout"
        }
      ]
    },
    {
      "cell_type": "code",
      "metadata": {
        "id": "5UvyoiSrjwvB"
      },
      "source": [
        "urllib.request.urlretrieve(\"https://raw.githubusercontent.com/thushv89/attention_keras/master/src/layers/attention.py\", filename=\"attention.py\")\n",
        "from attention import AttentionLayer"
      ],
      "execution_count": 58,
      "outputs": []
    },
    {
      "cell_type": "code",
      "metadata": {
        "colab": {
          "base_uri": "https://localhost:8080/"
        },
        "id": "tyOmQZAojz8m",
        "outputId": "d4f64367-b49c-433a-f1b9-3d43d2b3345f"
      },
      "source": [
        "# 어텐션 층(어텐션 함수)\n",
        "attn_layer = AttentionLayer(name='attention_layer')\n",
        "attn_out, attn_states = attn_layer([encoder_outputs, decoder_outputs])\n",
        "\n",
        "# 어텐션의 결과와 디코더의 hidden state들을 연결\n",
        "decoder_concat_input = Concatenate(axis = -1, name='concat_layer')([decoder_outputs, attn_out])\n",
        "\n",
        "# 디코더의 출력층\n",
        "decoder_softmax_layer = Dense(tar_vocab, activation='softmax')\n",
        "decoder_softmax_outputs = decoder_softmax_layer(decoder_concat_input)\n",
        "\n",
        "# 모델 정의\n",
        "model = Model([encoder_inputs, decoder_inputs], decoder_softmax_outputs)\n",
        "model.summary()"
      ],
      "execution_count": 59,
      "outputs": [
        {
          "output_type": "stream",
          "text": [
            "Model: \"model_1\"\n",
            "__________________________________________________________________________________________________\n",
            "Layer (type)                    Output Shape         Param #     Connected to                     \n",
            "==================================================================================================\n",
            "input_1 (InputLayer)            [(None, 400)]        0                                            \n",
            "__________________________________________________________________________________________________\n",
            "embedding (Embedding)           (None, 400, 128)     1024000     input_1[0][0]                    \n",
            "__________________________________________________________________________________________________\n",
            "lstm (LSTM)                     [(None, 400, 256), ( 394240      embedding[0][0]                  \n",
            "__________________________________________________________________________________________________\n",
            "input_2 (InputLayer)            [(None, None)]       0                                            \n",
            "__________________________________________________________________________________________________\n",
            "lstm_1 (LSTM)                   [(None, 400, 256), ( 525312      lstm[0][0]                       \n",
            "__________________________________________________________________________________________________\n",
            "embedding_1 (Embedding)         (None, None, 128)    256000      input_2[0][0]                    \n",
            "__________________________________________________________________________________________________\n",
            "lstm_2 (LSTM)                   [(None, 400, 256), ( 525312      lstm_1[0][0]                     \n",
            "__________________________________________________________________________________________________\n",
            "lstm_3 (LSTM)                   [(None, None, 256),  394240      embedding_1[0][0]                \n",
            "                                                                 lstm_2[0][1]                     \n",
            "                                                                 lstm_2[0][2]                     \n",
            "__________________________________________________________________________________________________\n",
            "attention_layer (AttentionLayer ((None, None, 256),  131328      lstm_2[0][0]                     \n",
            "                                                                 lstm_3[0][0]                     \n",
            "__________________________________________________________________________________________________\n",
            "concat_layer (Concatenate)      (None, None, 512)    0           lstm_3[0][0]                     \n",
            "                                                                 attention_layer[0][0]            \n",
            "__________________________________________________________________________________________________\n",
            "dense_1 (Dense)                 (None, None, 2000)   1026000     concat_layer[0][0]               \n",
            "==================================================================================================\n",
            "Total params: 4,276,432\n",
            "Trainable params: 4,276,432\n",
            "Non-trainable params: 0\n",
            "__________________________________________________________________________________________________\n"
          ],
          "name": "stdout"
        }
      ]
    },
    {
      "cell_type": "code",
      "metadata": {
        "id": "B2zDjpL2j10o"
      },
      "source": [
        "model.compile(optimizer='rmsprop', loss='sparse_categorical_crossentropy')"
      ],
      "execution_count": 60,
      "outputs": []
    },
    {
      "cell_type": "code",
      "metadata": {
        "colab": {
          "base_uri": "https://localhost:8080/"
        },
        "id": "EtJ9Baltj3aw",
        "outputId": "3ee264db-ed68-4d15-c178-67886edf8d20"
      },
      "source": [
        "es = EarlyStopping(monitor='val_loss', mode='min', verbose=1, patience = 2)\n",
        "history = model.fit(x = [encoder_input_train, decoder_input_train], y = decoder_target_train, \\\n",
        "          validation_data = ([encoder_input_test, decoder_input_test], decoder_target_test),\n",
        "          batch_size = 256, callbacks=[es], epochs = 50)"
      ],
      "execution_count": 61,
      "outputs": [
        {
          "output_type": "stream",
          "text": [
            "Epoch 1/50\n",
            "3/3 [==============================] - 155s 48s/step - loss: 7.4028 - val_loss: 3.2481\n",
            "Epoch 2/50\n",
            "3/3 [==============================] - 146s 45s/step - loss: 5.1098 - val_loss: 3.4480\n",
            "Epoch 3/50\n",
            "3/3 [==============================] - 134s 43s/step - loss: 4.8339 - val_loss: 2.8595\n",
            "Epoch 4/50\n",
            "3/3 [==============================] - 135s 43s/step - loss: 4.6287 - val_loss: 3.3408\n",
            "Epoch 5/50\n",
            "3/3 [==============================] - 141s 47s/step - loss: 4.6882 - val_loss: 2.8019\n",
            "Epoch 6/50\n",
            "3/3 [==============================] - 134s 43s/step - loss: 4.5955 - val_loss: 3.0733\n",
            "Epoch 7/50\n",
            "3/3 [==============================] - 135s 43s/step - loss: 4.4903 - val_loss: 2.9023\n",
            "Epoch 00007: early stopping\n"
          ],
          "name": "stdout"
        }
      ]
    },
    {
      "cell_type": "code",
      "metadata": {
        "colab": {
          "base_uri": "https://localhost:8080/",
          "height": 265
        },
        "id": "0jNeNPYlj5Eu",
        "outputId": "f2ac065d-1b6a-4861-e39c-ec075993c4fc"
      },
      "source": [
        "plt.plot(history.history['loss'], label='train')\n",
        "plt.plot(history.history['val_loss'], label='test')\n",
        "plt.legend()\n",
        "plt.show()"
      ],
      "execution_count": 62,
      "outputs": [
        {
          "output_type": "display_data",
          "data": {
            "image/png": "[encoded data removed]",
            "text/plain": [
              "<Figure size 432x288 with 1 Axes>"
            ]
          },
          "metadata": {
            "tags": [],
            "needs_background": "light"
          }
        }
      ]
    },
    {
      "cell_type": "markdown",
      "metadata": {
        "id": "gwtiZ8kRj8Rs"
      },
      "source": [
        "### seq2seq + attention으로 요약 모델 테스트하기"
      ]
    },
    {
      "cell_type": "code",
      "metadata": {
        "id": "DX9Og6Wmj_7h"
      },
      "source": [
        "src_index_to_word = src_tokenizer.index_word # 원문 단어 집합에서 정수 -> 단어를 얻음\n",
        "tar_word_to_index = tar_tokenizer.word_index # 요약 단어 집합에서 단어 -> 정수를 얻음\n",
        "tar_index_to_word = tar_tokenizer.index_word # 요약 단어 집합에서 정수 -> 단어를 얻음"
      ],
      "execution_count": 64,
      "outputs": []
    },
    {
      "cell_type": "code",
      "metadata": {
        "id": "sGphdoTakBh4"
      },
      "source": [
        "# 인코더 설계\n",
        "encoder_model = Model(inputs=encoder_inputs, outputs=[encoder_outputs, state_h, state_c])"
      ],
      "execution_count": 65,
      "outputs": []
    },
    {
      "cell_type": "code",
      "metadata": {
        "id": "Trxo-CHdkCy0"
      },
      "source": [
        "# 이전 시점의 상태들을 저장하는 텐서\n",
        "decoder_state_input_h = Input(shape=(hidden_size,))\n",
        "decoder_state_input_c = Input(shape=(hidden_size,))\n",
        "\n",
        "dec_emb2 = dec_emb_layer(decoder_inputs)\n",
        "# 문장의 다음 단어를 예측하기 위해서 초기 상태(initial_state)를 이전 시점의 상태로 사용. 이는 뒤의 함수 decode_sequence()에 구현\n",
        "# 훈련 과정에서와 달리 LSTM의 리턴하는 은닉 상태와 셀 상태인 state_h와 state_c를 버리지 않음.\n",
        "decoder_outputs2, state_h2, state_c2 = decoder_lstm(dec_emb2, initial_state=[decoder_state_input_h, decoder_state_input_c])"
      ],
      "execution_count": 66,
      "outputs": []
    },
    {
      "cell_type": "code",
      "metadata": {
        "id": "zkr0LkiWkEuW"
      },
      "source": [
        "# 어텐션 함수\n",
        "decoder_hidden_state_input = Input(shape=(text_max_len, hidden_size))\n",
        "attn_out_inf, attn_states_inf = attn_layer([decoder_hidden_state_input, decoder_outputs2])\n",
        "decoder_inf_concat = Concatenate(axis=-1, name='concat')([decoder_outputs2, attn_out_inf])\n",
        "\n",
        "# 디코더의 출력층\n",
        "decoder_outputs2 = decoder_softmax_layer(decoder_inf_concat) \n",
        "\n",
        "# 최종 디코더 모델\n",
        "decoder_model = Model(\n",
        "    [decoder_inputs] + [decoder_hidden_state_input,decoder_state_input_h, decoder_state_input_c],\n",
        "    [decoder_outputs2] + [state_h2, state_c2])"
      ],
      "execution_count": 67,
      "outputs": []
    },
    {
      "cell_type": "code",
      "metadata": {
        "id": "26KrWoqBqAoL"
      },
      "source": [
        "def decode_sequence(input_seq):\n",
        "    # 입력으로부터 인코더의 상태를 얻음\n",
        "    e_out, e_h, e_c = encoder_model.predict(input_seq)\n",
        "\n",
        "     # <SOS>에 해당하는 토큰 생성\n",
        "    target_seq = np.zeros((1,1))\n",
        "    target_seq[0, 0] = tar_word_to_index['sostoken']\n",
        "\n",
        "    stop_condition = False\n",
        "    decoded_sentence = ''\n",
        "    while not stop_condition: # stop_condition이 True가 될 때까지 루프 반복\n",
        "\n",
        "        output_tokens, h, c = decoder_model.predict([target_seq] + [e_out, e_h, e_c])\n",
        "        sampled_token_index = np.argmax(output_tokens[0, -1, :])\n",
        "        sampled_token = tar_index_to_word[sampled_token_index]\n",
        "\n",
        "        if(sampled_token!='eostoken'):\n",
        "            decoded_sentence += ' '+sampled_token\n",
        "\n",
        "        #  <eos>에 도달하거나 최대 길이를 넘으면 중단.\n",
        "        if (sampled_token == 'eostoken'  or len(decoded_sentence.split()) >= (summary_max_len-1)):\n",
        "            stop_condition = True\n",
        "\n",
        "        # 길이가 1인 타겟 시퀀스를 업데이트\n",
        "        target_seq = np.zeros((1,1))\n",
        "        target_seq[0, 0] = sampled_token_index\n",
        "\n",
        "        # 상태를 업데이트 합니다.\n",
        "        e_h, e_c = h, c\n",
        "\n",
        "    return decoded_sentence"
      ],
      "execution_count": 85,
      "outputs": []
    },
    {
      "cell_type": "code",
      "metadata": {
        "id": "G2-zbePbkIoP"
      },
      "source": [
        "# 원문의 정수 시퀀스를 텍스트 시퀀스로 변환\n",
        "def seq2text(input_seq):\n",
        "    temp=''\n",
        "    for i in input_seq:\n",
        "        if(i!=0):\n",
        "            temp = temp + src_index_to_word[i]+' '\n",
        "    return temp"
      ],
      "execution_count": 78,
      "outputs": []
    },
    {
      "cell_type": "code",
      "metadata": {
        "colab": {
          "base_uri": "https://localhost:8080/"
        },
        "id": "eoYRtA_ekLOP",
        "outputId": "a432c189-810d-4232-847b-c579d8b44543"
      },
      "source": [
        "for i in range(1, 10):\n",
        "    print(\"원문 : \",seq2text(encoder_input_test[i]))\n",
        "    print(\"실제 요약문 :\",seq2summary(decoder_input_test[i]))\n",
        "    #print(\"예측 요약문 :\",decode_sequence(encoder_input_test[i].reshape(1, text_max_len)))\n",
        "    print(\"\\n\")"
      ],
      "execution_count": 92,
      "outputs": [
        {
          "output_type": "stream",
          "text": [
            "원문 :  포인트 서비스 사진 제공 휴대폰 멤버십 포인트 가능한 포인트 서비스 2일 밝혔다 포인트 서비스는 별도의 애플리케이션 없이 고객이 휴대폰 입력하면 멤버십 전국 사용할 카카오톡 링크를 카카오톡 기반으로 가입할 특히 해당 서비스는 자체 개발한 것으로 별도의 프로그램 설치 없이 기존 없다 2018년 멤버십 이를 기반으로 결제 할인 등을 있는 서비스를 제공하고 멤버십 포인트 업계 최고 수준이다 사용해 상품을 등에 있으며 수도 고객들이 없이 업계 최대 수준의 혜택을 누릴 있도록 해당 서비스를 됐다며 앞으로도 앱과 잇는 서비스를 확대해 고객들의 있는 다양한 서비스를 선보일 것이라고 말했다 신미진 기자 mjshin mkinternet com 매일경제 mk co kr 무단전재 재배포 금지 \n",
            "실제 요약문 : 휴대폰 \n",
            "\n",
            "\n",
            "원문 :  장보인 기자기자 페이지 14일 전적 21 득점 광고 2021 03 14 20 34 송고 \n",
            "실제 요약문 : 프로축구2부 \n",
            "\n",
            "\n",
            "원문 :  수천만 원의 30대가 부산 컴퓨터 사용 사기 혐의로 30대 a씨를 오늘 밝혔습니다 a씨는 올해 1월부터 부산 사장 b씨 휴대전화를 원을 혐의를 받고 있습니다 그는 같은 경남 일대 상대로 걸쳐 원을 것으로 a씨는 주로 인터넷 것으로 피해자 명의로 현금으로 요구하는 보였습니다 경찰은 않은 a씨를 대전 \n",
            "실제 요약문 : 휴대폰 \n",
            "\n",
            "\n",
            "원문 :  채새롬 기자기자 100만 달러 이하 높은 비판 돌파 중소 지원 프로그램 발표 애플 제공 재판매 db 금지 채새롬 기자 애플이 내년부터 세계 중소 자사 앱스토어 유료 앱과 인앱결제 관련 수수료를 기존 30 15 결정은 결제 수수료 30 모든 콘텐츠로 끈다 애플은 내년 1월 1일 새로운 앱스토어 중소 규모 지원 프로그램을 18일 밝혔다 따르면 올해 100만 달러 15 앱스토어 수수료를 된다 개발자 기본 30 광고 수수료 100만 달러 이상인 경우 앱스토어 30 그대로 업계에서는 최근 앱스토어 계기로 애플 구글 위에 애플이 같은 위해 보고 애플은 코로나19 인한 경제 위기 위해 프로그램을 설명했다 애플에 따르면 앱스토어 개발자 대형 프로그램 혜택을 받을 애플 ceo는 중소 규모 글로벌 세계 중소 개발자들이 고객이 앱을 개발할 있도록 돕기 위해 프로그램을 출시한다고 설명했다 애플의 앱스토어 촬영 정성호 참여 중인 100만 달러 기준을 경우 남은 기본 향후 100만 달러 떨어질 경우 15 대상 애플은 자세한 12월 밝혔다 현재 있으며 매주 이상이 작년 달러 규모의 매출을 냈다 앞서 구글은 내년 1월부터 자사 모든 앱과 결제 30 수수료를 강한 사고 구글은 음악 자체 결제 일부 국내 매출 비중은 70 이날 인한 국내 모바일 콘텐츠 산업의 매출 3조원 이상으로 주장했다 구글 애플이 자체 개발한 내부 결제 자사 앱스토어에서 유료 콘텐츠를 신용카드 등을 통해 하는 구글과 애플은 통한 결제 금액의 30 플랫폼 srchae yna co kr2020 11 18 20 00 송고 \n",
            "실제 요약문 : 애플 30 15 \n",
            "\n",
            "\n",
            "원문 :  기자기자 페이지비트코인 상승 박은주 제작 사진합성 일러스트 특파원 가상화폐 대표주자 비트코인 가격이 13일 사상 처음으로 6만 달러 위로 비트코인 가격은 이날 오전 11시 기록하고 다시 6만 달러 아래로 afp 통신이 전했다 지난달 16일 5만 달러를 찍은 재닛 옐런 미국 재무장관의 부정적 평가 등으로 비트코인 가격은 이달 초부터 다시 반등했다 광고 비트코인 가격은 지난해 10월 미국 온라인 결제업체 페이팔이 가상화폐를 결제수단으로 사용할 있도록 하겠다고 발표한 이후 상승세가 여기에 미국 전기차 업체 테슬라가 지난달 비트코인을 15억달러 어치 결제 수단으로 방침을 공시한 것이 가상화폐의 트위터 최고경영자 도시는 래퍼 비트코인을 온라인 사용할 있도록 개발을 지원하는 펀드를 했다 세계 금융위기 직후인 2009년 비트코인 가격은 지난 1년 사이 투기 아니라 금융 기업의 관심이 맞물리면서 블룸버그 통신이 보도했다 가상화폐 비트코인이 디지털 같은 안정적인 자산이 됐다고 한편 비트코인 가격에 있는 거품이 보고 yna co kr2021 03 13 22 49 송고 \n",
            "실제 요약문 : 비트코인 가격 한때 6만 달러 돌파 사상 처음 \n",
            "\n",
            "\n",
            "원문 :  비트코인 연합뉴스tv 제공 성서호 기자 3일 오후 가상화폐 비트코인 가격이 국내 거래소에서 거래됐다 가상화폐 거래소 빗썸에 따르면 이날 오후 30분 현재 비트코인은 개당 한때 고점을 높였다 같은 거래소인 업비트에서는 거래 중이다 업비트에서는 이날 올랐다 광고 가상화폐는 주식시장과 달리 거래소 단위로 거래가 이뤄져 같은 종류라도 거래소별로 거래 가격이 다르다 soho yna co kr2021 03 03 15 32 송고 \n",
            "실제 요약문 : 비트코인 5천600만원대로 상승 \n",
            "\n",
            "\n",
            "원문 :  앵커 현대 자동차가 처음으로 전기차 전용 플랫폼을 적용한 보조금을 감안하면 있는 여기에 높은 공간 테슬라에 기자입니다 기자 현대차가 어제 처음으로 선보인 차량의 역할을 하는 플랫폼을 전기차 없이 실내 공간을 활용할 있습니다 경쟁 테슬라 이른바 위한 최대 있는 충전 시간도 많이 현대차 배터리 80 만에 있고 정도 있습니다 1회 충전 최대 테슬라 모델y 있고 가는 겁니다 가격은 있지만 보조금을 많이 받을 경우 있습니다 있습니다 전기차 대한 밝혀지지 않은 상태에서 때문입니다 이에 대해 현대차 사장은 고객에게 나올 있도록 있다고 말했습니다 \n",
            "실제 요약문 : 아이오닉5 테슬라에 \n",
            "\n",
            "\n",
            "원문 :  디브리핑은 매일경제 블록크래프터스 고위드와 함께하는 디스트리트에서 제공하는 암호화폐 시황입니다 안녕하세요 2021년 3월 17일 오전 8시 10분 디브리핑의 문호준입니다 지난 하루 동안의 암호화폐 주요 시황 살펴보겠습니다 비트코인 여기를 누르시면 크게 보실 있습니다 7천만 원을 이틀간 조정 받은 비트코인은 전일 오랜만에 소폭 7천만 원을 다시 보다 많은 관심을 필요가 주요 코인 여기를 누르시면 크게 보실 있습니다 모빌리티 있는 전일 인도네시아 기업에 플랫폼을 소식을 50 넘게 급등했습니다 가격이 부근까지 오르며 대비 상승한 코인 하나가 업비트 거래소 최근 코인을 보면 가장 많이 올랐고 비롯해 최근 상대적으로 않은 상승 남아 있어 관심 않는다는 가정 합니다 전일 44 등의 nft 이름을 올렸습니다 마이너 주도한 시장 강세가 끊이지 않으면 조정을 받은 다시 것으로 여기를 누르시면 크게 보실 있습니다 비트코인 현재 60 수준으로 과거 30 것을 감안하면 쉽게 않을 가능성이 높습니다 비트코인이 다시 마이너 대한 관심을 이것으로 2021년 3월 17일 디브리핑을 마치겠습니다 감사합니다 문호준 암호화폐 애널리스트 매일경제 mk co kr 무단전재 재배포 금지 \n",
            "실제 요약문 : 비트코인 크게 \n",
            "\n",
            "\n",
            "원문 :  축구 10일 수도 사망 원인 요구하는 참여해 지난해 11월 사망 과정에서 비롯한 leekm yna co kr \n",
            "실제 요약문 : 축구 \n",
            "\n",
            "\n"
          ],
          "name": "stdout"
        }
      ]
    },
    {
      "cell_type": "code",
      "metadata": {
        "id": "RwKGpJpzor0C"
      },
      "source": [
        ""
      ],
      "execution_count": null,
      "outputs": []
    }
  ]
}