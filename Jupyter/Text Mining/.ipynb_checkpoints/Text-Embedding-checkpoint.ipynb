{
 "cells": [
  {
   "cell_type": "markdown",
   "id": "strange-edition",
   "metadata": {},
   "source": [
    "## 오픈소스 SW 프로젝트\n",
    "#### - 텍스트 임베디딩 학습"
   ]
  },
  {
   "cell_type": "code",
   "execution_count": 1,
   "id": "stainless-heating",
   "metadata": {},
   "outputs": [],
   "source": [
    "import numpy as np\n",
    "import gensim\n",
    "from urllib.request import urlretrieve, urlopen\n",
    "import gzip\n",
    "import zipfile"
   ]
  },
  {
   "cell_type": "code",
   "execution_count": 5,
   "id": "compact-commons",
   "metadata": {},
   "outputs": [
    {
     "data": {
      "text/plain": [
       "<bound method ZipFile.close of <zipfile.ZipFile filename='glove.6B.zip' mode='r'>>"
      ]
     },
     "execution_count": 5,
     "metadata": {},
     "output_type": "execute_result"
    }
   ],
   "source": [
    "urlretrieve(\"http://nlp.stanford.edu/data/glove.6B.zip\", filename=\"glove.6B.zip\")\n",
    "zf = zipfile.ZipFile('glove.6B.zip')\n",
    "zf.extractall()\n",
    "zf.close"
   ]
  },
  {
   "cell_type": "code",
   "execution_count": 9,
   "id": "linear-newfoundland",
   "metadata": {},
   "outputs": [],
   "source": [
    "glove_dict = dict()\n",
    "f = open('glove.6B.100d.txt', encoding='utf8')\n",
    "\n",
    "for line in f:\n",
    "    word_vector = line.split()\n",
    "    word = word_vector[0]\n",
    "    word_vector_arr = np.asarray(word_vector[1:], dtype='float32')\n",
    "    glove_dict[word] = word_vector_arr\n",
    "f.close()"
   ]
  },
  {
   "cell_type": "markdown",
   "id": "demanding-criticism",
   "metadata": {},
   "source": [
    "fastText 설치 오류 발생!\n",
    " - MAC OS / 리눅스에서 지원하기 때문에 윈도우에서는 실행 불가..\n",
    " - github의 exe 바이너리 파일을 활용해 윈도우에서 사용할 수 있다고 하는데 난 안 됨."
   ]
  },
  {
   "cell_type": "code",
   "execution_count": 1,
   "id": "together-authorization",
   "metadata": {
    "scrolled": true
   },
   "outputs": [
    {
     "name": "stdout",
     "output_type": "stream",
     "text": [
      "Collecting fasttext\n",
      "  Using cached fasttext-0.9.2.tar.gz (68 kB)\n",
      "Requirement already satisfied: pybind11>=2.2 in c:\\users\\fujeo\\anaconda3\\envs\\d_study\\lib\\site-packages (from fasttext) (2.6.2)\n",
      "Requirement already satisfied: setuptools>=0.7.0 in c:\\users\\fujeo\\anaconda3\\envs\\d_study\\lib\\site-packages (from fasttext) (52.0.0.post20210125)\n",
      "Requirement already satisfied: numpy in c:\\users\\fujeo\\anaconda3\\envs\\d_study\\lib\\site-packages (from fasttext) (1.18.5)\n",
      "Building wheels for collected packages: fasttext\n",
      "  Building wheel for fasttext (setup.py): started\n",
      "  Building wheel for fasttext (setup.py): finished with status 'error'\n",
      "  Running setup.py clean for fasttext\n",
      "Failed to build fasttext\n",
      "Installing collected packages: fasttext\n",
      "    Running setup.py install for fasttext: started\n",
      "    Running setup.py install for fasttext: finished with status 'error'\n",
      "Note: you may need to restart the kernel to use updated packages.\n"
     ]
    },
    {
     "name": "stderr",
     "output_type": "stream",
     "text": [
      "  ERROR: Command errored out with exit status 1:\n",
      "   command: 'C:\\Users\\fujeo\\anaconda3\\envs\\d_study\\python.exe' -u -c 'import sys, setuptools, tokenize; sys.argv[0] = '\"'\"'C:\\\\Users\\\\fujeo\\\\AppData\\\\Local\\\\Temp\\\\pip-install-1sanpnm1\\\\fasttext_2b53aba9f7a34bfabeecd87732b312c7\\\\setup.py'\"'\"'; __file__='\"'\"'C:\\\\Users\\\\fujeo\\\\AppData\\\\Local\\\\Temp\\\\pip-install-1sanpnm1\\\\fasttext_2b53aba9f7a34bfabeecd87732b312c7\\\\setup.py'\"'\"';f=getattr(tokenize, '\"'\"'open'\"'\"', open)(__file__);code=f.read().replace('\"'\"'\\r\\n'\"'\"', '\"'\"'\\n'\"'\"');f.close();exec(compile(code, __file__, '\"'\"'exec'\"'\"'))' bdist_wheel -d 'C:\\Users\\fujeo\\AppData\\Local\\Temp\\pip-wheel-f0kilqsu'\n",
      "       cwd: C:\\Users\\fujeo\\AppData\\Local\\Temp\\pip-install-1sanpnm1\\fasttext_2b53aba9f7a34bfabeecd87732b312c7\\\n",
      "  Complete output (18 lines):\n",
      "  running bdist_wheel\n",
      "  running build\n",
      "  running build_py\n",
      "  creating build\n",
      "  creating build\\lib.win-amd64-3.7\n",
      "  creating build\\lib.win-amd64-3.7\\fasttext\n",
      "  copying python\\fasttext_module\\fasttext\\FastText.py -> build\\lib.win-amd64-3.7\\fasttext\n",
      "  copying python\\fasttext_module\\fasttext\\__init__.py -> build\\lib.win-amd64-3.7\\fasttext\n",
      "  creating build\\lib.win-amd64-3.7\\fasttext\\util\n",
      "  copying python\\fasttext_module\\fasttext\\util\\util.py -> build\\lib.win-amd64-3.7\\fasttext\\util\n",
      "  copying python\\fasttext_module\\fasttext\\util\\__init__.py -> build\\lib.win-amd64-3.7\\fasttext\\util\n",
      "  creating build\\lib.win-amd64-3.7\\fasttext\\tests\n",
      "  copying python\\fasttext_module\\fasttext\\tests\\test_configurations.py -> build\\lib.win-amd64-3.7\\fasttext\\tests\n",
      "  copying python\\fasttext_module\\fasttext\\tests\\test_script.py -> build\\lib.win-amd64-3.7\\fasttext\\tests\n",
      "  copying python\\fasttext_module\\fasttext\\tests\\__init__.py -> build\\lib.win-amd64-3.7\\fasttext\\tests\n",
      "  running build_ext\n",
      "  building 'fasttext_pybind' extension\n",
      "  error: Microsoft Visual C++ 14.0 or greater is required. Get it with \"Microsoft C++ Build Tools\": https://visualstudio.microsoft.com/visual-cpp-build-tools/\n",
      "  ----------------------------------------\n",
      "  ERROR: Failed building wheel for fasttext\n",
      "    ERROR: Command errored out with exit status 1:\n",
      "     command: 'C:\\Users\\fujeo\\anaconda3\\envs\\d_study\\python.exe' -u -c 'import sys, setuptools, tokenize; sys.argv[0] = '\"'\"'C:\\\\Users\\\\fujeo\\\\AppData\\\\Local\\\\Temp\\\\pip-install-1sanpnm1\\\\fasttext_2b53aba9f7a34bfabeecd87732b312c7\\\\setup.py'\"'\"'; __file__='\"'\"'C:\\\\Users\\\\fujeo\\\\AppData\\\\Local\\\\Temp\\\\pip-install-1sanpnm1\\\\fasttext_2b53aba9f7a34bfabeecd87732b312c7\\\\setup.py'\"'\"';f=getattr(tokenize, '\"'\"'open'\"'\"', open)(__file__);code=f.read().replace('\"'\"'\\r\\n'\"'\"', '\"'\"'\\n'\"'\"');f.close();exec(compile(code, __file__, '\"'\"'exec'\"'\"'))' install --record 'C:\\Users\\fujeo\\AppData\\Local\\Temp\\pip-record-66jtlbhr\\install-record.txt' --single-version-externally-managed --compile --install-headers 'C:\\Users\\fujeo\\anaconda3\\envs\\d_study\\Include\\fasttext'\n",
      "         cwd: C:\\Users\\fujeo\\AppData\\Local\\Temp\\pip-install-1sanpnm1\\fasttext_2b53aba9f7a34bfabeecd87732b312c7\\\n",
      "    Complete output (18 lines):\n",
      "    running install\n",
      "    running build\n",
      "    running build_py\n",
      "    creating build\n",
      "    creating build\\lib.win-amd64-3.7\n",
      "    creating build\\lib.win-amd64-3.7\\fasttext\n",
      "    copying python\\fasttext_module\\fasttext\\FastText.py -> build\\lib.win-amd64-3.7\\fasttext\n",
      "    copying python\\fasttext_module\\fasttext\\__init__.py -> build\\lib.win-amd64-3.7\\fasttext\n",
      "    creating build\\lib.win-amd64-3.7\\fasttext\\util\n",
      "    copying python\\fasttext_module\\fasttext\\util\\util.py -> build\\lib.win-amd64-3.7\\fasttext\\util\n",
      "    copying python\\fasttext_module\\fasttext\\util\\__init__.py -> build\\lib.win-amd64-3.7\\fasttext\\util\n",
      "    creating build\\lib.win-amd64-3.7\\fasttext\\tests\n",
      "    copying python\\fasttext_module\\fasttext\\tests\\test_configurations.py -> build\\lib.win-amd64-3.7\\fasttext\\tests\n",
      "    copying python\\fasttext_module\\fasttext\\tests\\test_script.py -> build\\lib.win-amd64-3.7\\fasttext\\tests\n",
      "    copying python\\fasttext_module\\fasttext\\tests\\__init__.py -> build\\lib.win-amd64-3.7\\fasttext\\tests\n",
      "    running build_ext\n",
      "    building 'fasttext_pybind' extension\n",
      "    error: Microsoft Visual C++ 14.0 or greater is required. Get it with \"Microsoft C++ Build Tools\": https://visualstudio.microsoft.com/visual-cpp-build-tools/\n",
      "    ----------------------------------------\n",
      "ERROR: Command errored out with exit status 1: 'C:\\Users\\fujeo\\anaconda3\\envs\\d_study\\python.exe' -u -c 'import sys, setuptools, tokenize; sys.argv[0] = '\"'\"'C:\\\\Users\\\\fujeo\\\\AppData\\\\Local\\\\Temp\\\\pip-install-1sanpnm1\\\\fasttext_2b53aba9f7a34bfabeecd87732b312c7\\\\setup.py'\"'\"'; __file__='\"'\"'C:\\\\Users\\\\fujeo\\\\AppData\\\\Local\\\\Temp\\\\pip-install-1sanpnm1\\\\fasttext_2b53aba9f7a34bfabeecd87732b312c7\\\\setup.py'\"'\"';f=getattr(tokenize, '\"'\"'open'\"'\"', open)(__file__);code=f.read().replace('\"'\"'\\r\\n'\"'\"', '\"'\"'\\n'\"'\"');f.close();exec(compile(code, __file__, '\"'\"'exec'\"'\"'))' install --record 'C:\\Users\\fujeo\\AppData\\Local\\Temp\\pip-record-66jtlbhr\\install-record.txt' --single-version-externally-managed --compile --install-headers 'C:\\Users\\fujeo\\anaconda3\\envs\\d_study\\Include\\fasttext' Check the logs for full command output.\n"
     ]
    }
   ],
   "source": [
    "pip install fasttext"
   ]
  },
  {
   "cell_type": "code",
   "execution_count": 11,
   "id": "durable-subscription",
   "metadata": {},
   "outputs": [
    {
     "ename": "ModuleNotFoundError",
     "evalue": "No module named 'fasttext'",
     "output_type": "error",
     "traceback": [
      "\u001b[1;31m---------------------------------------------------------------------------\u001b[0m",
      "\u001b[1;31mModuleNotFoundError\u001b[0m                       Traceback (most recent call last)",
      "\u001b[1;32m<ipython-input-11-3593945a1252>\u001b[0m in \u001b[0;36m<module>\u001b[1;34m\u001b[0m\n\u001b[1;32m----> 1\u001b[1;33m \u001b[1;32mimport\u001b[0m \u001b[0mfasttext\u001b[0m\u001b[1;33m.\u001b[0m\u001b[0mutil\u001b[0m\u001b[1;33m\u001b[0m\u001b[1;33m\u001b[0m\u001b[0m\n\u001b[0m",
      "\u001b[1;31mModuleNotFoundError\u001b[0m: No module named 'fasttext'"
     ]
    }
   ],
   "source": [
    "import fasttext.util"
   ]
  },
  {
   "cell_type": "code",
   "execution_count": null,
   "id": "identified-relay",
   "metadata": {},
   "outputs": [],
   "source": []
  }
 ],
 "metadata": {
  "kernelspec": {
   "display_name": "Python 3",
   "language": "python",
   "name": "python3"
  },
  "language_info": {
   "codemirror_mode": {
    "name": "ipython",
    "version": 3
   },
   "file_extension": ".py",
   "mimetype": "text/x-python",
   "name": "python",
   "nbconvert_exporter": "python",
   "pygments_lexer": "ipython3",
   "version": "3.7.9"
  }
 },
 "nbformat": 4,
 "nbformat_minor": 5
}
